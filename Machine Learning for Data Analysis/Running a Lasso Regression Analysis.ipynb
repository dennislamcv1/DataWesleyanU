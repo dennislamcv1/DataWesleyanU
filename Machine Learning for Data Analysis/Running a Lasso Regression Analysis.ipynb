{
 "cells": [
  {
   "cell_type": "markdown",
   "metadata": {},
   "source": [
    "## Running a Lasso Regression Analysis"
   ]
  },
  {
   "cell_type": "markdown",
   "metadata": {},
   "source": [
    "***"
   ]
  },
  {
   "cell_type": "markdown",
   "metadata": {},
   "source": [
    "### Project Description"
   ]
  },
  {
   "cell_type": "markdown",
   "metadata": {},
   "source": [
    "This week’s assignment involves running a lasso regression analysis. Lasso regression analysis is a\n",
    "shrinkage and variable selection method for linear regression models. The goal of lasso regression is to obtain the subset of predictors that minimizes prediction error for a quantitative response variable. The lasso does this by imposing a constraint on the model parameters that causes regression coefficients for some variables to shrink toward zero. Variables with a regression coefficient equal to zero after the shrinkage process are excluded from the model. Variables with non-zero regression coefficients variables are most strongly associated with the response variable. Explanatory variables can be either quantitative, categorical or both. "
   ]
  },
  {
   "cell_type": "markdown",
   "metadata": {},
   "source": [
    "Your assignment is to run a lasso regression analysis using k-fold cross validation to identify a subset of predictors from a larger pool of predictor variables that best predicts a quantitative response variable. "
   ]
  },
  {
   "cell_type": "markdown",
   "metadata": {},
   "source": [
    "## Data Dictionary"
   ]
  },
  {
   "cell_type": "markdown",
   "metadata": {},
   "source": [
    "| Field          | Description                                                                           |\n",
    "|----------------|---------------------------------------------------------------------------------------|\n",
    "| incomeperperson|\t2010 Gross Domestic Product per capita in constant 2000 US$.|\n",
    "| alcconsumption|\t2008 alcohol consumption per adult (age 15+), litres|\n",
    "| armedforcesrate|\tArmed forces personnel (% of total labor force)|\n",
    "| breastcancerper100TH|\t2002 breast cancer new cases per 100,000 female|\n",
    "| co2emissions|\t2006 cumulative CO2 emission (metric tons)|\n",
    "| femaleemployrate|\t2007 female employees age 15+ (% of population)|\n",
    "| employrate|\t2007 total employees age 15+ (% of population)|\n",
    "| HIVrate|\t2009 estimated HIV Prevalence %|\n",
    "| Internetuserate|\t2010 Internet users (per 100 people)|\n",
    "| lifeexpectancy|\t2011 life expectancy at birth (years)|\n",
    "| oilperperson|\t2010 oil Consumption per capita (tonnes per year and person)|\n",
    "| polityscore|\t2009 Democracy score (Polity)|\n",
    "| relectricperperson|\t2008 residential electricity consumption, per person (kWh)|\n",
    "| suicideper100TH|\t2005 Suicide, age adjusted, per 100 000|\n",
    "| urbanrate|\t2008 urban population (% of total)|"
   ]
  },
  {
   "cell_type": "markdown",
   "metadata": {},
   "source": [
    "## Summary"
   ]
  },
  {
   "cell_type": "markdown",
   "metadata": {},
   "source": []
  },
  {
   "cell_type": "markdown",
   "metadata": {},
   "source": [
    "### Import Libraries"
   ]
  },
  {
   "cell_type": "code",
   "execution_count": 1,
   "metadata": {},
   "outputs": [
    {
     "data": {
      "application/javascript": [
       "IPython.notebook.set_autosave_interval(60000)"
      ]
     },
     "metadata": {},
     "output_type": "display_data"
    },
    {
     "name": "stdout",
     "output_type": "stream",
     "text": [
      "Autosaving every 60 seconds\n"
     ]
    }
   ],
   "source": [
    "import numpy as np\n",
    "import pandas as pd\n",
    "import matplotlib.pyplot as plt\n",
    "import seaborn as sns\n",
    "import sklearn\n",
    "# import shap\n",
    "# import statsmodels.api as sm\n",
    "# import datetime\n",
    "# from datetime import datetime, timedelta\n",
    "# import scipy.stats\n",
    "# import pandas_profiling\n",
    "# from pandas_profiling import ProfileReport\n",
    "# import graphviz\n",
    "\n",
    "# import xgboost as xgb\n",
    "# from xgboost import XGBClassifier, XGBRegressor\n",
    "# from xgboost import to_graphviz, plot_importance\n",
    "\n",
    "#from sklearn.experimental import enable_hist_gradient_boosting\n",
    "#from sklearn.linear_model import ElasticNet, Lasso, LinearRegression, LogisticRegression, Ridge\n",
    "#from sklearn.ensemble import RandomForestClassifier, RandomForestRegressor, ExtraTreesClassifier, ExtraTreesRegressor\n",
    "#from sklearn.ensemble import GradientBoostingClassifier, GradientBoostingRegressor, HistGradientBoostingClassifier, HistGradientBoostingRegressor\n",
    "\n",
    "\n",
    "%matplotlib inline\n",
    "#sets the default autosave frequency in seconds\n",
    "%autosave 60 \n",
    "#sns.set_style('dark')\n",
    "#sns.set(font_scale=1.2)\n",
    "\n",
    "plt.rc('axes', labelsize=14)\n",
    "plt.rc('xtick', labelsize=12)\n",
    "plt.rc('ytick', labelsize=12)\n",
    "\n",
    "#from sklearn.tree import DecisionTreeClassifier\n",
    "#from sklearn.ensemble import RandomForestClassifier\n",
    "from sklearn.linear_model import LassoLarsCV\n",
    "\n",
    "#from sklearn.pipeline import Pipeline\n",
    "#from sklearn.model_selection import RepeatedStratifiedKFold\n",
    "#from sklearn.feature_selection import RFE, RFECV, SelectKBest, f_classif, f_regression, chi2\n",
    "\n",
    "#from sklearn.inspection import permutation_importance\n",
    "from sklearn.model_selection import cross_val_score, train_test_split, GridSearchCV, RandomizedSearchCV\n",
    "from sklearn.preprocessing import LabelEncoder, StandardScaler, MinMaxScaler, OneHotEncoder\n",
    "#from sklearn.pipeline import Pipeline\n",
    "from sklearn.tree import export_graphviz, plot_tree\n",
    "from sklearn.metrics import confusion_matrix, classification_report, mean_absolute_error, mean_squared_error,r2_score\n",
    "from sklearn.metrics import plot_confusion_matrix, plot_precision_recall_curve, plot_roc_curve, accuracy_score\n",
    "from sklearn.metrics import auc, f1_score, precision_score, recall_score, roc_auc_score\n",
    "\n",
    "\n",
    "#from tpot import TPOTClassifier, TPOTRegressor\n",
    "#from imblearn.under_sampling import RandomUnderSampler\n",
    "#from imblearn.over_sampling import RandomOverSampler\n",
    "#from imblearn.over_sampling import SMOTE\n",
    "\n",
    "import warnings\n",
    "warnings.filterwarnings('ignore')\n",
    "\n",
    "# import pickle\n",
    "# from pickle import dump, load\n",
    "\n",
    "# Use Folium library to plot values on a map.\n",
    "#import folium\n",
    "\n",
    "# Use Feature-Engine library\n",
    "\n",
    "#import feature_engine.missing_data_imputers as mdi\n",
    "#from feature_engine.outlier_removers import Winsorizer\n",
    "#from feature_engine import categorical_encoders as ce\n",
    "#from feature_engine.discretisation import EqualWidthDiscretiser, EqualFrequencyDiscretiser, DecisionTreeDiscretiser\n",
    "#from feature_engine.encoding import OrdinalEncoder\n",
    "\n",
    "np.random.seed(0)\n",
    "\n",
    "#from pycaret.classification import *\n",
    "#from pycaret.clustering import *\n",
    "#from pycaret.regression import *\n",
    "\n",
    "pd.set_option('display.max_columns',100)\n",
    "#pd.set_option('display.max_rows',100)\n",
    "pd.set_option('display.width', 1000)\n",
    "pd.option_context('float_format', '{:.2f}'.format)\n",
    "np.set_printoptions(suppress=True)"
   ]
  },
  {
   "cell_type": "markdown",
   "metadata": {},
   "source": [
    "## Exploratory Data Analysis"
   ]
  },
  {
   "cell_type": "code",
   "execution_count": 2,
   "metadata": {},
   "outputs": [],
   "source": [
    "df = pd.read_csv(\"gapminderfinal6.csv\")"
   ]
  },
  {
   "cell_type": "code",
   "execution_count": 3,
   "metadata": {},
   "outputs": [
    {
     "data": {
      "text/html": [
       "<div>\n",
       "<style scoped>\n",
       "    .dataframe tbody tr th:only-of-type {\n",
       "        vertical-align: middle;\n",
       "    }\n",
       "\n",
       "    .dataframe tbody tr th {\n",
       "        vertical-align: top;\n",
       "    }\n",
       "\n",
       "    .dataframe thead th {\n",
       "        text-align: right;\n",
       "    }\n",
       "</style>\n",
       "<table border=\"1\" class=\"dataframe\">\n",
       "  <thead>\n",
       "    <tr style=\"text-align: right;\">\n",
       "      <th></th>\n",
       "      <th>incomeperperson</th>\n",
       "      <th>alcconsumption</th>\n",
       "      <th>armedforcesrate</th>\n",
       "      <th>breastcancerper100th</th>\n",
       "      <th>co2emissions</th>\n",
       "      <th>femaleemployrate</th>\n",
       "      <th>hivrate</th>\n",
       "      <th>internetuserate</th>\n",
       "      <th>lifeexpectancy</th>\n",
       "      <th>oilperperson</th>\n",
       "      <th>polityscore</th>\n",
       "      <th>relectricperperson</th>\n",
       "      <th>suicideper100th</th>\n",
       "      <th>employrate</th>\n",
       "      <th>urbanrate</th>\n",
       "      <th>demoscorecat</th>\n",
       "      <th>co2cat</th>\n",
       "      <th>incomecat</th>\n",
       "      <th>alccat</th>\n",
       "      <th>electricat</th>\n",
       "      <th>politycat</th>\n",
       "    </tr>\n",
       "  </thead>\n",
       "  <tbody>\n",
       "    <tr>\n",
       "      <th>0</th>\n",
       "      <td>8740.97</td>\n",
       "      <td>0.03</td>\n",
       "      <td>0.57</td>\n",
       "      <td>27</td>\n",
       "      <td>76.0</td>\n",
       "      <td>25.60</td>\n",
       "      <td>1.94</td>\n",
       "      <td>4</td>\n",
       "      <td>49</td>\n",
       "      <td>1.48</td>\n",
       "      <td>0</td>\n",
       "      <td>1173.18</td>\n",
       "      <td>7</td>\n",
       "      <td>55.70</td>\n",
       "      <td>24.04</td>\n",
       "      <td>1</td>\n",
       "      <td>1</td>\n",
       "      <td>3</td>\n",
       "      <td>0</td>\n",
       "      <td>0.155844</td>\n",
       "      <td>0</td>\n",
       "    </tr>\n",
       "    <tr>\n",
       "      <th>1</th>\n",
       "      <td>1915.00</td>\n",
       "      <td>7.29</td>\n",
       "      <td>1.02</td>\n",
       "      <td>57</td>\n",
       "      <td>224.0</td>\n",
       "      <td>42.10</td>\n",
       "      <td>1.94</td>\n",
       "      <td>45</td>\n",
       "      <td>77</td>\n",
       "      <td>1.48</td>\n",
       "      <td>9</td>\n",
       "      <td>636.34</td>\n",
       "      <td>8</td>\n",
       "      <td>51.40</td>\n",
       "      <td>46.72</td>\n",
       "      <td>3</td>\n",
       "      <td>2</td>\n",
       "      <td>1</td>\n",
       "      <td>3</td>\n",
       "      <td>0.101449</td>\n",
       "      <td>1</td>\n",
       "    </tr>\n",
       "    <tr>\n",
       "      <th>2</th>\n",
       "      <td>2231.99</td>\n",
       "      <td>0.69</td>\n",
       "      <td>2.31</td>\n",
       "      <td>24</td>\n",
       "      <td>2932.0</td>\n",
       "      <td>31.70</td>\n",
       "      <td>0.10</td>\n",
       "      <td>12</td>\n",
       "      <td>73</td>\n",
       "      <td>0.42</td>\n",
       "      <td>2</td>\n",
       "      <td>590.51</td>\n",
       "      <td>5</td>\n",
       "      <td>50.50</td>\n",
       "      <td>65.22</td>\n",
       "      <td>2</td>\n",
       "      <td>3</td>\n",
       "      <td>2</td>\n",
       "      <td>0</td>\n",
       "      <td>0.101449</td>\n",
       "      <td>1</td>\n",
       "    </tr>\n",
       "    <tr>\n",
       "      <th>3</th>\n",
       "      <td>21943.34</td>\n",
       "      <td>10.17</td>\n",
       "      <td>1.44</td>\n",
       "      <td>37</td>\n",
       "      <td>5033.0</td>\n",
       "      <td>47.55</td>\n",
       "      <td>1.94</td>\n",
       "      <td>81</td>\n",
       "      <td>70</td>\n",
       "      <td>1.48</td>\n",
       "      <td>4</td>\n",
       "      <td>1173.18</td>\n",
       "      <td>5</td>\n",
       "      <td>58.64</td>\n",
       "      <td>88.92</td>\n",
       "      <td>2</td>\n",
       "      <td>4</td>\n",
       "      <td>4</td>\n",
       "      <td>4</td>\n",
       "      <td>0.155844</td>\n",
       "      <td>1</td>\n",
       "    </tr>\n",
       "    <tr>\n",
       "      <th>4</th>\n",
       "      <td>1381.00</td>\n",
       "      <td>5.57</td>\n",
       "      <td>1.46</td>\n",
       "      <td>23</td>\n",
       "      <td>248.0</td>\n",
       "      <td>69.40</td>\n",
       "      <td>2.00</td>\n",
       "      <td>10</td>\n",
       "      <td>51</td>\n",
       "      <td>1.48</td>\n",
       "      <td>-2</td>\n",
       "      <td>173.00</td>\n",
       "      <td>15</td>\n",
       "      <td>75.70</td>\n",
       "      <td>56.70</td>\n",
       "      <td>1</td>\n",
       "      <td>2</td>\n",
       "      <td>1</td>\n",
       "      <td>2</td>\n",
       "      <td>0.101449</td>\n",
       "      <td>0</td>\n",
       "    </tr>\n",
       "    <tr>\n",
       "      <th>...</th>\n",
       "      <td>...</td>\n",
       "      <td>...</td>\n",
       "      <td>...</td>\n",
       "      <td>...</td>\n",
       "      <td>...</td>\n",
       "      <td>...</td>\n",
       "      <td>...</td>\n",
       "      <td>...</td>\n",
       "      <td>...</td>\n",
       "      <td>...</td>\n",
       "      <td>...</td>\n",
       "      <td>...</td>\n",
       "      <td>...</td>\n",
       "      <td>...</td>\n",
       "      <td>...</td>\n",
       "      <td>...</td>\n",
       "      <td>...</td>\n",
       "      <td>...</td>\n",
       "      <td>...</td>\n",
       "      <td>...</td>\n",
       "      <td>...</td>\n",
       "    </tr>\n",
       "    <tr>\n",
       "      <th>208</th>\n",
       "      <td>722.81</td>\n",
       "      <td>3.91</td>\n",
       "      <td>1.09</td>\n",
       "      <td>16</td>\n",
       "      <td>1425.0</td>\n",
       "      <td>67.60</td>\n",
       "      <td>0.40</td>\n",
       "      <td>28</td>\n",
       "      <td>75</td>\n",
       "      <td>1.48</td>\n",
       "      <td>-7</td>\n",
       "      <td>302.73</td>\n",
       "      <td>12</td>\n",
       "      <td>71.00</td>\n",
       "      <td>27.84</td>\n",
       "      <td>0</td>\n",
       "      <td>3</td>\n",
       "      <td>1</td>\n",
       "      <td>1</td>\n",
       "      <td>0.101449</td>\n",
       "      <td>0</td>\n",
       "    </tr>\n",
       "    <tr>\n",
       "      <th>209</th>\n",
       "      <td>8740.97</td>\n",
       "      <td>6.69</td>\n",
       "      <td>5.94</td>\n",
       "      <td>37</td>\n",
       "      <td>14.0</td>\n",
       "      <td>11.30</td>\n",
       "      <td>1.94</td>\n",
       "      <td>36</td>\n",
       "      <td>73</td>\n",
       "      <td>1.48</td>\n",
       "      <td>4</td>\n",
       "      <td>1173.18</td>\n",
       "      <td>10</td>\n",
       "      <td>32.00</td>\n",
       "      <td>71.90</td>\n",
       "      <td>2</td>\n",
       "      <td>0</td>\n",
       "      <td>3</td>\n",
       "      <td>2</td>\n",
       "      <td>0.155844</td>\n",
       "      <td>1</td>\n",
       "    </tr>\n",
       "    <tr>\n",
       "      <th>210</th>\n",
       "      <td>610.36</td>\n",
       "      <td>0.20</td>\n",
       "      <td>2.32</td>\n",
       "      <td>35</td>\n",
       "      <td>235.0</td>\n",
       "      <td>20.30</td>\n",
       "      <td>1.94</td>\n",
       "      <td>12</td>\n",
       "      <td>65</td>\n",
       "      <td>1.48</td>\n",
       "      <td>-2</td>\n",
       "      <td>130.06</td>\n",
       "      <td>6</td>\n",
       "      <td>39.00</td>\n",
       "      <td>30.64</td>\n",
       "      <td>1</td>\n",
       "      <td>2</td>\n",
       "      <td>0</td>\n",
       "      <td>0</td>\n",
       "      <td>0.101449</td>\n",
       "      <td>0</td>\n",
       "    </tr>\n",
       "    <tr>\n",
       "      <th>211</th>\n",
       "      <td>432.23</td>\n",
       "      <td>3.56</td>\n",
       "      <td>0.34</td>\n",
       "      <td>13</td>\n",
       "      <td>132.0</td>\n",
       "      <td>53.50</td>\n",
       "      <td>13.50</td>\n",
       "      <td>10</td>\n",
       "      <td>49</td>\n",
       "      <td>1.48</td>\n",
       "      <td>7</td>\n",
       "      <td>168.62</td>\n",
       "      <td>12</td>\n",
       "      <td>61.00</td>\n",
       "      <td>35.42</td>\n",
       "      <td>3</td>\n",
       "      <td>2</td>\n",
       "      <td>0</td>\n",
       "      <td>1</td>\n",
       "      <td>0.101449</td>\n",
       "      <td>1</td>\n",
       "    </tr>\n",
       "    <tr>\n",
       "      <th>212</th>\n",
       "      <td>320.77</td>\n",
       "      <td>4.96</td>\n",
       "      <td>1.03</td>\n",
       "      <td>19</td>\n",
       "      <td>590.0</td>\n",
       "      <td>58.10</td>\n",
       "      <td>14.30</td>\n",
       "      <td>12</td>\n",
       "      <td>51</td>\n",
       "      <td>1.48</td>\n",
       "      <td>1</td>\n",
       "      <td>297.88</td>\n",
       "      <td>14</td>\n",
       "      <td>66.80</td>\n",
       "      <td>37.34</td>\n",
       "      <td>2</td>\n",
       "      <td>3</td>\n",
       "      <td>0</td>\n",
       "      <td>1</td>\n",
       "      <td>0.101449</td>\n",
       "      <td>1</td>\n",
       "    </tr>\n",
       "  </tbody>\n",
       "</table>\n",
       "<p>213 rows × 21 columns</p>\n",
       "</div>"
      ],
      "text/plain": [
       "     incomeperperson  alcconsumption  armedforcesrate  breastcancerper100th  co2emissions  femaleemployrate  hivrate  internetuserate  lifeexpectancy  oilperperson  polityscore  relectricperperson  suicideper100th  employrate  urbanrate  demoscorecat  co2cat  incomecat  alccat  electricat  politycat\n",
       "0            8740.97            0.03             0.57                    27          76.0             25.60     1.94                4              49          1.48            0             1173.18                7       55.70      24.04             1       1          3       0    0.155844          0\n",
       "1            1915.00            7.29             1.02                    57         224.0             42.10     1.94               45              77          1.48            9              636.34                8       51.40      46.72             3       2          1       3    0.101449          1\n",
       "2            2231.99            0.69             2.31                    24        2932.0             31.70     0.10               12              73          0.42            2              590.51                5       50.50      65.22             2       3          2       0    0.101449          1\n",
       "3           21943.34           10.17             1.44                    37        5033.0             47.55     1.94               81              70          1.48            4             1173.18                5       58.64      88.92             2       4          4       4    0.155844          1\n",
       "4            1381.00            5.57             1.46                    23         248.0             69.40     2.00               10              51          1.48           -2              173.00               15       75.70      56.70             1       2          1       2    0.101449          0\n",
       "..               ...             ...              ...                   ...           ...               ...      ...              ...             ...           ...          ...                 ...              ...         ...        ...           ...     ...        ...     ...         ...        ...\n",
       "208           722.81            3.91             1.09                    16        1425.0             67.60     0.40               28              75          1.48           -7              302.73               12       71.00      27.84             0       3          1       1    0.101449          0\n",
       "209          8740.97            6.69             5.94                    37          14.0             11.30     1.94               36              73          1.48            4             1173.18               10       32.00      71.90             2       0          3       2    0.155844          1\n",
       "210           610.36            0.20             2.32                    35         235.0             20.30     1.94               12              65          1.48           -2              130.06                6       39.00      30.64             1       2          0       0    0.101449          0\n",
       "211           432.23            3.56             0.34                    13         132.0             53.50    13.50               10              49          1.48            7              168.62               12       61.00      35.42             3       2          0       1    0.101449          1\n",
       "212           320.77            4.96             1.03                    19         590.0             58.10    14.30               12              51          1.48            1              297.88               14       66.80      37.34             2       3          0       1    0.101449          1\n",
       "\n",
       "[213 rows x 21 columns]"
      ]
     },
     "execution_count": 3,
     "metadata": {},
     "output_type": "execute_result"
    }
   ],
   "source": [
    "df"
   ]
  },
  {
   "cell_type": "code",
   "execution_count": 4,
   "metadata": {},
   "outputs": [
    {
     "name": "stdout",
     "output_type": "stream",
     "text": [
      "<class 'pandas.core.frame.DataFrame'>\n",
      "RangeIndex: 213 entries, 0 to 212\n",
      "Data columns (total 21 columns):\n",
      " #   Column                Non-Null Count  Dtype  \n",
      "---  ------                --------------  -----  \n",
      " 0   incomeperperson       213 non-null    float64\n",
      " 1   alcconsumption        213 non-null    float64\n",
      " 2   armedforcesrate       213 non-null    float64\n",
      " 3   breastcancerper100th  213 non-null    int64  \n",
      " 4   co2emissions          213 non-null    float64\n",
      " 5   femaleemployrate      213 non-null    float64\n",
      " 6   hivrate               213 non-null    float64\n",
      " 7   internetuserate       213 non-null    int64  \n",
      " 8   lifeexpectancy        213 non-null    int64  \n",
      " 9   oilperperson          213 non-null    float64\n",
      " 10  polityscore           213 non-null    int64  \n",
      " 11  relectricperperson    213 non-null    float64\n",
      " 12  suicideper100th       213 non-null    int64  \n",
      " 13  employrate            213 non-null    float64\n",
      " 14  urbanrate             213 non-null    float64\n",
      " 15  demoscorecat          213 non-null    int64  \n",
      " 16  co2cat                213 non-null    int64  \n",
      " 17  incomecat             213 non-null    int64  \n",
      " 18  alccat                213 non-null    int64  \n",
      " 19  electricat            213 non-null    float64\n",
      " 20  politycat             213 non-null    int64  \n",
      "dtypes: float64(11), int64(10)\n",
      "memory usage: 35.1 KB\n"
     ]
    }
   ],
   "source": [
    "df.info()"
   ]
  },
  {
   "cell_type": "code",
   "execution_count": 5,
   "metadata": {},
   "outputs": [
    {
     "data": {
      "text/plain": [
       "(213, 21)"
      ]
     },
     "execution_count": 5,
     "metadata": {},
     "output_type": "execute_result"
    }
   ],
   "source": [
    "df.shape"
   ]
  },
  {
   "cell_type": "code",
   "execution_count": 6,
   "metadata": {},
   "outputs": [
    {
     "data": {
      "text/plain": [
       "Index(['incomeperperson', 'alcconsumption', 'armedforcesrate', 'breastcancerper100th', 'co2emissions', 'femaleemployrate', 'hivrate', 'internetuserate', 'lifeexpectancy', 'oilperperson', 'polityscore', 'relectricperperson', 'suicideper100th', 'employrate', 'urbanrate', 'demoscorecat', 'co2cat', 'incomecat', 'alccat', 'electricat', 'politycat'], dtype='object')"
      ]
     },
     "execution_count": 6,
     "metadata": {},
     "output_type": "execute_result"
    }
   ],
   "source": [
    "df.columns"
   ]
  },
  {
   "cell_type": "markdown",
   "metadata": {},
   "source": [
    "## Data Preprocessing"
   ]
  },
  {
   "cell_type": "markdown",
   "metadata": {},
   "source": [
    "### Drop unwanted features"
   ]
  },
  {
   "cell_type": "code",
   "execution_count": 7,
   "metadata": {},
   "outputs": [
    {
     "data": {
      "text/plain": [
       "Index(['incomeperperson', 'alcconsumption', 'armedforcesrate', 'breastcancerper100th', 'co2emissions', 'femaleemployrate', 'hivrate', 'internetuserate', 'lifeexpectancy', 'oilperperson', 'polityscore', 'relectricperperson', 'suicideper100th', 'employrate', 'urbanrate', 'demoscorecat', 'co2cat', 'incomecat', 'alccat', 'electricat', 'politycat'], dtype='object')"
      ]
     },
     "execution_count": 7,
     "metadata": {},
     "output_type": "execute_result"
    }
   ],
   "source": [
    "df.columns"
   ]
  },
  {
   "cell_type": "code",
   "execution_count": 8,
   "metadata": {},
   "outputs": [],
   "source": [
    "df.drop(['demoscorecat', 'co2cat', 'incomecat', 'alccat', 'electricat','polityscore','politycat'],axis=1, inplace=True)"
   ]
  },
  {
   "cell_type": "code",
   "execution_count": 9,
   "metadata": {},
   "outputs": [
    {
     "data": {
      "text/html": [
       "<div>\n",
       "<style scoped>\n",
       "    .dataframe tbody tr th:only-of-type {\n",
       "        vertical-align: middle;\n",
       "    }\n",
       "\n",
       "    .dataframe tbody tr th {\n",
       "        vertical-align: top;\n",
       "    }\n",
       "\n",
       "    .dataframe thead th {\n",
       "        text-align: right;\n",
       "    }\n",
       "</style>\n",
       "<table border=\"1\" class=\"dataframe\">\n",
       "  <thead>\n",
       "    <tr style=\"text-align: right;\">\n",
       "      <th></th>\n",
       "      <th>incomeperperson</th>\n",
       "      <th>alcconsumption</th>\n",
       "      <th>armedforcesrate</th>\n",
       "      <th>breastcancerper100th</th>\n",
       "      <th>co2emissions</th>\n",
       "      <th>femaleemployrate</th>\n",
       "      <th>hivrate</th>\n",
       "      <th>internetuserate</th>\n",
       "      <th>lifeexpectancy</th>\n",
       "      <th>oilperperson</th>\n",
       "      <th>relectricperperson</th>\n",
       "      <th>suicideper100th</th>\n",
       "      <th>employrate</th>\n",
       "      <th>urbanrate</th>\n",
       "    </tr>\n",
       "  </thead>\n",
       "  <tbody>\n",
       "    <tr>\n",
       "      <th>0</th>\n",
       "      <td>8740.97</td>\n",
       "      <td>0.03</td>\n",
       "      <td>0.57</td>\n",
       "      <td>27</td>\n",
       "      <td>76.0</td>\n",
       "      <td>25.60</td>\n",
       "      <td>1.94</td>\n",
       "      <td>4</td>\n",
       "      <td>49</td>\n",
       "      <td>1.48</td>\n",
       "      <td>1173.18</td>\n",
       "      <td>7</td>\n",
       "      <td>55.70</td>\n",
       "      <td>24.04</td>\n",
       "    </tr>\n",
       "    <tr>\n",
       "      <th>1</th>\n",
       "      <td>1915.00</td>\n",
       "      <td>7.29</td>\n",
       "      <td>1.02</td>\n",
       "      <td>57</td>\n",
       "      <td>224.0</td>\n",
       "      <td>42.10</td>\n",
       "      <td>1.94</td>\n",
       "      <td>45</td>\n",
       "      <td>77</td>\n",
       "      <td>1.48</td>\n",
       "      <td>636.34</td>\n",
       "      <td>8</td>\n",
       "      <td>51.40</td>\n",
       "      <td>46.72</td>\n",
       "    </tr>\n",
       "    <tr>\n",
       "      <th>2</th>\n",
       "      <td>2231.99</td>\n",
       "      <td>0.69</td>\n",
       "      <td>2.31</td>\n",
       "      <td>24</td>\n",
       "      <td>2932.0</td>\n",
       "      <td>31.70</td>\n",
       "      <td>0.10</td>\n",
       "      <td>12</td>\n",
       "      <td>73</td>\n",
       "      <td>0.42</td>\n",
       "      <td>590.51</td>\n",
       "      <td>5</td>\n",
       "      <td>50.50</td>\n",
       "      <td>65.22</td>\n",
       "    </tr>\n",
       "    <tr>\n",
       "      <th>3</th>\n",
       "      <td>21943.34</td>\n",
       "      <td>10.17</td>\n",
       "      <td>1.44</td>\n",
       "      <td>37</td>\n",
       "      <td>5033.0</td>\n",
       "      <td>47.55</td>\n",
       "      <td>1.94</td>\n",
       "      <td>81</td>\n",
       "      <td>70</td>\n",
       "      <td>1.48</td>\n",
       "      <td>1173.18</td>\n",
       "      <td>5</td>\n",
       "      <td>58.64</td>\n",
       "      <td>88.92</td>\n",
       "    </tr>\n",
       "    <tr>\n",
       "      <th>4</th>\n",
       "      <td>1381.00</td>\n",
       "      <td>5.57</td>\n",
       "      <td>1.46</td>\n",
       "      <td>23</td>\n",
       "      <td>248.0</td>\n",
       "      <td>69.40</td>\n",
       "      <td>2.00</td>\n",
       "      <td>10</td>\n",
       "      <td>51</td>\n",
       "      <td>1.48</td>\n",
       "      <td>173.00</td>\n",
       "      <td>15</td>\n",
       "      <td>75.70</td>\n",
       "      <td>56.70</td>\n",
       "    </tr>\n",
       "  </tbody>\n",
       "</table>\n",
       "</div>"
      ],
      "text/plain": [
       "   incomeperperson  alcconsumption  armedforcesrate  breastcancerper100th  co2emissions  femaleemployrate  hivrate  internetuserate  lifeexpectancy  oilperperson  relectricperperson  suicideper100th  employrate  urbanrate\n",
       "0          8740.97            0.03             0.57                    27          76.0             25.60     1.94                4              49          1.48             1173.18                7       55.70      24.04\n",
       "1          1915.00            7.29             1.02                    57         224.0             42.10     1.94               45              77          1.48              636.34                8       51.40      46.72\n",
       "2          2231.99            0.69             2.31                    24        2932.0             31.70     0.10               12              73          0.42              590.51                5       50.50      65.22\n",
       "3         21943.34           10.17             1.44                    37        5033.0             47.55     1.94               81              70          1.48             1173.18                5       58.64      88.92\n",
       "4          1381.00            5.57             1.46                    23         248.0             69.40     2.00               10              51          1.48              173.00               15       75.70      56.70"
      ]
     },
     "execution_count": 9,
     "metadata": {},
     "output_type": "execute_result"
    }
   ],
   "source": [
    "df.head()"
   ]
  },
  {
   "cell_type": "markdown",
   "metadata": {},
   "source": [
    "### Treat Missing Values"
   ]
  },
  {
   "cell_type": "code",
   "execution_count": 10,
   "metadata": {},
   "outputs": [
    {
     "data": {
      "text/plain": [
       "incomeperperson         0\n",
       "alcconsumption          0\n",
       "armedforcesrate         0\n",
       "breastcancerper100th    0\n",
       "co2emissions            0\n",
       "femaleemployrate        0\n",
       "hivrate                 0\n",
       "internetuserate         0\n",
       "lifeexpectancy          0\n",
       "oilperperson            0\n",
       "relectricperperson      0\n",
       "suicideper100th         0\n",
       "employrate              0\n",
       "urbanrate               0\n",
       "dtype: int64"
      ]
     },
     "execution_count": 10,
     "metadata": {},
     "output_type": "execute_result"
    }
   ],
   "source": [
    "df.isnull().sum()"
   ]
  },
  {
   "cell_type": "markdown",
   "metadata": {},
   "source": [
    "### Treat Duplicate Values"
   ]
  },
  {
   "cell_type": "code",
   "execution_count": 11,
   "metadata": {},
   "outputs": [
    {
     "data": {
      "text/plain": [
       "0"
      ]
     },
     "execution_count": 11,
     "metadata": {},
     "output_type": "execute_result"
    }
   ],
   "source": [
    "df.duplicated(keep='first').sum()"
   ]
  },
  {
   "cell_type": "markdown",
   "metadata": {},
   "source": [
    "### Treat Data Types"
   ]
  },
  {
   "cell_type": "code",
   "execution_count": 12,
   "metadata": {},
   "outputs": [
    {
     "name": "stdout",
     "output_type": "stream",
     "text": [
      "<class 'pandas.core.frame.DataFrame'>\n",
      "RangeIndex: 213 entries, 0 to 212\n",
      "Data columns (total 14 columns):\n",
      " #   Column                Non-Null Count  Dtype  \n",
      "---  ------                --------------  -----  \n",
      " 0   incomeperperson       213 non-null    float64\n",
      " 1   alcconsumption        213 non-null    float64\n",
      " 2   armedforcesrate       213 non-null    float64\n",
      " 3   breastcancerper100th  213 non-null    int64  \n",
      " 4   co2emissions          213 non-null    float64\n",
      " 5   femaleemployrate      213 non-null    float64\n",
      " 6   hivrate               213 non-null    float64\n",
      " 7   internetuserate       213 non-null    int64  \n",
      " 8   lifeexpectancy        213 non-null    int64  \n",
      " 9   oilperperson          213 non-null    float64\n",
      " 10  relectricperperson    213 non-null    float64\n",
      " 11  suicideper100th       213 non-null    int64  \n",
      " 12  employrate            213 non-null    float64\n",
      " 13  urbanrate             213 non-null    float64\n",
      "dtypes: float64(10), int64(4)\n",
      "memory usage: 23.4 KB\n"
     ]
    }
   ],
   "source": [
    "df.info()"
   ]
  },
  {
   "cell_type": "markdown",
   "metadata": {},
   "source": [
    "### Train Test Split"
   ]
  },
  {
   "cell_type": "code",
   "execution_count": 13,
   "metadata": {},
   "outputs": [
    {
     "data": {
      "text/plain": [
       "(213, 14)"
      ]
     },
     "execution_count": 13,
     "metadata": {},
     "output_type": "execute_result"
    }
   ],
   "source": [
    "df.shape"
   ]
  },
  {
   "cell_type": "code",
   "execution_count": 14,
   "metadata": {},
   "outputs": [],
   "source": [
    "X = df.iloc[:,1:14]\n",
    "y = df.iloc[:,0]"
   ]
  },
  {
   "cell_type": "markdown",
   "metadata": {},
   "source": [
    "### Train Test Split Cont'd"
   ]
  },
  {
   "cell_type": "code",
   "execution_count": 15,
   "metadata": {},
   "outputs": [
    {
     "data": {
      "text/plain": [
       "(array([[ 0.03,  0.57, 27.  , ...,  7.  , 55.7 , 24.04],\n",
       "        [ 7.29,  1.02, 57.  , ...,  8.  , 51.4 , 46.72],\n",
       "        [ 0.69,  2.31, 24.  , ...,  5.  , 50.5 , 65.22],\n",
       "        ...,\n",
       "        [ 0.2 ,  2.32, 35.  , ...,  6.  , 39.  , 30.64],\n",
       "        [ 3.56,  0.34, 13.  , ..., 12.  , 61.  , 35.42],\n",
       "        [ 4.96,  1.03, 19.  , ..., 14.  , 66.8 , 37.34]]),\n",
       " array([  8740.97,   1915.  ,   2231.99,  21943.34,   1381.  ,  11894.46,\n",
       "         10749.42,   1326.74,   8740.97,  25249.99,  26692.98,   2344.9 ,\n",
       "         19630.54,  12505.21,    558.06,   9243.59,   2737.67,  24496.05,\n",
       "          3545.65,    377.04,  62682.15,   1324.19,   1232.79,   2183.34,\n",
       "          4189.44,   4699.41,  17092.46,   2549.56,    276.2 ,    115.31,\n",
       "           557.95,    713.64,  25575.35,   1959.84,   8740.97,    239.52,\n",
       "           275.88,   6334.11,   2425.47,   3233.42,    336.37,    103.78,\n",
       "          1253.29,   8740.97,   5188.9 ,    591.07,   6338.49,   4495.05,\n",
       "         15313.86,   7381.31,  30532.28,    895.32,   6147.78,   4049.17,\n",
       "          1728.02,   1975.55,   2557.43,   8654.54,    131.8 ,   6238.54,\n",
       "           220.89,   8740.97,   2230.68,  27110.73,  22878.47,   8740.97,\n",
       "          4180.77,    354.6 ,   1258.76,  25306.19,    358.98,   8740.97,\n",
       "         13577.88,  20751.89,   5330.4 ,   8740.97,   8740.97,   1860.75,\n",
       "           411.5 ,    161.32,   1200.65,    371.42,   1392.41,  35536.07,\n",
       "          5634.  ,  33945.31,    786.7 ,   1143.83,   2161.55,    736.27,\n",
       "         27595.09,  22275.75,  18982.27,   3665.35,  39309.48,   2534.  ,\n",
       "          2481.72,    468.7 ,    760.26,   8740.97,  16372.5 ,   8740.97,\n",
       "           372.73,    554.88,   5011.22,   6746.61,    495.73,    155.03,\n",
       "          7885.47,  81647.1 ,   5332.24,  52301.59,  33923.31,   2221.19,\n",
       "           242.68,    184.14,   5184.71,   4038.86,    269.89,  11066.78,\n",
       "          2437.28,   8740.97,    609.13,   5182.14,   6105.28,   2146.36,\n",
       "           595.87, 105147.44,    772.93,   2222.34,   1844.35,    389.76,\n",
       "          8740.97,   2667.25,   8740.97,    268.26,  26551.84,   8740.97,\n",
       "          8740.97,  14778.16,    948.36,    180.08,    544.6 ,   8740.97,\n",
       "         39972.35,  11191.81,    668.55,   6243.57,   5900.62,    744.24,\n",
       "          1621.18,   3180.43,   1383.4 ,   6575.75,  11744.83,  15822.11,\n",
       "         33931.83,   8740.97,   2636.79,   2923.14,    338.27,   9175.8 ,\n",
       "          5248.58,   4885.05,   1784.07,  31993.2 ,   8740.97,   9425.33,\n",
       "           561.71,   1194.71,   8740.97,   8614.12,    268.33,  32535.83,\n",
       "          8445.53,  12729.45,   1144.1 ,   8740.97,   3745.65,  15461.76,\n",
       "          1295.74,    523.95,   2668.02,   1810.23,  32292.48,  37662.75,\n",
       "          1525.78,   8740.97,    279.18,    456.39,   2712.52,    369.57,\n",
       "           285.22,   2025.28,  10480.82,   3164.93,   5348.6 ,   2062.13,\n",
       "          1714.94,    377.42,   1036.83,  21087.39,  28033.49,  37491.18,\n",
       "          9106.33,    952.83,   1543.96,   5528.36,    722.81,   8740.97,\n",
       "           610.36,    432.23,    320.77]))"
      ]
     },
     "execution_count": 15,
     "metadata": {},
     "output_type": "execute_result"
    }
   ],
   "source": [
    "X.values, y.values"
   ]
  },
  {
   "cell_type": "code",
   "execution_count": 16,
   "metadata": {},
   "outputs": [],
   "source": [
    "X_train, X_test, y_train, y_test = train_test_split(X, y, test_size=0.2, random_state=0)"
   ]
  },
  {
   "cell_type": "code",
   "execution_count": 17,
   "metadata": {},
   "outputs": [
    {
     "data": {
      "text/plain": [
       "((170, 13), (43, 13), (170,), (43,))"
      ]
     },
     "execution_count": 17,
     "metadata": {},
     "output_type": "execute_result"
    }
   ],
   "source": [
    "X_train.shape, X_test.shape, y_train.shape, y_test.shape"
   ]
  },
  {
   "cell_type": "markdown",
   "metadata": {},
   "source": [
    "### Feature Scaling"
   ]
  },
  {
   "cell_type": "code",
   "execution_count": 18,
   "metadata": {},
   "outputs": [
    {
     "data": {
      "text/html": [
       "<div>\n",
       "<style scoped>\n",
       "    .dataframe tbody tr th:only-of-type {\n",
       "        vertical-align: middle;\n",
       "    }\n",
       "\n",
       "    .dataframe tbody tr th {\n",
       "        vertical-align: top;\n",
       "    }\n",
       "\n",
       "    .dataframe thead th {\n",
       "        text-align: right;\n",
       "    }\n",
       "</style>\n",
       "<table border=\"1\" class=\"dataframe\">\n",
       "  <thead>\n",
       "    <tr style=\"text-align: right;\">\n",
       "      <th></th>\n",
       "      <th>alcconsumption</th>\n",
       "      <th>armedforcesrate</th>\n",
       "      <th>breastcancerper100th</th>\n",
       "      <th>co2emissions</th>\n",
       "      <th>femaleemployrate</th>\n",
       "      <th>hivrate</th>\n",
       "      <th>internetuserate</th>\n",
       "      <th>lifeexpectancy</th>\n",
       "      <th>oilperperson</th>\n",
       "      <th>relectricperperson</th>\n",
       "      <th>suicideper100th</th>\n",
       "      <th>employrate</th>\n",
       "      <th>urbanrate</th>\n",
       "    </tr>\n",
       "  </thead>\n",
       "  <tbody>\n",
       "    <tr>\n",
       "      <th>16</th>\n",
       "      <td>18.85</td>\n",
       "      <td>3.71</td>\n",
       "      <td>36</td>\n",
       "      <td>1000.0</td>\n",
       "      <td>48.6</td>\n",
       "      <td>0.30</td>\n",
       "      <td>32</td>\n",
       "      <td>70</td>\n",
       "      <td>0.69</td>\n",
       "      <td>614.91</td>\n",
       "      <td>27</td>\n",
       "      <td>53.4</td>\n",
       "      <td>73.46</td>\n",
       "    </tr>\n",
       "    <tr>\n",
       "      <th>135</th>\n",
       "      <td>2.42</td>\n",
       "      <td>1.01</td>\n",
       "      <td>22</td>\n",
       "      <td>53.0</td>\n",
       "      <td>54.6</td>\n",
       "      <td>0.40</td>\n",
       "      <td>8</td>\n",
       "      <td>69</td>\n",
       "      <td>1.48</td>\n",
       "      <td>31.54</td>\n",
       "      <td>12</td>\n",
       "      <td>61.8</td>\n",
       "      <td>17.24</td>\n",
       "    </tr>\n",
       "    <tr>\n",
       "      <th>122</th>\n",
       "      <td>0.11</td>\n",
       "      <td>1.55</td>\n",
       "      <td>28</td>\n",
       "      <td>57.0</td>\n",
       "      <td>45.3</td>\n",
       "      <td>0.70</td>\n",
       "      <td>3</td>\n",
       "      <td>59</td>\n",
       "      <td>1.48</td>\n",
       "      <td>1173.18</td>\n",
       "      <td>7</td>\n",
       "      <td>46.9</td>\n",
       "      <td>41.00</td>\n",
       "    </tr>\n",
       "    <tr>\n",
       "      <th>22</th>\n",
       "      <td>5.78</td>\n",
       "      <td>1.88</td>\n",
       "      <td>25</td>\n",
       "      <td>255.0</td>\n",
       "      <td>61.6</td>\n",
       "      <td>0.20</td>\n",
       "      <td>20</td>\n",
       "      <td>67</td>\n",
       "      <td>1.48</td>\n",
       "      <td>213.06</td>\n",
       "      <td>2</td>\n",
       "      <td>70.4</td>\n",
       "      <td>65.58</td>\n",
       "    </tr>\n",
       "    <tr>\n",
       "      <th>80</th>\n",
       "      <td>8.70</td>\n",
       "      <td>0.88</td>\n",
       "      <td>30</td>\n",
       "      <td>69.0</td>\n",
       "      <td>41.8</td>\n",
       "      <td>1.20</td>\n",
       "      <td>30</td>\n",
       "      <td>70</td>\n",
       "      <td>1.48</td>\n",
       "      <td>1173.18</td>\n",
       "      <td>36</td>\n",
       "      <td>58.9</td>\n",
       "      <td>28.38</td>\n",
       "    </tr>\n",
       "    <tr>\n",
       "      <th>...</th>\n",
       "      <td>...</td>\n",
       "      <td>...</td>\n",
       "      <td>...</td>\n",
       "      <td>...</td>\n",
       "      <td>...</td>\n",
       "      <td>...</td>\n",
       "      <td>...</td>\n",
       "      <td>...</td>\n",
       "      <td>...</td>\n",
       "      <td>...</td>\n",
       "      <td>...</td>\n",
       "      <td>...</td>\n",
       "      <td>...</td>\n",
       "    </tr>\n",
       "    <tr>\n",
       "      <th>67</th>\n",
       "      <td>3.58</td>\n",
       "      <td>0.13</td>\n",
       "      <td>6</td>\n",
       "      <td>7.0</td>\n",
       "      <td>65.7</td>\n",
       "      <td>2.00</td>\n",
       "      <td>9</td>\n",
       "      <td>58</td>\n",
       "      <td>1.48</td>\n",
       "      <td>1173.18</td>\n",
       "      <td>6</td>\n",
       "      <td>71.7</td>\n",
       "      <td>56.42</td>\n",
       "    </tr>\n",
       "    <tr>\n",
       "      <th>192</th>\n",
       "      <td>1.92</td>\n",
       "      <td>0.34</td>\n",
       "      <td>28</td>\n",
       "      <td>32.0</td>\n",
       "      <td>48.4</td>\n",
       "      <td>3.20</td>\n",
       "      <td>5</td>\n",
       "      <td>57</td>\n",
       "      <td>1.48</td>\n",
       "      <td>66.24</td>\n",
       "      <td>6</td>\n",
       "      <td>63.9</td>\n",
       "      <td>42.00</td>\n",
       "    </tr>\n",
       "    <tr>\n",
       "      <th>117</th>\n",
       "      <td>6.69</td>\n",
       "      <td>1.44</td>\n",
       "      <td>37</td>\n",
       "      <td>8.0</td>\n",
       "      <td>42.1</td>\n",
       "      <td>0.06</td>\n",
       "      <td>28</td>\n",
       "      <td>77</td>\n",
       "      <td>1.48</td>\n",
       "      <td>1173.18</td>\n",
       "      <td>22</td>\n",
       "      <td>56.9</td>\n",
       "      <td>37.86</td>\n",
       "    </tr>\n",
       "    <tr>\n",
       "      <th>47</th>\n",
       "      <td>5.12</td>\n",
       "      <td>1.50</td>\n",
       "      <td>31</td>\n",
       "      <td>1287.0</td>\n",
       "      <td>43.7</td>\n",
       "      <td>0.10</td>\n",
       "      <td>16</td>\n",
       "      <td>79</td>\n",
       "      <td>1.48</td>\n",
       "      <td>528.79</td>\n",
       "      <td>11</td>\n",
       "      <td>56.0</td>\n",
       "      <td>75.66</td>\n",
       "    </tr>\n",
       "    <tr>\n",
       "      <th>172</th>\n",
       "      <td>9.48</td>\n",
       "      <td>0.52</td>\n",
       "      <td>28</td>\n",
       "      <td>30.0</td>\n",
       "      <td>63.4</td>\n",
       "      <td>1.60</td>\n",
       "      <td>36</td>\n",
       "      <td>48</td>\n",
       "      <td>1.48</td>\n",
       "      <td>1173.18</td>\n",
       "      <td>12</td>\n",
       "      <td>63.8</td>\n",
       "      <td>37.76</td>\n",
       "    </tr>\n",
       "  </tbody>\n",
       "</table>\n",
       "<p>170 rows × 13 columns</p>\n",
       "</div>"
      ],
      "text/plain": [
       "     alcconsumption  armedforcesrate  breastcancerper100th  co2emissions  femaleemployrate  hivrate  internetuserate  lifeexpectancy  oilperperson  relectricperperson  suicideper100th  employrate  urbanrate\n",
       "16            18.85             3.71                    36        1000.0              48.6     0.30               32              70          0.69              614.91               27        53.4      73.46\n",
       "135            2.42             1.01                    22          53.0              54.6     0.40                8              69          1.48               31.54               12        61.8      17.24\n",
       "122            0.11             1.55                    28          57.0              45.3     0.70                3              59          1.48             1173.18                7        46.9      41.00\n",
       "22             5.78             1.88                    25         255.0              61.6     0.20               20              67          1.48              213.06                2        70.4      65.58\n",
       "80             8.70             0.88                    30          69.0              41.8     1.20               30              70          1.48             1173.18               36        58.9      28.38\n",
       "..              ...              ...                   ...           ...               ...      ...              ...             ...           ...                 ...              ...         ...        ...\n",
       "67             3.58             0.13                     6           7.0              65.7     2.00                9              58          1.48             1173.18                6        71.7      56.42\n",
       "192            1.92             0.34                    28          32.0              48.4     3.20                5              57          1.48               66.24                6        63.9      42.00\n",
       "117            6.69             1.44                    37           8.0              42.1     0.06               28              77          1.48             1173.18               22        56.9      37.86\n",
       "47             5.12             1.50                    31        1287.0              43.7     0.10               16              79          1.48              528.79               11        56.0      75.66\n",
       "172            9.48             0.52                    28          30.0              63.4     1.60               36              48          1.48             1173.18               12        63.8      37.76\n",
       "\n",
       "[170 rows x 13 columns]"
      ]
     },
     "execution_count": 18,
     "metadata": {},
     "output_type": "execute_result"
    }
   ],
   "source": [
    "X_train"
   ]
  },
  {
   "cell_type": "code",
   "execution_count": 19,
   "metadata": {},
   "outputs": [],
   "source": [
    "scaler = StandardScaler()"
   ]
  },
  {
   "cell_type": "code",
   "execution_count": 20,
   "metadata": {},
   "outputs": [],
   "source": [
    "X_train_scaled = scaler.fit_transform(X_train)"
   ]
  },
  {
   "cell_type": "code",
   "execution_count": 21,
   "metadata": {},
   "outputs": [],
   "source": [
    "X_test_scaled = scaler.transform(X_test)"
   ]
  },
  {
   "cell_type": "code",
   "execution_count": 22,
   "metadata": {},
   "outputs": [
    {
     "data": {
      "text/plain": [
       "array([[ 2.77667345,  1.48793291, -0.03438884, ...,  2.88198276,\n",
       "        -0.56881929,  0.72721402],\n",
       "       [-0.88708946, -0.29739988, -0.71643414, ...,  0.37719202,\n",
       "         0.31039828, -1.70341109],\n",
       "       [-1.40220159,  0.05966668, -0.42412901, ..., -0.45773823,\n",
       "        -1.24916623, -0.67616718],\n",
       "       ...,\n",
       "       [ 0.06508751, -0.0130691 ,  0.01432868, ...,  2.04705251,\n",
       "        -0.20247864, -0.81192248],\n",
       "       [-0.28501035,  0.02660496, -0.27797645, ...,  0.21020597,\n",
       "        -0.29668052,  0.8223292 ],\n",
       "       [ 0.68723593, -0.62140472, -0.42412901, ...,  0.37719202,\n",
       "         0.5197358 , -0.8162459 ]])"
      ]
     },
     "execution_count": 22,
     "metadata": {},
     "output_type": "execute_result"
    }
   ],
   "source": [
    "X_train_scaled"
   ]
  },
  {
   "cell_type": "code",
   "execution_count": 23,
   "metadata": {},
   "outputs": [
    {
     "data": {
      "text/plain": [
       "array([[-0.7532941 ,  0.6084912 , -0.71643414,  0.0066039 , -1.90230782,\n",
       "        -0.56211855,  0.23156383,  0.51700201, -1.61166644, -0.50557267,\n",
       "        -0.95869638, -1.67830814,  0.52055468],\n",
       "       [ 0.53783111, -0.07919254,  0.35535134, -0.13228115, -0.89378085,\n",
       "        -0.45300598,  0.42472305,  1.05620655, -0.88232713, -0.52167688,\n",
       "         0.04321992, -0.82002432,  1.37486191],\n",
       "       [-1.32192438,  4.15270741, -0.22925893, -0.11117873, -2.60679356,\n",
       "         0.04120982, -1.23644629, -0.02220254,  0.07978004, -0.99339382,\n",
       "         1.21212227, -2.24351944,  0.43062761],\n",
       "       [ 0.45755389, -0.0130691 ,  0.01432868, -0.19877368, -0.0001963 ,\n",
       "         0.04120982, -0.57970492, -0.45356618,  0.07978004,  0.04583265,\n",
       "         0.04321992, -0.020355  ,  0.16949321],\n",
       "       [ 0.33713807, -0.376748  , -0.13182388, -0.19540743,  1.31607971,\n",
       "        -0.48509791, -0.54107308,  0.30132019,  0.07978004, -0.52510501,\n",
       "        -0.95869638,  1.49315527,  0.15825233],\n",
       "       [ 0.06508751, -0.0130691 ,  0.01432868, -0.19718105, -0.68614295,\n",
       "         0.04120982,  0.07703644,  1.16404746,  0.07978004,  0.04583265,\n",
       "         0.04321992, -1.64690752,  0.0056357 ],\n",
       "       [ 1.04848339, -0.3304616 ,  0.11176373, -0.10889837,  0.78956931,\n",
       "        -0.54928178, -0.03885909, -0.23788436, -1.00646999, -0.56456829,\n",
       "         2.54801066,  0.50926893,  0.05621968],\n",
       "       [ 0.06508751, -0.0130691 ,  0.01432868, -0.19511786, -0.03356667,\n",
       "         0.04120982,  0.07703644,  0.84052473,  0.07978004, -0.99339382,\n",
       "         0.04321992, -0.55835242,  1.5581748 ],\n",
       "       [ 0.39511606, -0.0130691 ,  0.01432868, -0.19826694, -0.0001963 ,\n",
       "         0.04120982,  1.81546948,  0.08563837,  0.07978004,  0.04583265,\n",
       "        -1.29266848, -0.020355  , -1.13185535],\n",
       "       [ 0.06508751, -0.0130691 ,  0.01432868, -0.16167252,  0.3001371 ,\n",
       "         0.04120982,  1.46778287,  1.48757019,  1.32120866,  0.30755706,\n",
       "         0.04321992,  0.01732576,  1.87464893],\n",
       "       [-1.35537322,  1.21021448, -0.6189991 , -0.07791437, -2.17668648,\n",
       "        -0.56211855, -0.27065016,  0.4091611 , -1.5185593 , -0.517921  ,\n",
       "        -1.29266848, -1.72017565, -0.60180441],\n",
       "       [ 0.43525467, -0.48915785,  1.86559451, -0.12779282,  0.98979157,\n",
       "        -0.54928178,  2.27905162,  1.27188837,  1.18154794,  5.59013659,\n",
       "         0.21020597,  0.64533831,  0.90101539],\n",
       "       [ 2.19243371,  0.31754808,  0.11176373,  0.64832742,  0.46328117,\n",
       "        -0.26045437,  0.34745936, -0.02220254, -0.61852355, -0.26175954,\n",
       "         3.04896881, -0.00360799,  0.70040884],\n",
       "       [ 0.06508751, -0.0130691 ,  0.01432868, -0.19747062,  0.73765983,\n",
       "         0.04120982,  0.88830519,  1.27188837,  0.07978004,  0.04583265,\n",
       "         0.04321992,  0.49880205,  1.87464893],\n",
       "       [ 0.96151641, -0.0130691 ,  0.01432868, -0.1986651 , -0.0001963 ,\n",
       "         0.04120982, -0.00022725,  0.73268382,  0.07978004,  0.04583265,\n",
       "        -0.95869638, -0.020355  , -1.11542636],\n",
       "       [-1.31077477,  0.23158761, -0.6189991 , -0.11501554, -0.76029934,\n",
       "         0.04120982,  1.69957394,  0.84052473,  4.45581591,  8.88771721,\n",
       "        -1.45965453,  1.71295966,  0.91830906],\n",
       "       [ 3.70432127, -0.60818003,  0.64765647, -0.19341664, -0.29311405,\n",
       "        -0.45300598,  0.23156383, -0.02220254,  0.07978004, -0.72327183,\n",
       "         1.04513622, -1.521305  , -0.64330921],\n",
       "       [ 0.50215235, -0.60156769,  0.84252655, -0.19385099,  0.97496029,\n",
       "         0.41347626,  0.34745936,  0.73268382,  0.07978004,  0.04583265,\n",
       "        -1.12568243,  0.81280833,  1.16993194],\n",
       "       [-0.07093777, -0.70736519,  0.5015039 , -0.12616398, -0.05581359,\n",
       "        -0.56211855, -0.34791385, -0.02220254, -1.99961288, -0.83428281,\n",
       "        -1.29266848,  0.22666328,  0.3579942 ],\n",
       "       [ 0.06508751, -0.0130691 ,  0.01432868, -0.19685528, -0.7158055 ,\n",
       "         0.04120982,  0.07703644,  0.94836564,  0.07978004,  0.04583265,\n",
       "         0.04321992, -1.53177188,  0.0056357 ],\n",
       "       [-0.30061981, -0.0130691 , -1.20360936, -0.19801356, -0.03356667,\n",
       "         7.73043739, -0.96602338, -2.17902072,  0.07978004,  0.04583265,\n",
       "         0.54417807, -0.83049119, -1.37050797],\n",
       "       [ 2.2303424 , -0.74042691, -0.91130423, -0.19703626,  2.40617871,\n",
       "         1.50460205, -0.85012784, -1.63981618,  0.07978004,  0.04583265,\n",
       "         0.37719202,  2.55030973, -1.88758866],\n",
       "       [-0.31176942, -0.35029863, -0.91130423, -0.17962586,  0.47069681,\n",
       "         0.04120982, -1.23644629, -0.45356618, -0.49438069, -0.68232036,\n",
       "         0.37719202, -0.03500862, -0.3467228 ],\n",
       "       [-0.67078697, -0.56850597, -1.15489184, -0.19508167,  0.18890251,\n",
       "        -0.51718985, -0.85012784, -0.13004345,  0.07978004, -0.63394573,\n",
       "        -1.12568243, -0.44321678, -1.30479203],\n",
       "       [ 0.51107204, -0.0130691 ,  0.01432868, -0.19884608, -0.0001963 ,\n",
       "         0.04120982,  0.07703644,  0.08563837,  0.07978004,  0.04583265,\n",
       "        -0.95869638, -0.020355  ,  0.0056357 ],\n",
       "       [-0.10661654, -0.46270847, -0.32669397, -0.19833933, -0.64906475,\n",
       "         0.15674078, -0.811496  ,  0.73268382,  0.07978004,  0.04583265,\n",
       "        -0.12376613, -0.21294551, -0.21356155],\n",
       "       [-1.08332266,  3.26004102,  0.59893894, -0.14281426,  0.27789018,\n",
       "        -0.54928178,  1.42915103,  1.27188837, 16.76147705,  0.30419095,\n",
       "        -0.12376613,  0.37319954,  1.87464893],\n",
       "       [ 0.0048796 , -0.52883191,  1.23226673, -0.19754301,  0.94529773,\n",
       "        -0.13208663,  1.39051918,  0.84052473,  0.07978004,  0.04583265,\n",
       "        -1.12568243,  0.84420896, -0.72631882],\n",
       "       [-0.82688155, -0.588343  , -0.86258671,  0.9011945 , -1.13108131,\n",
       "        -0.48509791, -1.00465522, -0.45356618, -2.01513074, -0.89532467,\n",
       "         1.54609437, -0.35948178, -1.17163079],\n",
       "       [ 0.06508751, -0.0130691 ,  0.01432868, -0.1985927 , -0.0001963 ,\n",
       "         0.04120982,  1.19735996,  0.08563837,  0.07978004, -0.99339382,\n",
       "         0.04321992, -0.020355  ,  0.0056357 ],\n",
       "       [ 1.61934359,  0.76718745,  0.74509151, -0.19700007, -0.99018416,\n",
       "        -0.54928178,  0.38609121,  0.51700201,  0.07978004, -0.45857106,\n",
       "        -0.95869638, -1.96091379,  0.31216598],\n",
       "       [ 1.49446792, -0.18499004,  2.35276973, -0.11125113,  0.43361861,\n",
       "        -0.54928178,  2.04726055,  1.16404746,  0.7936015 ,  2.58261778,\n",
       "         1.04513622, -0.17107801,  0.28795484],\n",
       "       [-1.35091337, -0.81977503, -0.66771662, -0.19772399, -0.70838986,\n",
       "        -0.32463824, -1.27507814, -1.53197527,  0.07978004,  0.04583265,\n",
       "        -0.12376613,  0.16386202, -1.73367501],\n",
       "       [-0.56152076, -0.85944909, -0.57028158, -0.18856634,  1.41248302,\n",
       "         1.44041818, -0.30928201, -1.31629345,  0.07978004, -0.95691575,\n",
       "         0.21020597,  1.50362214, -1.51491011],\n",
       "       [ 0.74744384, -0.61479238,  2.45020477,  0.14440307,  0.50035937,\n",
       "        -0.51718985,  2.20178793,  1.27188837,  2.43849441,  0.32653133,\n",
       "        -0.29075218,  0.2580639 ,  1.08865169],\n",
       "       [ 0.94144711, -0.0130691 ,  0.01432868, -0.19877368, -0.0001963 ,\n",
       "         0.04120982,  1.6609421 ,  0.08563837,  0.07978004,  0.04583265,\n",
       "         0.04321992, -0.020355  , -1.05143979],\n",
       "       [-0.31622927, -0.6478541 , -0.42412901, -0.1986651 , -0.29311405,\n",
       "         0.04120982, -0.15475463,  0.51700201,  0.07978004,  0.04583265,\n",
       "        -0.62472428, -0.3071474 ,  0.12885309],\n",
       "       [ 1.79104764, -0.42964675,  0.64765647,  0.63562253, -0.40434865,\n",
       "        -0.54928178,  1.08146442,  0.73268382, -1.14613071, -0.36942212,\n",
       "         0.71116412, -1.06076246,  0.20235118],\n",
       "       [ 1.90031385, -0.66769113,  1.86559451, -0.13970139,  0.25564326,\n",
       "        -0.51718985,  1.39051918,  1.27188837,  0.42117291,  0.82413194,\n",
       "         0.04321992,  0.11152764,  0.20321586],\n",
       "       [ 0.15205449, -0.24450113, -0.96002175, -0.04678558,  1.29383279,\n",
       "        -0.16417856, -0.50244123,  0.51700201, -1.08405928, -0.60399615,\n",
       "         0.04321992,  1.37801963, -1.00820562],\n",
       "       [-0.18689375, -0.81977503, -1.15489184, -0.01667029,  0.16665559,\n",
       "         6.99232289, -1.1591826 , -2.28686163,  0.07978004,  0.04583265,\n",
       "        -0.29075218, -0.26527989, -1.3480262 ],\n",
       "       [ 1.21126775, -0.31723691,  0.69637399,  0.19290606, -0.4340112 ,\n",
       "        -0.45300598,  1.2359918 ,  1.27188837,  0.29703005,  0.58292311,\n",
       "        -0.62472428, -0.66302118,  0.88545109],\n",
       "       [ 0.80096198, -0.70736519,  2.69379238, -0.15099462,  0.79698494,\n",
       "        -0.54928178,  1.89273317,  1.27188837,  0.23495862,  1.65794557,\n",
       "         0.37719202,  0.64533831,  1.29358167]])"
      ]
     },
     "execution_count": 23,
     "metadata": {},
     "output_type": "execute_result"
    }
   ],
   "source": [
    "X_test_scaled"
   ]
  },
  {
   "cell_type": "markdown",
   "metadata": {},
   "source": [
    "### Model Training"
   ]
  },
  {
   "cell_type": "markdown",
   "metadata": {},
   "source": [
    "### Using Regression or Classification Models"
   ]
  },
  {
   "cell_type": "code",
   "execution_count": 24,
   "metadata": {},
   "outputs": [],
   "source": [
    "lasso = LassoLarsCV(verbose=True, cv=5)"
   ]
  },
  {
   "cell_type": "code",
   "execution_count": 25,
   "metadata": {},
   "outputs": [
    {
     "name": "stderr",
     "output_type": "stream",
     "text": [
      "[Parallel(n_jobs=1)]: Using backend SequentialBackend with 1 concurrent workers.\n",
      "[Parallel(n_jobs=1)]: Done   5 out of   5 | elapsed:    0.0s finished\n"
     ]
    },
    {
     "data": {
      "text/plain": [
       "LassoLarsCV(cv=5, verbose=True)"
      ]
     },
     "execution_count": 25,
     "metadata": {},
     "output_type": "execute_result"
    }
   ],
   "source": [
    "lasso.fit(X_train_scaled,y_train)"
   ]
  },
  {
   "cell_type": "code",
   "execution_count": 26,
   "metadata": {},
   "outputs": [],
   "source": [
    "y_pred = lasso.predict(X_test_scaled)"
   ]
  },
  {
   "cell_type": "code",
   "execution_count": 27,
   "metadata": {},
   "outputs": [
    {
     "data": {
      "text/plain": [
       "array([ 7899.12753004, 10837.7764023 , -2572.22773687,  2953.57596371,\n",
       "        4838.9472499 ,  6036.75004839,  6166.5082613 ,  9918.40261599,\n",
       "       21236.17806371, 23157.26849425,  3311.59578222, 30446.44435468,\n",
       "        8333.53376654, 18622.95892137,  4714.3333953 , 29554.57036142,\n",
       "         305.51317127, 14252.15738487,  5709.13098974,  6278.66910912,\n",
       "        4739.79194075,  -856.29696417, -3064.5530701 , -1825.08264503,\n",
       "        7973.37518113,   622.61933921, 30961.32959658, 21254.01486584,\n",
       "       -1841.20486384, 18238.84882892,  6050.36723372, 24871.93572702,\n",
       "       -2579.27987521,  8182.97282499, 30242.65548198, 19006.34076646,\n",
       "        6715.35129425, 12892.74326482, 18185.6477461 ,  2768.34243279,\n",
       "        3292.36937041, 16938.25749688, 27648.58245033])"
      ]
     },
     "execution_count": 27,
     "metadata": {},
     "output_type": "execute_result"
    }
   ],
   "source": [
    "y_pred"
   ]
  },
  {
   "cell_type": "code",
   "execution_count": 28,
   "metadata": {},
   "outputs": [],
   "source": [
    "y_pred = y_pred.round(2)"
   ]
  },
  {
   "cell_type": "markdown",
   "metadata": {},
   "source": [
    "### Model Evaluation"
   ]
  },
  {
   "cell_type": "code",
   "execution_count": 29,
   "metadata": {},
   "outputs": [
    {
     "data": {
      "text/plain": [
       "array([-1906.64492429,   -18.11559052,  1142.00715297,   844.83707806,\n",
       "           0.        ,  1010.56499734,  8403.75601814,  -317.69110004,\n",
       "         343.77231823,     0.        ,     0.        ,  1503.64955834,\n",
       "        1378.59577031])"
      ]
     },
     "execution_count": 29,
     "metadata": {},
     "output_type": "execute_result"
    }
   ],
   "source": [
    "lasso.coef_"
   ]
  },
  {
   "cell_type": "code",
   "execution_count": 30,
   "metadata": {},
   "outputs": [
    {
     "data": {
      "text/plain": [
       "Index(['alcconsumption', 'armedforcesrate', 'breastcancerper100th', 'co2emissions', 'femaleemployrate', 'hivrate', 'internetuserate', 'lifeexpectancy', 'oilperperson', 'relectricperperson', 'suicideper100th', 'employrate', 'urbanrate'], dtype='object')"
      ]
     },
     "execution_count": 30,
     "metadata": {},
     "output_type": "execute_result"
    }
   ],
   "source": [
    "X.columns"
   ]
  },
  {
   "cell_type": "code",
   "execution_count": 31,
   "metadata": {},
   "outputs": [
    {
     "data": {
      "text/html": [
       "<div>\n",
       "<style scoped>\n",
       "    .dataframe tbody tr th:only-of-type {\n",
       "        vertical-align: middle;\n",
       "    }\n",
       "\n",
       "    .dataframe tbody tr th {\n",
       "        vertical-align: top;\n",
       "    }\n",
       "\n",
       "    .dataframe thead th {\n",
       "        text-align: right;\n",
       "    }\n",
       "</style>\n",
       "<table border=\"1\" class=\"dataframe\">\n",
       "  <thead>\n",
       "    <tr style=\"text-align: right;\">\n",
       "      <th></th>\n",
       "      <th>Columns</th>\n",
       "      <th>Regression Coefficeients</th>\n",
       "    </tr>\n",
       "  </thead>\n",
       "  <tbody>\n",
       "    <tr>\n",
       "      <th>0</th>\n",
       "      <td>alcconsumption</td>\n",
       "      <td>-1906.644924</td>\n",
       "    </tr>\n",
       "    <tr>\n",
       "      <th>1</th>\n",
       "      <td>armedforcesrate</td>\n",
       "      <td>-18.115591</td>\n",
       "    </tr>\n",
       "    <tr>\n",
       "      <th>2</th>\n",
       "      <td>breastcancerper100th</td>\n",
       "      <td>1142.007153</td>\n",
       "    </tr>\n",
       "    <tr>\n",
       "      <th>3</th>\n",
       "      <td>co2emissions</td>\n",
       "      <td>844.837078</td>\n",
       "    </tr>\n",
       "    <tr>\n",
       "      <th>4</th>\n",
       "      <td>femaleemployrate</td>\n",
       "      <td>0.000000</td>\n",
       "    </tr>\n",
       "    <tr>\n",
       "      <th>5</th>\n",
       "      <td>hivrate</td>\n",
       "      <td>1010.564997</td>\n",
       "    </tr>\n",
       "    <tr>\n",
       "      <th>6</th>\n",
       "      <td>internetuserate</td>\n",
       "      <td>8403.756018</td>\n",
       "    </tr>\n",
       "    <tr>\n",
       "      <th>7</th>\n",
       "      <td>lifeexpectancy</td>\n",
       "      <td>-317.691100</td>\n",
       "    </tr>\n",
       "    <tr>\n",
       "      <th>8</th>\n",
       "      <td>oilperperson</td>\n",
       "      <td>343.772318</td>\n",
       "    </tr>\n",
       "    <tr>\n",
       "      <th>9</th>\n",
       "      <td>relectricperperson</td>\n",
       "      <td>0.000000</td>\n",
       "    </tr>\n",
       "    <tr>\n",
       "      <th>10</th>\n",
       "      <td>suicideper100th</td>\n",
       "      <td>0.000000</td>\n",
       "    </tr>\n",
       "    <tr>\n",
       "      <th>11</th>\n",
       "      <td>employrate</td>\n",
       "      <td>1503.649558</td>\n",
       "    </tr>\n",
       "    <tr>\n",
       "      <th>12</th>\n",
       "      <td>urbanrate</td>\n",
       "      <td>1378.595770</td>\n",
       "    </tr>\n",
       "  </tbody>\n",
       "</table>\n",
       "</div>"
      ],
      "text/plain": [
       "                 Columns  Regression Coefficeients\n",
       "0         alcconsumption              -1906.644924\n",
       "1        armedforcesrate                -18.115591\n",
       "2   breastcancerper100th               1142.007153\n",
       "3           co2emissions                844.837078\n",
       "4       femaleemployrate                  0.000000\n",
       "5                hivrate               1010.564997\n",
       "6        internetuserate               8403.756018\n",
       "7         lifeexpectancy               -317.691100\n",
       "8           oilperperson                343.772318\n",
       "9     relectricperperson                  0.000000\n",
       "10       suicideper100th                  0.000000\n",
       "11            employrate               1503.649558\n",
       "12             urbanrate               1378.595770"
      ]
     },
     "execution_count": 31,
     "metadata": {},
     "output_type": "execute_result"
    }
   ],
   "source": [
    "pd.DataFrame({\"Columns\": X.columns, \"Regression Coefficeients\": lasso.coef_})"
   ]
  },
  {
   "cell_type": "code",
   "execution_count": 32,
   "metadata": {},
   "outputs": [],
   "source": [
    "mse_test = mean_squared_error(y_test, y_pred)"
   ]
  },
  {
   "cell_type": "code",
   "execution_count": 33,
   "metadata": {},
   "outputs": [
    {
     "data": {
      "text/plain": [
       "38403119.36073256"
      ]
     },
     "execution_count": 33,
     "metadata": {},
     "output_type": "execute_result"
    }
   ],
   "source": [
    "mse_test"
   ]
  },
  {
   "cell_type": "code",
   "execution_count": 34,
   "metadata": {},
   "outputs": [],
   "source": [
    "y_pred_train = lasso.predict(X_train_scaled)"
   ]
  },
  {
   "cell_type": "code",
   "execution_count": 35,
   "metadata": {},
   "outputs": [],
   "source": [
    "mse_train = mean_squared_error(y_train, y_pred_train)"
   ]
  },
  {
   "cell_type": "code",
   "execution_count": 36,
   "metadata": {},
   "outputs": [
    {
     "data": {
      "text/plain": [
       "109948200.40027761"
      ]
     },
     "execution_count": 36,
     "metadata": {},
     "output_type": "execute_result"
    }
   ],
   "source": [
    "mse_train"
   ]
  },
  {
   "cell_type": "code",
   "execution_count": 37,
   "metadata": {},
   "outputs": [
    {
     "data": {
      "text/plain": [
       "0.6861879081444817"
      ]
     },
     "execution_count": 37,
     "metadata": {},
     "output_type": "execute_result"
    }
   ],
   "source": [
    "r2_test = r2_score(y_test, y_pred)\n",
    "r2_test"
   ]
  },
  {
   "cell_type": "code",
   "execution_count": 38,
   "metadata": {},
   "outputs": [
    {
     "data": {
      "text/plain": [
       "0.4354082802355824"
      ]
     },
     "execution_count": 38,
     "metadata": {},
     "output_type": "execute_result"
    }
   ],
   "source": [
    "r2_train = r2_score(y_train, y_pred_train)\n",
    "r2_train"
   ]
  },
  {
   "cell_type": "markdown",
   "metadata": {},
   "source": [
    "### Cross-Validation"
   ]
  },
  {
   "cell_type": "code",
   "execution_count": 39,
   "metadata": {},
   "outputs": [
    {
     "name": "stderr",
     "output_type": "stream",
     "text": [
      "[Parallel(n_jobs=1)]: Using backend SequentialBackend with 1 concurrent workers.\n",
      "[Parallel(n_jobs=1)]: Using backend SequentialBackend with 1 concurrent workers.\n",
      "[Parallel(n_jobs=1)]: Done   5 out of   5 | elapsed:    0.0s finished\n",
      "[Parallel(n_jobs=1)]: Using backend SequentialBackend with 1 concurrent workers.\n",
      "[Parallel(n_jobs=1)]: Done   5 out of   5 | elapsed:    0.0s finished\n",
      "[Parallel(n_jobs=1)]: Using backend SequentialBackend with 1 concurrent workers.\n",
      "[Parallel(n_jobs=1)]: Done   5 out of   5 | elapsed:    0.0s finished\n",
      "[Parallel(n_jobs=1)]: Using backend SequentialBackend with 1 concurrent workers.\n",
      "[Parallel(n_jobs=1)]: Done   5 out of   5 | elapsed:    0.0s finished\n",
      "[Parallel(n_jobs=1)]: Using backend SequentialBackend with 1 concurrent workers.\n",
      "[Parallel(n_jobs=1)]: Done   5 out of   5 | elapsed:    0.0s finished\n",
      "[Parallel(n_jobs=1)]: Done   5 out of   5 | elapsed:    0.1s finished\n"
     ]
    }
   ],
   "source": [
    "cv = cross_val_score(lasso,X,y,cv=5,verbose=1,scoring='neg_mean_squared_error')"
   ]
  },
  {
   "cell_type": "code",
   "execution_count": 40,
   "metadata": {},
   "outputs": [
    {
     "data": {
      "text/plain": [
       "-104408943.11007066"
      ]
     },
     "execution_count": 40,
     "metadata": {},
     "output_type": "execute_result"
    }
   ],
   "source": [
    "cv.mean()"
   ]
  },
  {
   "cell_type": "markdown",
   "metadata": {},
   "source": [
    "#### Python code done by Dennis Lam"
   ]
  },
  {
   "cell_type": "code",
   "execution_count": null,
   "metadata": {},
   "outputs": [],
   "source": []
  }
 ],
 "metadata": {
  "kernelspec": {
   "display_name": "Python 3",
   "language": "python",
   "name": "python3"
  },
  "language_info": {
   "codemirror_mode": {
    "name": "ipython",
    "version": 3
   },
   "file_extension": ".py",
   "mimetype": "text/x-python",
   "name": "python",
   "nbconvert_exporter": "python",
   "pygments_lexer": "ipython3",
   "version": "3.8.5"
  }
 },
 "nbformat": 4,
 "nbformat_minor": 4
}
