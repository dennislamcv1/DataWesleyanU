{
 "cells": [
  {
   "cell_type": "markdown",
   "metadata": {},
   "source": [
    "## Running a Random Forest"
   ]
  },
  {
   "cell_type": "markdown",
   "metadata": {},
   "source": [
    "***"
   ]
  },
  {
   "cell_type": "markdown",
   "metadata": {},
   "source": [
    "### Project Description"
   ]
  },
  {
   "cell_type": "markdown",
   "metadata": {},
   "source": [
    "The second assignment deals with Random Forests. Random forests are predictive models that allow for a data driven exploration of many explanatory variables in predicting a response or target variable. Random forests provide importance scores for each explanatory variable and also allow you to evaluate any increases in correct classification with the growing of smaller and larger number of trees."
   ]
  },
  {
   "cell_type": "markdown",
   "metadata": {},
   "source": [
    "Run a Random Forest. \n",
    "\n",
    "You will need to perform a random forest analysis to evaluate the importance of a series of explanatory variables in predicting a binary, categorical response variable."
   ]
  },
  {
   "cell_type": "markdown",
   "metadata": {},
   "source": [
    "## Data Dictionary"
   ]
  },
  {
   "cell_type": "markdown",
   "metadata": {},
   "source": [
    "| Field          | Description                                                                           |\n",
    "|----------------|---------------------------------------------------------------------------------------|\n",
    "| incomeperperson|\t2010 Gross Domestic Product per capita in constant 2000 US$.|\n",
    "| alcconsumption|\t2008 alcohol consumption per adult (age 15+), litres|\n",
    "| armedforcesrate|\tArmed forces personnel (% of total labor force)|\n",
    "| breastcancerper100TH|\t2002 breast cancer new cases per 100,000 female|\n",
    "| co2emissions|\t2006 cumulative CO2 emission (metric tons)|\n",
    "| femaleemployrate|\t2007 female employees age 15+ (% of population)|\n",
    "| employrate|\t2007 total employees age 15+ (% of population)|\n",
    "| HIVrate|\t2009 estimated HIV Prevalence %|\n",
    "| Internetuserate|\t2010 Internet users (per 100 people)|\n",
    "| lifeexpectancy|\t2011 life expectancy at birth (years)|\n",
    "| oilperperson|\t2010 oil Consumption per capita (tonnes per year and person)|\n",
    "| polityscore|\t2009 Democracy score (Polity)|\n",
    "| relectricperperson|\t2008 residential electricity consumption, per person (kWh)|\n",
    "| suicideper100TH|\t2005 Suicide, age adjusted, per 100 000|\n",
    "| urbanrate|\t2008 urban population (% of total)|"
   ]
  },
  {
   "cell_type": "markdown",
   "metadata": {},
   "source": [
    "## Summary"
   ]
  },
  {
   "cell_type": "markdown",
   "metadata": {},
   "source": []
  },
  {
   "cell_type": "markdown",
   "metadata": {},
   "source": [
    "### Import Libraries"
   ]
  },
  {
   "cell_type": "code",
   "execution_count": 1,
   "metadata": {},
   "outputs": [
    {
     "data": {
      "application/javascript": [
       "IPython.notebook.set_autosave_interval(60000)"
      ]
     },
     "metadata": {},
     "output_type": "display_data"
    },
    {
     "name": "stdout",
     "output_type": "stream",
     "text": [
      "Autosaving every 60 seconds\n"
     ]
    }
   ],
   "source": [
    "import numpy as np\n",
    "import pandas as pd\n",
    "import matplotlib.pyplot as plt\n",
    "import seaborn as sns\n",
    "import sklearn\n",
    "# import shap\n",
    "# import statsmodels.api as sm\n",
    "# import datetime\n",
    "# from datetime import datetime, timedelta\n",
    "# import scipy.stats\n",
    "# import pandas_profiling\n",
    "# from pandas_profiling import ProfileReport\n",
    "# import graphviz\n",
    "\n",
    "# import xgboost as xgb\n",
    "# from xgboost import XGBClassifier, XGBRegressor\n",
    "# from xgboost import to_graphviz, plot_importance\n",
    "\n",
    "#from sklearn.experimental import enable_hist_gradient_boosting\n",
    "#from sklearn.linear_model import ElasticNet, Lasso, LinearRegression, LogisticRegression, Ridge\n",
    "#from sklearn.ensemble import RandomForestClassifier, RandomForestRegressor, ExtraTreesClassifier, ExtraTreesRegressor\n",
    "#from sklearn.ensemble import GradientBoostingClassifier, GradientBoostingRegressor, HistGradientBoostingClassifier, HistGradientBoostingRegressor\n",
    "\n",
    "\n",
    "%matplotlib inline\n",
    "#sets the default autosave frequency in seconds\n",
    "%autosave 60 \n",
    "#sns.set_style('dark')\n",
    "#sns.set(font_scale=1.2)\n",
    "\n",
    "plt.rc('axes', labelsize=14)\n",
    "plt.rc('xtick', labelsize=12)\n",
    "plt.rc('ytick', labelsize=12)\n",
    "\n",
    "#from sklearn.tree import DecisionTreeClassifier\n",
    "from sklearn.ensemble import RandomForestClassifier\n",
    "\n",
    "#from sklearn.pipeline import Pipeline\n",
    "#from sklearn.model_selection import RepeatedStratifiedKFold\n",
    "#from sklearn.feature_selection import RFE, RFECV, SelectKBest, f_classif, f_regression, chi2\n",
    "\n",
    "#from sklearn.inspection import permutation_importance\n",
    "from sklearn.model_selection import cross_val_score, train_test_split, GridSearchCV, RandomizedSearchCV\n",
    "from sklearn.preprocessing import LabelEncoder, StandardScaler, MinMaxScaler, OneHotEncoder\n",
    "#from sklearn.pipeline import Pipeline\n",
    "from sklearn.tree import export_graphviz, plot_tree\n",
    "from sklearn.metrics import confusion_matrix, classification_report, mean_absolute_error, mean_squared_error,r2_score\n",
    "from sklearn.metrics import plot_confusion_matrix, plot_precision_recall_curve, plot_roc_curve, accuracy_score\n",
    "from sklearn.metrics import auc, f1_score, precision_score, recall_score, roc_auc_score\n",
    "\n",
    "\n",
    "#from tpot import TPOTClassifier, TPOTRegressor\n",
    "#from imblearn.under_sampling import RandomUnderSampler\n",
    "#from imblearn.over_sampling import RandomOverSampler\n",
    "#from imblearn.over_sampling import SMOTE\n",
    "\n",
    "import warnings\n",
    "warnings.filterwarnings('ignore')\n",
    "\n",
    "import pickle\n",
    "from pickle import dump, load\n",
    "\n",
    "# Use Folium library to plot values on a map.\n",
    "#import folium\n",
    "\n",
    "# Use Feature-Engine library\n",
    "\n",
    "#import feature_engine.missing_data_imputers as mdi\n",
    "#from feature_engine.outlier_removers import Winsorizer\n",
    "#from feature_engine import categorical_encoders as ce\n",
    "#from feature_engine.discretisation import EqualWidthDiscretiser, EqualFrequencyDiscretiser, DecisionTreeDiscretiser\n",
    "#from feature_engine.encoding import OrdinalEncoder\n",
    "\n",
    "np.random.seed(0)\n",
    "\n",
    "#from pycaret.classification import *\n",
    "#from pycaret.clustering import *\n",
    "#from pycaret.regression import *\n",
    "\n",
    "pd.set_option('display.max_columns',100)\n",
    "#pd.set_option('display.max_rows',100)\n",
    "pd.set_option('display.width', 1000)\n",
    "pd.option_context('float_format', '{:.2f}'.format)\n",
    "np.set_printoptions(suppress=True)"
   ]
  },
  {
   "cell_type": "markdown",
   "metadata": {},
   "source": [
    "## Exploratory Data Analysis"
   ]
  },
  {
   "cell_type": "code",
   "execution_count": 2,
   "metadata": {},
   "outputs": [],
   "source": [
    "df = pd.read_csv(\"gapminderfinal6.csv\")"
   ]
  },
  {
   "cell_type": "code",
   "execution_count": 3,
   "metadata": {},
   "outputs": [
    {
     "data": {
      "text/html": [
       "<div>\n",
       "<style scoped>\n",
       "    .dataframe tbody tr th:only-of-type {\n",
       "        vertical-align: middle;\n",
       "    }\n",
       "\n",
       "    .dataframe tbody tr th {\n",
       "        vertical-align: top;\n",
       "    }\n",
       "\n",
       "    .dataframe thead th {\n",
       "        text-align: right;\n",
       "    }\n",
       "</style>\n",
       "<table border=\"1\" class=\"dataframe\">\n",
       "  <thead>\n",
       "    <tr style=\"text-align: right;\">\n",
       "      <th></th>\n",
       "      <th>incomeperperson</th>\n",
       "      <th>alcconsumption</th>\n",
       "      <th>armedforcesrate</th>\n",
       "      <th>breastcancerper100th</th>\n",
       "      <th>co2emissions</th>\n",
       "      <th>femaleemployrate</th>\n",
       "      <th>hivrate</th>\n",
       "      <th>internetuserate</th>\n",
       "      <th>lifeexpectancy</th>\n",
       "      <th>oilperperson</th>\n",
       "      <th>polityscore</th>\n",
       "      <th>relectricperperson</th>\n",
       "      <th>suicideper100th</th>\n",
       "      <th>employrate</th>\n",
       "      <th>urbanrate</th>\n",
       "      <th>demoscorecat</th>\n",
       "      <th>co2cat</th>\n",
       "      <th>incomecat</th>\n",
       "      <th>alccat</th>\n",
       "      <th>electricat</th>\n",
       "      <th>politycat</th>\n",
       "    </tr>\n",
       "  </thead>\n",
       "  <tbody>\n",
       "    <tr>\n",
       "      <th>0</th>\n",
       "      <td>8740.97</td>\n",
       "      <td>0.03</td>\n",
       "      <td>0.57</td>\n",
       "      <td>27</td>\n",
       "      <td>76.0</td>\n",
       "      <td>25.60</td>\n",
       "      <td>1.94</td>\n",
       "      <td>4</td>\n",
       "      <td>49</td>\n",
       "      <td>1.48</td>\n",
       "      <td>0</td>\n",
       "      <td>1173.18</td>\n",
       "      <td>7</td>\n",
       "      <td>55.70</td>\n",
       "      <td>24.04</td>\n",
       "      <td>1</td>\n",
       "      <td>1</td>\n",
       "      <td>3</td>\n",
       "      <td>0</td>\n",
       "      <td>0.155844</td>\n",
       "      <td>0</td>\n",
       "    </tr>\n",
       "    <tr>\n",
       "      <th>1</th>\n",
       "      <td>1915.00</td>\n",
       "      <td>7.29</td>\n",
       "      <td>1.02</td>\n",
       "      <td>57</td>\n",
       "      <td>224.0</td>\n",
       "      <td>42.10</td>\n",
       "      <td>1.94</td>\n",
       "      <td>45</td>\n",
       "      <td>77</td>\n",
       "      <td>1.48</td>\n",
       "      <td>9</td>\n",
       "      <td>636.34</td>\n",
       "      <td>8</td>\n",
       "      <td>51.40</td>\n",
       "      <td>46.72</td>\n",
       "      <td>3</td>\n",
       "      <td>2</td>\n",
       "      <td>1</td>\n",
       "      <td>3</td>\n",
       "      <td>0.101449</td>\n",
       "      <td>1</td>\n",
       "    </tr>\n",
       "    <tr>\n",
       "      <th>2</th>\n",
       "      <td>2231.99</td>\n",
       "      <td>0.69</td>\n",
       "      <td>2.31</td>\n",
       "      <td>24</td>\n",
       "      <td>2932.0</td>\n",
       "      <td>31.70</td>\n",
       "      <td>0.10</td>\n",
       "      <td>12</td>\n",
       "      <td>73</td>\n",
       "      <td>0.42</td>\n",
       "      <td>2</td>\n",
       "      <td>590.51</td>\n",
       "      <td>5</td>\n",
       "      <td>50.50</td>\n",
       "      <td>65.22</td>\n",
       "      <td>2</td>\n",
       "      <td>3</td>\n",
       "      <td>2</td>\n",
       "      <td>0</td>\n",
       "      <td>0.101449</td>\n",
       "      <td>1</td>\n",
       "    </tr>\n",
       "    <tr>\n",
       "      <th>3</th>\n",
       "      <td>21943.34</td>\n",
       "      <td>10.17</td>\n",
       "      <td>1.44</td>\n",
       "      <td>37</td>\n",
       "      <td>5033.0</td>\n",
       "      <td>47.55</td>\n",
       "      <td>1.94</td>\n",
       "      <td>81</td>\n",
       "      <td>70</td>\n",
       "      <td>1.48</td>\n",
       "      <td>4</td>\n",
       "      <td>1173.18</td>\n",
       "      <td>5</td>\n",
       "      <td>58.64</td>\n",
       "      <td>88.92</td>\n",
       "      <td>2</td>\n",
       "      <td>4</td>\n",
       "      <td>4</td>\n",
       "      <td>4</td>\n",
       "      <td>0.155844</td>\n",
       "      <td>1</td>\n",
       "    </tr>\n",
       "    <tr>\n",
       "      <th>4</th>\n",
       "      <td>1381.00</td>\n",
       "      <td>5.57</td>\n",
       "      <td>1.46</td>\n",
       "      <td>23</td>\n",
       "      <td>248.0</td>\n",
       "      <td>69.40</td>\n",
       "      <td>2.00</td>\n",
       "      <td>10</td>\n",
       "      <td>51</td>\n",
       "      <td>1.48</td>\n",
       "      <td>-2</td>\n",
       "      <td>173.00</td>\n",
       "      <td>15</td>\n",
       "      <td>75.70</td>\n",
       "      <td>56.70</td>\n",
       "      <td>1</td>\n",
       "      <td>2</td>\n",
       "      <td>1</td>\n",
       "      <td>2</td>\n",
       "      <td>0.101449</td>\n",
       "      <td>0</td>\n",
       "    </tr>\n",
       "    <tr>\n",
       "      <th>...</th>\n",
       "      <td>...</td>\n",
       "      <td>...</td>\n",
       "      <td>...</td>\n",
       "      <td>...</td>\n",
       "      <td>...</td>\n",
       "      <td>...</td>\n",
       "      <td>...</td>\n",
       "      <td>...</td>\n",
       "      <td>...</td>\n",
       "      <td>...</td>\n",
       "      <td>...</td>\n",
       "      <td>...</td>\n",
       "      <td>...</td>\n",
       "      <td>...</td>\n",
       "      <td>...</td>\n",
       "      <td>...</td>\n",
       "      <td>...</td>\n",
       "      <td>...</td>\n",
       "      <td>...</td>\n",
       "      <td>...</td>\n",
       "      <td>...</td>\n",
       "    </tr>\n",
       "    <tr>\n",
       "      <th>208</th>\n",
       "      <td>722.81</td>\n",
       "      <td>3.91</td>\n",
       "      <td>1.09</td>\n",
       "      <td>16</td>\n",
       "      <td>1425.0</td>\n",
       "      <td>67.60</td>\n",
       "      <td>0.40</td>\n",
       "      <td>28</td>\n",
       "      <td>75</td>\n",
       "      <td>1.48</td>\n",
       "      <td>-7</td>\n",
       "      <td>302.73</td>\n",
       "      <td>12</td>\n",
       "      <td>71.00</td>\n",
       "      <td>27.84</td>\n",
       "      <td>0</td>\n",
       "      <td>3</td>\n",
       "      <td>1</td>\n",
       "      <td>1</td>\n",
       "      <td>0.101449</td>\n",
       "      <td>0</td>\n",
       "    </tr>\n",
       "    <tr>\n",
       "      <th>209</th>\n",
       "      <td>8740.97</td>\n",
       "      <td>6.69</td>\n",
       "      <td>5.94</td>\n",
       "      <td>37</td>\n",
       "      <td>14.0</td>\n",
       "      <td>11.30</td>\n",
       "      <td>1.94</td>\n",
       "      <td>36</td>\n",
       "      <td>73</td>\n",
       "      <td>1.48</td>\n",
       "      <td>4</td>\n",
       "      <td>1173.18</td>\n",
       "      <td>10</td>\n",
       "      <td>32.00</td>\n",
       "      <td>71.90</td>\n",
       "      <td>2</td>\n",
       "      <td>0</td>\n",
       "      <td>3</td>\n",
       "      <td>2</td>\n",
       "      <td>0.155844</td>\n",
       "      <td>1</td>\n",
       "    </tr>\n",
       "    <tr>\n",
       "      <th>210</th>\n",
       "      <td>610.36</td>\n",
       "      <td>0.20</td>\n",
       "      <td>2.32</td>\n",
       "      <td>35</td>\n",
       "      <td>235.0</td>\n",
       "      <td>20.30</td>\n",
       "      <td>1.94</td>\n",
       "      <td>12</td>\n",
       "      <td>65</td>\n",
       "      <td>1.48</td>\n",
       "      <td>-2</td>\n",
       "      <td>130.06</td>\n",
       "      <td>6</td>\n",
       "      <td>39.00</td>\n",
       "      <td>30.64</td>\n",
       "      <td>1</td>\n",
       "      <td>2</td>\n",
       "      <td>0</td>\n",
       "      <td>0</td>\n",
       "      <td>0.101449</td>\n",
       "      <td>0</td>\n",
       "    </tr>\n",
       "    <tr>\n",
       "      <th>211</th>\n",
       "      <td>432.23</td>\n",
       "      <td>3.56</td>\n",
       "      <td>0.34</td>\n",
       "      <td>13</td>\n",
       "      <td>132.0</td>\n",
       "      <td>53.50</td>\n",
       "      <td>13.50</td>\n",
       "      <td>10</td>\n",
       "      <td>49</td>\n",
       "      <td>1.48</td>\n",
       "      <td>7</td>\n",
       "      <td>168.62</td>\n",
       "      <td>12</td>\n",
       "      <td>61.00</td>\n",
       "      <td>35.42</td>\n",
       "      <td>3</td>\n",
       "      <td>2</td>\n",
       "      <td>0</td>\n",
       "      <td>1</td>\n",
       "      <td>0.101449</td>\n",
       "      <td>1</td>\n",
       "    </tr>\n",
       "    <tr>\n",
       "      <th>212</th>\n",
       "      <td>320.77</td>\n",
       "      <td>4.96</td>\n",
       "      <td>1.03</td>\n",
       "      <td>19</td>\n",
       "      <td>590.0</td>\n",
       "      <td>58.10</td>\n",
       "      <td>14.30</td>\n",
       "      <td>12</td>\n",
       "      <td>51</td>\n",
       "      <td>1.48</td>\n",
       "      <td>1</td>\n",
       "      <td>297.88</td>\n",
       "      <td>14</td>\n",
       "      <td>66.80</td>\n",
       "      <td>37.34</td>\n",
       "      <td>2</td>\n",
       "      <td>3</td>\n",
       "      <td>0</td>\n",
       "      <td>1</td>\n",
       "      <td>0.101449</td>\n",
       "      <td>1</td>\n",
       "    </tr>\n",
       "  </tbody>\n",
       "</table>\n",
       "<p>213 rows × 21 columns</p>\n",
       "</div>"
      ],
      "text/plain": [
       "     incomeperperson  alcconsumption  armedforcesrate  breastcancerper100th  co2emissions  femaleemployrate  hivrate  internetuserate  lifeexpectancy  oilperperson  polityscore  relectricperperson  suicideper100th  employrate  urbanrate  demoscorecat  co2cat  incomecat  alccat  electricat  politycat\n",
       "0            8740.97            0.03             0.57                    27          76.0             25.60     1.94                4              49          1.48            0             1173.18                7       55.70      24.04             1       1          3       0    0.155844          0\n",
       "1            1915.00            7.29             1.02                    57         224.0             42.10     1.94               45              77          1.48            9              636.34                8       51.40      46.72             3       2          1       3    0.101449          1\n",
       "2            2231.99            0.69             2.31                    24        2932.0             31.70     0.10               12              73          0.42            2              590.51                5       50.50      65.22             2       3          2       0    0.101449          1\n",
       "3           21943.34           10.17             1.44                    37        5033.0             47.55     1.94               81              70          1.48            4             1173.18                5       58.64      88.92             2       4          4       4    0.155844          1\n",
       "4            1381.00            5.57             1.46                    23         248.0             69.40     2.00               10              51          1.48           -2              173.00               15       75.70      56.70             1       2          1       2    0.101449          0\n",
       "..               ...             ...              ...                   ...           ...               ...      ...              ...             ...           ...          ...                 ...              ...         ...        ...           ...     ...        ...     ...         ...        ...\n",
       "208           722.81            3.91             1.09                    16        1425.0             67.60     0.40               28              75          1.48           -7              302.73               12       71.00      27.84             0       3          1       1    0.101449          0\n",
       "209          8740.97            6.69             5.94                    37          14.0             11.30     1.94               36              73          1.48            4             1173.18               10       32.00      71.90             2       0          3       2    0.155844          1\n",
       "210           610.36            0.20             2.32                    35         235.0             20.30     1.94               12              65          1.48           -2              130.06                6       39.00      30.64             1       2          0       0    0.101449          0\n",
       "211           432.23            3.56             0.34                    13         132.0             53.50    13.50               10              49          1.48            7              168.62               12       61.00      35.42             3       2          0       1    0.101449          1\n",
       "212           320.77            4.96             1.03                    19         590.0             58.10    14.30               12              51          1.48            1              297.88               14       66.80      37.34             2       3          0       1    0.101449          1\n",
       "\n",
       "[213 rows x 21 columns]"
      ]
     },
     "execution_count": 3,
     "metadata": {},
     "output_type": "execute_result"
    }
   ],
   "source": [
    "df"
   ]
  },
  {
   "cell_type": "code",
   "execution_count": 4,
   "metadata": {},
   "outputs": [
    {
     "name": "stdout",
     "output_type": "stream",
     "text": [
      "<class 'pandas.core.frame.DataFrame'>\n",
      "RangeIndex: 213 entries, 0 to 212\n",
      "Data columns (total 21 columns):\n",
      " #   Column                Non-Null Count  Dtype  \n",
      "---  ------                --------------  -----  \n",
      " 0   incomeperperson       213 non-null    float64\n",
      " 1   alcconsumption        213 non-null    float64\n",
      " 2   armedforcesrate       213 non-null    float64\n",
      " 3   breastcancerper100th  213 non-null    int64  \n",
      " 4   co2emissions          213 non-null    float64\n",
      " 5   femaleemployrate      213 non-null    float64\n",
      " 6   hivrate               213 non-null    float64\n",
      " 7   internetuserate       213 non-null    int64  \n",
      " 8   lifeexpectancy        213 non-null    int64  \n",
      " 9   oilperperson          213 non-null    float64\n",
      " 10  polityscore           213 non-null    int64  \n",
      " 11  relectricperperson    213 non-null    float64\n",
      " 12  suicideper100th       213 non-null    int64  \n",
      " 13  employrate            213 non-null    float64\n",
      " 14  urbanrate             213 non-null    float64\n",
      " 15  demoscorecat          213 non-null    int64  \n",
      " 16  co2cat                213 non-null    int64  \n",
      " 17  incomecat             213 non-null    int64  \n",
      " 18  alccat                213 non-null    int64  \n",
      " 19  electricat            213 non-null    float64\n",
      " 20  politycat             213 non-null    int64  \n",
      "dtypes: float64(11), int64(10)\n",
      "memory usage: 35.1 KB\n"
     ]
    }
   ],
   "source": [
    "df.info()"
   ]
  },
  {
   "cell_type": "code",
   "execution_count": 5,
   "metadata": {},
   "outputs": [],
   "source": [
    "df[['demoscorecat', 'co2cat', 'incomecat', 'alccat', 'electricat','politycat']] = df[['demoscorecat', 'co2cat', 'incomecat', 'alccat', 'electricat','politycat']].astype('category')"
   ]
  },
  {
   "cell_type": "code",
   "execution_count": 6,
   "metadata": {},
   "outputs": [
    {
     "data": {
      "text/html": [
       "<div>\n",
       "<style scoped>\n",
       "    .dataframe tbody tr th:only-of-type {\n",
       "        vertical-align: middle;\n",
       "    }\n",
       "\n",
       "    .dataframe tbody tr th {\n",
       "        vertical-align: top;\n",
       "    }\n",
       "\n",
       "    .dataframe thead th {\n",
       "        text-align: right;\n",
       "    }\n",
       "</style>\n",
       "<table border=\"1\" class=\"dataframe\">\n",
       "  <thead>\n",
       "    <tr style=\"text-align: right;\">\n",
       "      <th></th>\n",
       "      <th>incomeperperson</th>\n",
       "      <th>alcconsumption</th>\n",
       "      <th>armedforcesrate</th>\n",
       "      <th>breastcancerper100th</th>\n",
       "      <th>co2emissions</th>\n",
       "      <th>femaleemployrate</th>\n",
       "      <th>hivrate</th>\n",
       "      <th>internetuserate</th>\n",
       "      <th>lifeexpectancy</th>\n",
       "      <th>oilperperson</th>\n",
       "      <th>polityscore</th>\n",
       "      <th>relectricperperson</th>\n",
       "      <th>suicideper100th</th>\n",
       "      <th>employrate</th>\n",
       "      <th>urbanrate</th>\n",
       "      <th>demoscorecat</th>\n",
       "      <th>co2cat</th>\n",
       "      <th>incomecat</th>\n",
       "      <th>alccat</th>\n",
       "      <th>electricat</th>\n",
       "      <th>politycat</th>\n",
       "    </tr>\n",
       "  </thead>\n",
       "  <tbody>\n",
       "    <tr>\n",
       "      <th>count</th>\n",
       "      <td>213.000000</td>\n",
       "      <td>213.000000</td>\n",
       "      <td>213.000000</td>\n",
       "      <td>213.000000</td>\n",
       "      <td>213.000000</td>\n",
       "      <td>213.000000</td>\n",
       "      <td>213.000000</td>\n",
       "      <td>213.000000</td>\n",
       "      <td>213.000000</td>\n",
       "      <td>213.000000</td>\n",
       "      <td>213.000000</td>\n",
       "      <td>213.000000</td>\n",
       "      <td>213.000000</td>\n",
       "      <td>213.00000</td>\n",
       "      <td>213.000000</td>\n",
       "      <td>213.0</td>\n",
       "      <td>213.0</td>\n",
       "      <td>213.0</td>\n",
       "      <td>213.0</td>\n",
       "      <td>213.000000</td>\n",
       "      <td>213.0</td>\n",
       "    </tr>\n",
       "    <tr>\n",
       "      <th>unique</th>\n",
       "      <td>NaN</td>\n",
       "      <td>NaN</td>\n",
       "      <td>NaN</td>\n",
       "      <td>NaN</td>\n",
       "      <td>NaN</td>\n",
       "      <td>NaN</td>\n",
       "      <td>NaN</td>\n",
       "      <td>NaN</td>\n",
       "      <td>NaN</td>\n",
       "      <td>NaN</td>\n",
       "      <td>NaN</td>\n",
       "      <td>NaN</td>\n",
       "      <td>NaN</td>\n",
       "      <td>NaN</td>\n",
       "      <td>NaN</td>\n",
       "      <td>4.0</td>\n",
       "      <td>5.0</td>\n",
       "      <td>5.0</td>\n",
       "      <td>5.0</td>\n",
       "      <td>5.000000</td>\n",
       "      <td>2.0</td>\n",
       "    </tr>\n",
       "    <tr>\n",
       "      <th>top</th>\n",
       "      <td>NaN</td>\n",
       "      <td>NaN</td>\n",
       "      <td>NaN</td>\n",
       "      <td>NaN</td>\n",
       "      <td>NaN</td>\n",
       "      <td>NaN</td>\n",
       "      <td>NaN</td>\n",
       "      <td>NaN</td>\n",
       "      <td>NaN</td>\n",
       "      <td>NaN</td>\n",
       "      <td>NaN</td>\n",
       "      <td>NaN</td>\n",
       "      <td>NaN</td>\n",
       "      <td>NaN</td>\n",
       "      <td>NaN</td>\n",
       "      <td>3.0</td>\n",
       "      <td>4.0</td>\n",
       "      <td>4.0</td>\n",
       "      <td>2.0</td>\n",
       "      <td>0.155844</td>\n",
       "      <td>1.0</td>\n",
       "    </tr>\n",
       "    <tr>\n",
       "      <th>freq</th>\n",
       "      <td>NaN</td>\n",
       "      <td>NaN</td>\n",
       "      <td>NaN</td>\n",
       "      <td>NaN</td>\n",
       "      <td>NaN</td>\n",
       "      <td>NaN</td>\n",
       "      <td>NaN</td>\n",
       "      <td>NaN</td>\n",
       "      <td>NaN</td>\n",
       "      <td>NaN</td>\n",
       "      <td>NaN</td>\n",
       "      <td>NaN</td>\n",
       "      <td>NaN</td>\n",
       "      <td>NaN</td>\n",
       "      <td>NaN</td>\n",
       "      <td>90.0</td>\n",
       "      <td>43.0</td>\n",
       "      <td>43.0</td>\n",
       "      <td>45.0</td>\n",
       "      <td>77.000000</td>\n",
       "      <td>161.0</td>\n",
       "    </tr>\n",
       "    <tr>\n",
       "      <th>mean</th>\n",
       "      <td>8740.966338</td>\n",
       "      <td>6.689484</td>\n",
       "      <td>1.443052</td>\n",
       "      <td>37.323944</td>\n",
       "      <td>5033.244131</td>\n",
       "      <td>47.549531</td>\n",
       "      <td>1.936854</td>\n",
       "      <td>35.685446</td>\n",
       "      <td>69.751174</td>\n",
       "      <td>1.481362</td>\n",
       "      <td>3.765258</td>\n",
       "      <td>1173.179390</td>\n",
       "      <td>9.685446</td>\n",
       "      <td>58.63662</td>\n",
       "      <td>56.769390</td>\n",
       "      <td>NaN</td>\n",
       "      <td>NaN</td>\n",
       "      <td>NaN</td>\n",
       "      <td>NaN</td>\n",
       "      <td>NaN</td>\n",
       "      <td>NaN</td>\n",
       "    </tr>\n",
       "    <tr>\n",
       "      <th>std</th>\n",
       "      <td>13466.912542</td>\n",
       "      <td>4.589345</td>\n",
       "      <td>1.498692</td>\n",
       "      <td>20.443277</td>\n",
       "      <td>24936.503422</td>\n",
       "      <td>13.364005</td>\n",
       "      <td>3.632102</td>\n",
       "      <td>26.418255</td>\n",
       "      <td>9.241981</td>\n",
       "      <td>0.987116</td>\n",
       "      <td>5.487663</td>\n",
       "      <td>1341.777091</td>\n",
       "      <td>5.955782</td>\n",
       "      <td>9.61196</td>\n",
       "      <td>23.275759</td>\n",
       "      <td>NaN</td>\n",
       "      <td>NaN</td>\n",
       "      <td>NaN</td>\n",
       "      <td>NaN</td>\n",
       "      <td>NaN</td>\n",
       "      <td>NaN</td>\n",
       "    </tr>\n",
       "    <tr>\n",
       "      <th>min</th>\n",
       "      <td>103.780000</td>\n",
       "      <td>0.030000</td>\n",
       "      <td>0.000000</td>\n",
       "      <td>4.000000</td>\n",
       "      <td>0.000000</td>\n",
       "      <td>11.300000</td>\n",
       "      <td>0.060000</td>\n",
       "      <td>0.000000</td>\n",
       "      <td>48.000000</td>\n",
       "      <td>0.030000</td>\n",
       "      <td>-10.000000</td>\n",
       "      <td>0.000000</td>\n",
       "      <td>0.000000</td>\n",
       "      <td>32.00000</td>\n",
       "      <td>10.400000</td>\n",
       "      <td>NaN</td>\n",
       "      <td>NaN</td>\n",
       "      <td>NaN</td>\n",
       "      <td>NaN</td>\n",
       "      <td>NaN</td>\n",
       "      <td>NaN</td>\n",
       "    </tr>\n",
       "    <tr>\n",
       "      <th>25%</th>\n",
       "      <td>952.830000</td>\n",
       "      <td>3.230000</td>\n",
       "      <td>0.570000</td>\n",
       "      <td>23.000000</td>\n",
       "      <td>38.000000</td>\n",
       "      <td>40.300000</td>\n",
       "      <td>0.200000</td>\n",
       "      <td>12.000000</td>\n",
       "      <td>65.000000</td>\n",
       "      <td>1.480000</td>\n",
       "      <td>1.000000</td>\n",
       "      <td>431.630000</td>\n",
       "      <td>6.000000</td>\n",
       "      <td>53.50000</td>\n",
       "      <td>37.340000</td>\n",
       "      <td>NaN</td>\n",
       "      <td>NaN</td>\n",
       "      <td>NaN</td>\n",
       "      <td>NaN</td>\n",
       "      <td>NaN</td>\n",
       "      <td>NaN</td>\n",
       "    </tr>\n",
       "    <tr>\n",
       "      <th>50%</th>\n",
       "      <td>3665.350000</td>\n",
       "      <td>6.690000</td>\n",
       "      <td>1.210000</td>\n",
       "      <td>35.000000</td>\n",
       "      <td>235.000000</td>\n",
       "      <td>47.550000</td>\n",
       "      <td>1.200000</td>\n",
       "      <td>36.000000</td>\n",
       "      <td>72.000000</td>\n",
       "      <td>1.480000</td>\n",
       "      <td>4.000000</td>\n",
       "      <td>1173.180000</td>\n",
       "      <td>10.000000</td>\n",
       "      <td>58.64000</td>\n",
       "      <td>56.770000</td>\n",
       "      <td>NaN</td>\n",
       "      <td>NaN</td>\n",
       "      <td>NaN</td>\n",
       "      <td>NaN</td>\n",
       "      <td>NaN</td>\n",
       "      <td>NaN</td>\n",
       "    </tr>\n",
       "    <tr>\n",
       "      <th>75%</th>\n",
       "      <td>8740.970000</td>\n",
       "      <td>9.500000</td>\n",
       "      <td>1.440000</td>\n",
       "      <td>44.000000</td>\n",
       "      <td>2422.000000</td>\n",
       "      <td>53.600000</td>\n",
       "      <td>1.940000</td>\n",
       "      <td>52.000000</td>\n",
       "      <td>76.000000</td>\n",
       "      <td>1.480000</td>\n",
       "      <td>8.000000</td>\n",
       "      <td>1173.180000</td>\n",
       "      <td>12.000000</td>\n",
       "      <td>63.70000</td>\n",
       "      <td>73.500000</td>\n",
       "      <td>NaN</td>\n",
       "      <td>NaN</td>\n",
       "      <td>NaN</td>\n",
       "      <td>NaN</td>\n",
       "      <td>NaN</td>\n",
       "      <td>NaN</td>\n",
       "    </tr>\n",
       "    <tr>\n",
       "      <th>max</th>\n",
       "      <td>105147.440000</td>\n",
       "      <td>23.010000</td>\n",
       "      <td>10.640000</td>\n",
       "      <td>101.000000</td>\n",
       "      <td>334221.000000</td>\n",
       "      <td>83.300000</td>\n",
       "      <td>25.900000</td>\n",
       "      <td>96.000000</td>\n",
       "      <td>83.000000</td>\n",
       "      <td>12.230000</td>\n",
       "      <td>10.000000</td>\n",
       "      <td>11154.760000</td>\n",
       "      <td>36.000000</td>\n",
       "      <td>83.20000</td>\n",
       "      <td>100.000000</td>\n",
       "      <td>NaN</td>\n",
       "      <td>NaN</td>\n",
       "      <td>NaN</td>\n",
       "      <td>NaN</td>\n",
       "      <td>NaN</td>\n",
       "      <td>NaN</td>\n",
       "    </tr>\n",
       "  </tbody>\n",
       "</table>\n",
       "</div>"
      ],
      "text/plain": [
       "        incomeperperson  alcconsumption  armedforcesrate  breastcancerper100th   co2emissions  femaleemployrate     hivrate  internetuserate  lifeexpectancy  oilperperson  polityscore  relectricperperson  suicideper100th  employrate   urbanrate  demoscorecat  co2cat  incomecat  alccat  electricat  politycat\n",
       "count        213.000000      213.000000       213.000000            213.000000     213.000000        213.000000  213.000000       213.000000      213.000000    213.000000   213.000000          213.000000       213.000000   213.00000  213.000000         213.0   213.0      213.0   213.0  213.000000      213.0\n",
       "unique              NaN             NaN              NaN                   NaN            NaN               NaN         NaN              NaN             NaN           NaN          NaN                 NaN              NaN         NaN         NaN           4.0     5.0        5.0     5.0    5.000000        2.0\n",
       "top                 NaN             NaN              NaN                   NaN            NaN               NaN         NaN              NaN             NaN           NaN          NaN                 NaN              NaN         NaN         NaN           3.0     4.0        4.0     2.0    0.155844        1.0\n",
       "freq                NaN             NaN              NaN                   NaN            NaN               NaN         NaN              NaN             NaN           NaN          NaN                 NaN              NaN         NaN         NaN          90.0    43.0       43.0    45.0   77.000000      161.0\n",
       "mean        8740.966338        6.689484         1.443052             37.323944    5033.244131         47.549531    1.936854        35.685446       69.751174      1.481362     3.765258         1173.179390         9.685446    58.63662   56.769390           NaN     NaN        NaN     NaN         NaN        NaN\n",
       "std        13466.912542        4.589345         1.498692             20.443277   24936.503422         13.364005    3.632102        26.418255        9.241981      0.987116     5.487663         1341.777091         5.955782     9.61196   23.275759           NaN     NaN        NaN     NaN         NaN        NaN\n",
       "min          103.780000        0.030000         0.000000              4.000000       0.000000         11.300000    0.060000         0.000000       48.000000      0.030000   -10.000000            0.000000         0.000000    32.00000   10.400000           NaN     NaN        NaN     NaN         NaN        NaN\n",
       "25%          952.830000        3.230000         0.570000             23.000000      38.000000         40.300000    0.200000        12.000000       65.000000      1.480000     1.000000          431.630000         6.000000    53.50000   37.340000           NaN     NaN        NaN     NaN         NaN        NaN\n",
       "50%         3665.350000        6.690000         1.210000             35.000000     235.000000         47.550000    1.200000        36.000000       72.000000      1.480000     4.000000         1173.180000        10.000000    58.64000   56.770000           NaN     NaN        NaN     NaN         NaN        NaN\n",
       "75%         8740.970000        9.500000         1.440000             44.000000    2422.000000         53.600000    1.940000        52.000000       76.000000      1.480000     8.000000         1173.180000        12.000000    63.70000   73.500000           NaN     NaN        NaN     NaN         NaN        NaN\n",
       "max       105147.440000       23.010000        10.640000            101.000000  334221.000000         83.300000   25.900000        96.000000       83.000000     12.230000    10.000000        11154.760000        36.000000    83.20000  100.000000           NaN     NaN        NaN     NaN         NaN        NaN"
      ]
     },
     "execution_count": 6,
     "metadata": {},
     "output_type": "execute_result"
    }
   ],
   "source": [
    "df.describe(include='all')"
   ]
  },
  {
   "cell_type": "code",
   "execution_count": 7,
   "metadata": {},
   "outputs": [
    {
     "data": {
      "text/plain": [
       "(213, 21)"
      ]
     },
     "execution_count": 7,
     "metadata": {},
     "output_type": "execute_result"
    }
   ],
   "source": [
    "df.shape"
   ]
  },
  {
   "cell_type": "code",
   "execution_count": 8,
   "metadata": {},
   "outputs": [
    {
     "data": {
      "text/plain": [
       "Index(['incomeperperson', 'alcconsumption', 'armedforcesrate', 'breastcancerper100th', 'co2emissions', 'femaleemployrate', 'hivrate', 'internetuserate', 'lifeexpectancy', 'oilperperson', 'polityscore', 'relectricperperson', 'suicideper100th', 'employrate', 'urbanrate', 'demoscorecat', 'co2cat', 'incomecat', 'alccat', 'electricat', 'politycat'], dtype='object')"
      ]
     },
     "execution_count": 8,
     "metadata": {},
     "output_type": "execute_result"
    }
   ],
   "source": [
    "df.columns"
   ]
  },
  {
   "cell_type": "markdown",
   "metadata": {},
   "source": [
    "## Data Preprocessing"
   ]
  },
  {
   "cell_type": "markdown",
   "metadata": {},
   "source": [
    "### Drop unwanted features"
   ]
  },
  {
   "cell_type": "code",
   "execution_count": 9,
   "metadata": {},
   "outputs": [
    {
     "data": {
      "text/plain": [
       "Index(['incomeperperson', 'alcconsumption', 'armedforcesrate', 'breastcancerper100th', 'co2emissions', 'femaleemployrate', 'hivrate', 'internetuserate', 'lifeexpectancy', 'oilperperson', 'polityscore', 'relectricperperson', 'suicideper100th', 'employrate', 'urbanrate', 'demoscorecat', 'co2cat', 'incomecat', 'alccat', 'electricat', 'politycat'], dtype='object')"
      ]
     },
     "execution_count": 9,
     "metadata": {},
     "output_type": "execute_result"
    }
   ],
   "source": [
    "df.columns"
   ]
  },
  {
   "cell_type": "code",
   "execution_count": 10,
   "metadata": {},
   "outputs": [],
   "source": [
    "df.drop(['demoscorecat', 'co2cat', 'incomecat', 'alccat', 'electricat','polityscore'],axis=1, inplace=True)"
   ]
  },
  {
   "cell_type": "code",
   "execution_count": 11,
   "metadata": {},
   "outputs": [
    {
     "data": {
      "text/html": [
       "<div>\n",
       "<style scoped>\n",
       "    .dataframe tbody tr th:only-of-type {\n",
       "        vertical-align: middle;\n",
       "    }\n",
       "\n",
       "    .dataframe tbody tr th {\n",
       "        vertical-align: top;\n",
       "    }\n",
       "\n",
       "    .dataframe thead th {\n",
       "        text-align: right;\n",
       "    }\n",
       "</style>\n",
       "<table border=\"1\" class=\"dataframe\">\n",
       "  <thead>\n",
       "    <tr style=\"text-align: right;\">\n",
       "      <th></th>\n",
       "      <th>incomeperperson</th>\n",
       "      <th>alcconsumption</th>\n",
       "      <th>armedforcesrate</th>\n",
       "      <th>breastcancerper100th</th>\n",
       "      <th>co2emissions</th>\n",
       "      <th>femaleemployrate</th>\n",
       "      <th>hivrate</th>\n",
       "      <th>internetuserate</th>\n",
       "      <th>lifeexpectancy</th>\n",
       "      <th>oilperperson</th>\n",
       "      <th>relectricperperson</th>\n",
       "      <th>suicideper100th</th>\n",
       "      <th>employrate</th>\n",
       "      <th>urbanrate</th>\n",
       "      <th>politycat</th>\n",
       "    </tr>\n",
       "  </thead>\n",
       "  <tbody>\n",
       "    <tr>\n",
       "      <th>0</th>\n",
       "      <td>8740.97</td>\n",
       "      <td>0.03</td>\n",
       "      <td>0.57</td>\n",
       "      <td>27</td>\n",
       "      <td>76.0</td>\n",
       "      <td>25.60</td>\n",
       "      <td>1.94</td>\n",
       "      <td>4</td>\n",
       "      <td>49</td>\n",
       "      <td>1.48</td>\n",
       "      <td>1173.18</td>\n",
       "      <td>7</td>\n",
       "      <td>55.70</td>\n",
       "      <td>24.04</td>\n",
       "      <td>0</td>\n",
       "    </tr>\n",
       "    <tr>\n",
       "      <th>1</th>\n",
       "      <td>1915.00</td>\n",
       "      <td>7.29</td>\n",
       "      <td>1.02</td>\n",
       "      <td>57</td>\n",
       "      <td>224.0</td>\n",
       "      <td>42.10</td>\n",
       "      <td>1.94</td>\n",
       "      <td>45</td>\n",
       "      <td>77</td>\n",
       "      <td>1.48</td>\n",
       "      <td>636.34</td>\n",
       "      <td>8</td>\n",
       "      <td>51.40</td>\n",
       "      <td>46.72</td>\n",
       "      <td>1</td>\n",
       "    </tr>\n",
       "    <tr>\n",
       "      <th>2</th>\n",
       "      <td>2231.99</td>\n",
       "      <td>0.69</td>\n",
       "      <td>2.31</td>\n",
       "      <td>24</td>\n",
       "      <td>2932.0</td>\n",
       "      <td>31.70</td>\n",
       "      <td>0.10</td>\n",
       "      <td>12</td>\n",
       "      <td>73</td>\n",
       "      <td>0.42</td>\n",
       "      <td>590.51</td>\n",
       "      <td>5</td>\n",
       "      <td>50.50</td>\n",
       "      <td>65.22</td>\n",
       "      <td>1</td>\n",
       "    </tr>\n",
       "    <tr>\n",
       "      <th>3</th>\n",
       "      <td>21943.34</td>\n",
       "      <td>10.17</td>\n",
       "      <td>1.44</td>\n",
       "      <td>37</td>\n",
       "      <td>5033.0</td>\n",
       "      <td>47.55</td>\n",
       "      <td>1.94</td>\n",
       "      <td>81</td>\n",
       "      <td>70</td>\n",
       "      <td>1.48</td>\n",
       "      <td>1173.18</td>\n",
       "      <td>5</td>\n",
       "      <td>58.64</td>\n",
       "      <td>88.92</td>\n",
       "      <td>1</td>\n",
       "    </tr>\n",
       "    <tr>\n",
       "      <th>4</th>\n",
       "      <td>1381.00</td>\n",
       "      <td>5.57</td>\n",
       "      <td>1.46</td>\n",
       "      <td>23</td>\n",
       "      <td>248.0</td>\n",
       "      <td>69.40</td>\n",
       "      <td>2.00</td>\n",
       "      <td>10</td>\n",
       "      <td>51</td>\n",
       "      <td>1.48</td>\n",
       "      <td>173.00</td>\n",
       "      <td>15</td>\n",
       "      <td>75.70</td>\n",
       "      <td>56.70</td>\n",
       "      <td>0</td>\n",
       "    </tr>\n",
       "  </tbody>\n",
       "</table>\n",
       "</div>"
      ],
      "text/plain": [
       "   incomeperperson  alcconsumption  armedforcesrate  breastcancerper100th  co2emissions  femaleemployrate  hivrate  internetuserate  lifeexpectancy  oilperperson  relectricperperson  suicideper100th  employrate  urbanrate politycat\n",
       "0          8740.97            0.03             0.57                    27          76.0             25.60     1.94                4              49          1.48             1173.18                7       55.70      24.04         0\n",
       "1          1915.00            7.29             1.02                    57         224.0             42.10     1.94               45              77          1.48              636.34                8       51.40      46.72         1\n",
       "2          2231.99            0.69             2.31                    24        2932.0             31.70     0.10               12              73          0.42              590.51                5       50.50      65.22         1\n",
       "3         21943.34           10.17             1.44                    37        5033.0             47.55     1.94               81              70          1.48             1173.18                5       58.64      88.92         1\n",
       "4          1381.00            5.57             1.46                    23         248.0             69.40     2.00               10              51          1.48              173.00               15       75.70      56.70         0"
      ]
     },
     "execution_count": 11,
     "metadata": {},
     "output_type": "execute_result"
    }
   ],
   "source": [
    "df.head()"
   ]
  },
  {
   "cell_type": "markdown",
   "metadata": {},
   "source": [
    "### Treat Missing Values"
   ]
  },
  {
   "cell_type": "code",
   "execution_count": 12,
   "metadata": {},
   "outputs": [
    {
     "data": {
      "text/plain": [
       "incomeperperson         0\n",
       "alcconsumption          0\n",
       "armedforcesrate         0\n",
       "breastcancerper100th    0\n",
       "co2emissions            0\n",
       "femaleemployrate        0\n",
       "hivrate                 0\n",
       "internetuserate         0\n",
       "lifeexpectancy          0\n",
       "oilperperson            0\n",
       "relectricperperson      0\n",
       "suicideper100th         0\n",
       "employrate              0\n",
       "urbanrate               0\n",
       "politycat               0\n",
       "dtype: int64"
      ]
     },
     "execution_count": 12,
     "metadata": {},
     "output_type": "execute_result"
    }
   ],
   "source": [
    "df.isnull().sum()"
   ]
  },
  {
   "cell_type": "markdown",
   "metadata": {},
   "source": [
    "### Treat Duplicate Values"
   ]
  },
  {
   "cell_type": "code",
   "execution_count": 13,
   "metadata": {},
   "outputs": [
    {
     "data": {
      "text/plain": [
       "0"
      ]
     },
     "execution_count": 13,
     "metadata": {},
     "output_type": "execute_result"
    }
   ],
   "source": [
    "df.duplicated(keep='first').sum()"
   ]
  },
  {
   "cell_type": "markdown",
   "metadata": {},
   "source": [
    "### Treat Data Types"
   ]
  },
  {
   "cell_type": "code",
   "execution_count": 14,
   "metadata": {},
   "outputs": [
    {
     "name": "stdout",
     "output_type": "stream",
     "text": [
      "<class 'pandas.core.frame.DataFrame'>\n",
      "RangeIndex: 213 entries, 0 to 212\n",
      "Data columns (total 15 columns):\n",
      " #   Column                Non-Null Count  Dtype   \n",
      "---  ------                --------------  -----   \n",
      " 0   incomeperperson       213 non-null    float64 \n",
      " 1   alcconsumption        213 non-null    float64 \n",
      " 2   armedforcesrate       213 non-null    float64 \n",
      " 3   breastcancerper100th  213 non-null    int64   \n",
      " 4   co2emissions          213 non-null    float64 \n",
      " 5   femaleemployrate      213 non-null    float64 \n",
      " 6   hivrate               213 non-null    float64 \n",
      " 7   internetuserate       213 non-null    int64   \n",
      " 8   lifeexpectancy        213 non-null    int64   \n",
      " 9   oilperperson          213 non-null    float64 \n",
      " 10  relectricperperson    213 non-null    float64 \n",
      " 11  suicideper100th       213 non-null    int64   \n",
      " 12  employrate            213 non-null    float64 \n",
      " 13  urbanrate             213 non-null    float64 \n",
      " 14  politycat             213 non-null    category\n",
      "dtypes: category(1), float64(10), int64(4)\n",
      "memory usage: 23.7 KB\n"
     ]
    }
   ],
   "source": [
    "df.info()"
   ]
  },
  {
   "cell_type": "markdown",
   "metadata": {},
   "source": [
    "### Train Test Split"
   ]
  },
  {
   "cell_type": "code",
   "execution_count": 15,
   "metadata": {},
   "outputs": [
    {
     "data": {
      "text/plain": [
       "(213, 15)"
      ]
     },
     "execution_count": 15,
     "metadata": {},
     "output_type": "execute_result"
    }
   ],
   "source": [
    "df.shape"
   ]
  },
  {
   "cell_type": "code",
   "execution_count": 16,
   "metadata": {},
   "outputs": [],
   "source": [
    "X = df.iloc[:,0:14]\n",
    "y = df.iloc[:,14]"
   ]
  },
  {
   "cell_type": "markdown",
   "metadata": {},
   "source": [
    "### Train Test Split Cont'd"
   ]
  },
  {
   "cell_type": "code",
   "execution_count": 17,
   "metadata": {},
   "outputs": [
    {
     "data": {
      "text/plain": [
       "(array([[8740.97,    0.03,    0.57, ...,    7.  ,   55.7 ,   24.04],\n",
       "        [1915.  ,    7.29,    1.02, ...,    8.  ,   51.4 ,   46.72],\n",
       "        [2231.99,    0.69,    2.31, ...,    5.  ,   50.5 ,   65.22],\n",
       "        ...,\n",
       "        [ 610.36,    0.2 ,    2.32, ...,    6.  ,   39.  ,   30.64],\n",
       "        [ 432.23,    3.56,    0.34, ...,   12.  ,   61.  ,   35.42],\n",
       "        [ 320.77,    4.96,    1.03, ...,   14.  ,   66.8 ,   37.34]]),\n",
       " [0, 1, 1, 1, 0, ..., 0, 1, 0, 1, 1]\n",
       " Length: 213\n",
       " Categories (2, int64): [0, 1])"
      ]
     },
     "execution_count": 17,
     "metadata": {},
     "output_type": "execute_result"
    }
   ],
   "source": [
    "X.values, y.values"
   ]
  },
  {
   "cell_type": "code",
   "execution_count": 18,
   "metadata": {},
   "outputs": [],
   "source": [
    "X_train, X_test, y_train, y_test = train_test_split(X, y, test_size=0.2, random_state=0, stratify=y )"
   ]
  },
  {
   "cell_type": "code",
   "execution_count": 19,
   "metadata": {},
   "outputs": [
    {
     "data": {
      "text/plain": [
       "((170, 14), (43, 14), (170,), (43,))"
      ]
     },
     "execution_count": 19,
     "metadata": {},
     "output_type": "execute_result"
    }
   ],
   "source": [
    "X_train.shape, X_test.shape, y_train.shape, y_test.shape"
   ]
  },
  {
   "cell_type": "markdown",
   "metadata": {},
   "source": [
    "### Feature Scaling"
   ]
  },
  {
   "cell_type": "code",
   "execution_count": 20,
   "metadata": {},
   "outputs": [
    {
     "data": {
      "text/html": [
       "<div>\n",
       "<style scoped>\n",
       "    .dataframe tbody tr th:only-of-type {\n",
       "        vertical-align: middle;\n",
       "    }\n",
       "\n",
       "    .dataframe tbody tr th {\n",
       "        vertical-align: top;\n",
       "    }\n",
       "\n",
       "    .dataframe thead th {\n",
       "        text-align: right;\n",
       "    }\n",
       "</style>\n",
       "<table border=\"1\" class=\"dataframe\">\n",
       "  <thead>\n",
       "    <tr style=\"text-align: right;\">\n",
       "      <th></th>\n",
       "      <th>incomeperperson</th>\n",
       "      <th>alcconsumption</th>\n",
       "      <th>armedforcesrate</th>\n",
       "      <th>breastcancerper100th</th>\n",
       "      <th>co2emissions</th>\n",
       "      <th>femaleemployrate</th>\n",
       "      <th>hivrate</th>\n",
       "      <th>internetuserate</th>\n",
       "      <th>lifeexpectancy</th>\n",
       "      <th>oilperperson</th>\n",
       "      <th>relectricperperson</th>\n",
       "      <th>suicideper100th</th>\n",
       "      <th>employrate</th>\n",
       "      <th>urbanrate</th>\n",
       "    </tr>\n",
       "  </thead>\n",
       "  <tbody>\n",
       "    <tr>\n",
       "      <th>14</th>\n",
       "      <td>558.06</td>\n",
       "      <td>0.17</td>\n",
       "      <td>0.29</td>\n",
       "      <td>17</td>\n",
       "      <td>599.0</td>\n",
       "      <td>53.60</td>\n",
       "      <td>0.06</td>\n",
       "      <td>4</td>\n",
       "      <td>69</td>\n",
       "      <td>0.03</td>\n",
       "      <td>68.12</td>\n",
       "      <td>15</td>\n",
       "      <td>68.10</td>\n",
       "      <td>27.14</td>\n",
       "    </tr>\n",
       "    <tr>\n",
       "      <th>147</th>\n",
       "      <td>6243.57</td>\n",
       "      <td>9.86</td>\n",
       "      <td>1.44</td>\n",
       "      <td>37</td>\n",
       "      <td>2.0</td>\n",
       "      <td>47.55</td>\n",
       "      <td>1.94</td>\n",
       "      <td>36</td>\n",
       "      <td>70</td>\n",
       "      <td>1.48</td>\n",
       "      <td>1173.18</td>\n",
       "      <td>6</td>\n",
       "      <td>58.64</td>\n",
       "      <td>80.46</td>\n",
       "    </tr>\n",
       "    <tr>\n",
       "      <th>58</th>\n",
       "      <td>131.80</td>\n",
       "      <td>1.64</td>\n",
       "      <td>9.82</td>\n",
       "      <td>20</td>\n",
       "      <td>7.0</td>\n",
       "      <td>51.70</td>\n",
       "      <td>0.80</td>\n",
       "      <td>5</td>\n",
       "      <td>62</td>\n",
       "      <td>1.48</td>\n",
       "      <td>20.29</td>\n",
       "      <td>9</td>\n",
       "      <td>64.90</td>\n",
       "      <td>20.72</td>\n",
       "    </tr>\n",
       "    <tr>\n",
       "      <th>85</th>\n",
       "      <td>33945.31</td>\n",
       "      <td>7.38</td>\n",
       "      <td>0.07</td>\n",
       "      <td>90</td>\n",
       "      <td>93.0</td>\n",
       "      <td>69.60</td>\n",
       "      <td>0.30</td>\n",
       "      <td>96</td>\n",
       "      <td>82</td>\n",
       "      <td>1.48</td>\n",
       "      <td>2826.04</td>\n",
       "      <td>11</td>\n",
       "      <td>73.60</td>\n",
       "      <td>92.26</td>\n",
       "    </tr>\n",
       "    <tr>\n",
       "      <th>161</th>\n",
       "      <td>9175.80</td>\n",
       "      <td>10.62</td>\n",
       "      <td>1.44</td>\n",
       "      <td>37</td>\n",
       "      <td>2.0</td>\n",
       "      <td>47.55</td>\n",
       "      <td>1.94</td>\n",
       "      <td>77</td>\n",
       "      <td>70</td>\n",
       "      <td>1.48</td>\n",
       "      <td>1173.18</td>\n",
       "      <td>10</td>\n",
       "      <td>58.64</td>\n",
       "      <td>32.32</td>\n",
       "    </tr>\n",
       "    <tr>\n",
       "      <th>...</th>\n",
       "      <td>...</td>\n",
       "      <td>...</td>\n",
       "      <td>...</td>\n",
       "      <td>...</td>\n",
       "      <td>...</td>\n",
       "      <td>...</td>\n",
       "      <td>...</td>\n",
       "      <td>...</td>\n",
       "      <td>...</td>\n",
       "      <td>...</td>\n",
       "      <td>...</td>\n",
       "      <td>...</td>\n",
       "      <td>...</td>\n",
       "      <td>...</td>\n",
       "    </tr>\n",
       "    <tr>\n",
       "      <th>176</th>\n",
       "      <td>1144.10</td>\n",
       "      <td>1.37</td>\n",
       "      <td>1.44</td>\n",
       "      <td>30</td>\n",
       "      <td>5.0</td>\n",
       "      <td>51.30</td>\n",
       "      <td>1.94</td>\n",
       "      <td>5</td>\n",
       "      <td>68</td>\n",
       "      <td>1.48</td>\n",
       "      <td>1173.18</td>\n",
       "      <td>4</td>\n",
       "      <td>65.00</td>\n",
       "      <td>17.96</td>\n",
       "    </tr>\n",
       "    <tr>\n",
       "      <th>100</th>\n",
       "      <td>16372.50</td>\n",
       "      <td>19.15</td>\n",
       "      <td>2.83</td>\n",
       "      <td>20</td>\n",
       "      <td>9667.0</td>\n",
       "      <td>48.00</td>\n",
       "      <td>0.06</td>\n",
       "      <td>83</td>\n",
       "      <td>81</td>\n",
       "      <td>2.09</td>\n",
       "      <td>1142.31</td>\n",
       "      <td>22</td>\n",
       "      <td>58.90</td>\n",
       "      <td>81.46</td>\n",
       "    </tr>\n",
       "    <tr>\n",
       "      <th>96</th>\n",
       "      <td>2481.72</td>\n",
       "      <td>11.10</td>\n",
       "      <td>0.96</td>\n",
       "      <td>39</td>\n",
       "      <td>2485.0</td>\n",
       "      <td>58.20</td>\n",
       "      <td>0.10</td>\n",
       "      <td>33</td>\n",
       "      <td>67</td>\n",
       "      <td>0.78</td>\n",
       "      <td>484.10</td>\n",
       "      <td>25</td>\n",
       "      <td>63.70</td>\n",
       "      <td>57.94</td>\n",
       "    </tr>\n",
       "    <tr>\n",
       "      <th>103</th>\n",
       "      <td>554.88</td>\n",
       "      <td>6.99</td>\n",
       "      <td>4.30</td>\n",
       "      <td>11</td>\n",
       "      <td>21.0</td>\n",
       "      <td>78.10</td>\n",
       "      <td>0.20</td>\n",
       "      <td>7</td>\n",
       "      <td>67</td>\n",
       "      <td>1.48</td>\n",
       "      <td>1173.18</td>\n",
       "      <td>26</td>\n",
       "      <td>78.20</td>\n",
       "      <td>30.88</td>\n",
       "    </tr>\n",
       "    <tr>\n",
       "      <th>106</th>\n",
       "      <td>495.73</td>\n",
       "      <td>5.56</td>\n",
       "      <td>0.22</td>\n",
       "      <td>13</td>\n",
       "      <td>5033.0</td>\n",
       "      <td>49.80</td>\n",
       "      <td>23.60</td>\n",
       "      <td>4</td>\n",
       "      <td>48</td>\n",
       "      <td>1.48</td>\n",
       "      <td>1173.18</td>\n",
       "      <td>8</td>\n",
       "      <td>56.30</td>\n",
       "      <td>25.46</td>\n",
       "    </tr>\n",
       "  </tbody>\n",
       "</table>\n",
       "<p>170 rows × 14 columns</p>\n",
       "</div>"
      ],
      "text/plain": [
       "     incomeperperson  alcconsumption  armedforcesrate  breastcancerper100th  co2emissions  femaleemployrate  hivrate  internetuserate  lifeexpectancy  oilperperson  relectricperperson  suicideper100th  employrate  urbanrate\n",
       "14            558.06            0.17             0.29                    17         599.0             53.60     0.06                4              69          0.03               68.12               15       68.10      27.14\n",
       "147          6243.57            9.86             1.44                    37           2.0             47.55     1.94               36              70          1.48             1173.18                6       58.64      80.46\n",
       "58            131.80            1.64             9.82                    20           7.0             51.70     0.80                5              62          1.48               20.29                9       64.90      20.72\n",
       "85          33945.31            7.38             0.07                    90          93.0             69.60     0.30               96              82          1.48             2826.04               11       73.60      92.26\n",
       "161          9175.80           10.62             1.44                    37           2.0             47.55     1.94               77              70          1.48             1173.18               10       58.64      32.32\n",
       "..               ...             ...              ...                   ...           ...               ...      ...              ...             ...           ...                 ...              ...         ...        ...\n",
       "176          1144.10            1.37             1.44                    30           5.0             51.30     1.94                5              68          1.48             1173.18                4       65.00      17.96\n",
       "100         16372.50           19.15             2.83                    20        9667.0             48.00     0.06               83              81          2.09             1142.31               22       58.90      81.46\n",
       "96           2481.72           11.10             0.96                    39        2485.0             58.20     0.10               33              67          0.78              484.10               25       63.70      57.94\n",
       "103           554.88            6.99             4.30                    11          21.0             78.10     0.20                7              67          1.48             1173.18               26       78.20      30.88\n",
       "106           495.73            5.56             0.22                    13        5033.0             49.80    23.60                4              48          1.48             1173.18                8       56.30      25.46\n",
       "\n",
       "[170 rows x 14 columns]"
      ]
     },
     "execution_count": 20,
     "metadata": {},
     "output_type": "execute_result"
    }
   ],
   "source": [
    "X_train"
   ]
  },
  {
   "cell_type": "code",
   "execution_count": 21,
   "metadata": {},
   "outputs": [],
   "source": [
    "minmax = MinMaxScaler()"
   ]
  },
  {
   "cell_type": "code",
   "execution_count": 22,
   "metadata": {},
   "outputs": [],
   "source": [
    "X_train_scaled = minmax.fit_transform(X_train)"
   ]
  },
  {
   "cell_type": "code",
   "execution_count": 23,
   "metadata": {},
   "outputs": [],
   "source": [
    "X_test_scaled = minmax.transform(X_test)"
   ]
  },
  {
   "cell_type": "code",
   "execution_count": 24,
   "metadata": {},
   "outputs": [
    {
     "data": {
      "text/plain": [
       "array([[0.00405901, 0.00522648, 0.02725564, ..., 0.4       , 0.6873706 ,\n",
       "        0.16693346],\n",
       "       [0.05819866, 0.42726481, 0.13533835, ..., 0.14285714, 0.49151139,\n",
       "        0.77658358],\n",
       "       [0.        , 0.06925087, 0.92293233, ..., 0.22857143, 0.62111801,\n",
       "        0.09352847],\n",
       "       ...,\n",
       "       [0.02237686, 0.48127178, 0.09022556, ..., 0.68571429, 0.59627329,\n",
       "        0.51909444],\n",
       "       [0.00402873, 0.30226481, 0.40413534, ..., 0.71428571, 0.89648033,\n",
       "        0.20969586],\n",
       "       [0.00346548, 0.23998258, 0.02067669, ..., 0.2       , 0.44306418,\n",
       "        0.14772467]])"
      ]
     },
     "execution_count": 24,
     "metadata": {},
     "output_type": "execute_result"
    }
   ],
   "source": [
    "X_train_scaled"
   ]
  },
  {
   "cell_type": "code",
   "execution_count": 25,
   "metadata": {},
   "outputs": [
    {
     "data": {
      "text/plain": [
       "array([[ 0.0523941 ,  0.69991289,  0.08176692,  0.60824742,  0.01269818,\n",
       "         0.39971347,  0.        ,  0.67708333,  0.74285714,  0.09937888,\n",
       "         0.13801738,  0.54285714,  0.25672878,  0.62840155],\n",
       "       [ 0.02888265,  0.04355401,  0.1193609 ,  0.16494845,  0.00157381,\n",
       "         0.12893983,  0.        ,  0.38541667,  0.77142857,  0.22515528,\n",
       "         0.0389641 ,  0.05714286,  0.13871636,  0.61696776],\n",
       "       [ 0.00286081,  0.15287456,  0.03195489,  0.09278351,  0.00039495,\n",
       "         0.58882521,  0.5432498 ,  0.10416667,  0.02857143,  0.22515528,\n",
       "         0.02016366,  0.31428571,  0.54037267,  0.26160531],\n",
       "       [ 0.21660269,  0.54137631,  0.1156015 ,  0.90721649,  0.09976034,\n",
       "         0.4756447 ,  0.01374293,  0.8125    ,  0.97142857,  0.20186335,\n",
       "         0.30370448,  0.37142857,  0.33747412,  0.74113881],\n",
       "       [ 0.06136181,  0.62630662,  0.07612782,  0.4742268 ,  0.06897831,\n",
       "         0.42550143,  0.00161681,  0.64583333,  0.8       ,  0.10248447,\n",
       "         0.08423248,  0.37142857,  0.28571429,  0.55774068],\n",
       "       [ 0.30856385,  0.06489547,  0.60056391,  0.46391753,  0.00463167,\n",
       "         0.55730659,  0.00161681,  0.73958333,  0.94285714,  1.89440994,\n",
       "         0.17516625,  0.22857143,  0.56935818,  1.        ],\n",
       "       [-0.00015702,  0.41811847,  0.10902256,  0.16494845,  0.00002394,\n",
       "         1.01575931,  0.130962  ,  0.02083333,  0.05714286,  0.22515528,\n",
       "         0.14028941,  0.4       ,  1.        , -0.02446833],\n",
       "       [ 0.00409377,  0.02003484,  0.03383459,  0.1443299 ,  0.00037999,\n",
       "         0.63753582,  0.03395311,  0.16666667,  0.31428571,  0.22515528,\n",
       "         0.00667139,  0.17142857,  0.63561077,  0.34118454],\n",
       "       [ 0.14456951,  0.38283972,  0.23026316,  0.64948454,  0.00055053,\n",
       "         0.55730659,  0.0759903 ,  0.55208333,  0.91428571,  0.22515528,\n",
       "         0.25396021,  0.02857143,  0.5010352 ,  0.65584267],\n",
       "       [ 0.02414355,  0.52439024,  0.18515038,  0.21649485,  0.00007779,\n",
       "         0.35673352,  0.52708165,  0.0625    ,  0.4       ,  0.22515528,\n",
       "         0.        ,  0.2       ,  0.14699793,  0.2778413 ],\n",
       "       [ 0.04646375,  0.58362369,  0.12406015,  0.41237113,  0.000377  ,\n",
       "         0.5487106 ,  0.02586904,  0.75      ,  0.71428571,  0.22515528,\n",
       "         0.10818086,  0.54285714,  0.45341615,  0.63549051],\n",
       "       [ 0.25158195,  0.42247387,  0.04981203,  0.8556701 ,  0.02837344,\n",
       "         0.60028653,  0.00565885,  0.94791667,  0.94285714,  0.46118012,\n",
       "         0.17818207,  0.2       ,  0.54658385,  0.79213355],\n",
       "       [ 0.01048406,  0.24956446,  0.17669173,  0.21649485,  0.00076297,\n",
       "         0.70487106,  0.00565885,  0.20833333,  0.54285714,  0.22515528,\n",
       "         0.02547781,  0.02857143,  0.73498965,  0.60644866],\n",
       "       [-0.00026682,  0.14547038,  0.05921053,  0.06185567,  0.00050565,\n",
       "         0.54441261,  0.0759903 ,  0.01041667,  0.        ,  0.22515528,\n",
       "         0.00367232,  0.4       ,  0.64803313,  0.24491196],\n",
       "       [ 0.08197988,  0.28919861,  0.55827068,  0.34020619,  0.00004189,\n",
       "        -0.01575931,  0.0759903 ,  0.375     ,  0.71428571,  0.22515528,\n",
       "         0.14028941,  0.25714286, -0.06004141,  0.67871027],\n",
       "       [ 0.02184122,  0.23998258,  0.03477444,  0.15463918,  0.30335018,\n",
       "         0.80945559,  0.00161681,  0.35416667,  0.71428571,  0.04503106,\n",
       "         0.03962657,  0.45714286,  0.78467909,  0.34941688],\n",
       "       [ 0.01999883,  0.02787456,  0.21710526,  0.20618557,  0.00877264,\n",
       "         0.2765043 ,  0.00161681,  0.125     ,  0.71428571,  0.06055901,\n",
       "         0.07061346,  0.11428571,  0.32298137,  0.60233249],\n",
       "       [ 0.00781817,  0.15505226,  0.06672932,  0.13402062,  0.00514031,\n",
       "         0.57593123,  0.00161681,  0.19791667,  0.57142857,  0.02329193,\n",
       "         0.03126192,  0.11428571,  0.4679089 ,  0.27761262],\n",
       "       [ 0.02287469,  0.0261324 ,  0.55545113,  0.29896907,  0.001128  ,\n",
       "         0.00859599,  0.0759903 ,  0.40625   ,  0.71428571,  0.22515528,\n",
       "         0.08603575, -0.02857143,  0.08281573,  0.75325863],\n",
       "       [ 0.0230978 ,  0.17160279,  0.12406015,  0.10309278,  0.00043085,\n",
       "         0.46418338,  0.02991108,  0.16666667,  0.68571429,  0.22515528,\n",
       "         0.03062456,  0.17142857,  0.48240166,  0.55065173],\n",
       "       [ 0.01990694,  0.28919861,  0.13533835,  0.34020619,  0.0150589 ,\n",
       "         0.50358166,  0.0759903 ,  0.54166667,  0.77142857,  0.22515528,\n",
       "         0.14028941,  0.25714286,  0.49151139,  0.54470615],\n",
       "       [ 0.00727054,  0.07926829,  0.32424812,  0.16494845,  0.00004189,\n",
       "         0.50358166,  0.09862571,  0.0625    ,  0.28571429,  0.22515528,\n",
       "         0.14028941,  0.11428571,  0.49151139,  0.85479076],\n",
       "       [ 0.01598267,  0.21777003,  0.13533835,  0.08247423,  0.00006882,\n",
       "         0.49713467,  1.04446241,  0.09375   ,  0.02857143,  0.22515528,\n",
       "         0.14028941,  0.34285714,  0.33126294,  0.1417791 ],\n",
       "       [ 0.77622057,  0.28919861,  0.13533835,  0.34020619,  0.0150589 ,\n",
       "         0.50358166,  0.0759903 ,  0.83333333,  0.62857143,  0.22515528,\n",
       "         0.14028941,  0.25714286,  0.49151139,  0.02035216],\n",
       "       [ 0.00179945,  0.21385017,  0.09680451,  0.15463918,  0.0017653 ,\n",
       "         0.65472779,  0.5755861 ,  0.125     ,  0.08571429,  0.22515528,\n",
       "         0.03562063,  0.37142857,  0.66045549,  0.2835582 ],\n",
       "       [ 0.11058381,  0.60278746,  0.15225564,  0.53608247,  0.00558313,\n",
       "         0.54727794,  0.021827  ,  0.53125   ,  0.91428571,  0.17857143,\n",
       "         0.15059844,  0.2       ,  0.4699793 ,  0.53647382],\n",
       "       [ 0.08676603,  0.27743902,  0.06203008,  0.59793814,  0.00010771,\n",
       "         0.68624642,  0.0541633 ,  0.72916667,  0.82857143,  0.22515528,\n",
       "         0.14028941,  0.05714286,  0.66252588,  0.31214269],\n",
       "       [ 0.01012144,  0.52961672,  0.13533835,  0.34020619,  0.0150589 ,\n",
       "         0.50358166,  0.00161681,  0.44791667,  0.77142857,  0.22515528,\n",
       "         0.16597529,  0.37142857,  0.49151139,  0.45163503],\n",
       "       [ 0.08197988,  0.28919861,  0.13533835,  0.34020619,  0.00013763,\n",
       "         0.37106017,  0.0759903 ,  0.375     ,  0.91428571,  0.22515528,\n",
       "         0.14028941,  0.25714286,  0.16977226,  0.5057169 ],\n",
       "       [ 0.01932807,  0.04268293,  0.19078947,  0.13402062,  0.02747882,\n",
       "         0.20773639,  0.00565885,  0.13541667,  0.71428571,  0.17546584,\n",
       "         0.0900692 ,  0.14285714,  0.26708075,  0.639378  ],\n",
       "       [ 0.06298881,  0.09799652,  0.50845865,  0.49484536,  0.00128059,\n",
       "         0.14183381,  0.00161681,  0.32291667,  0.71428571,  0.22515528,\n",
       "         0.10927861,  0.14285714,  0.22981366,  0.85090327],\n",
       "       [ 0.00610509,  0.14634146,  0.1137218 ,  0.03092784,  0.0009006 ,\n",
       "         0.55157593,  0.        ,  0.13541667,  0.57142857,  0.22515528,\n",
       "         0.03632974,  0.34285714,  0.35610766,  0.51040476],\n",
       "       [ 0.08197988,  0.28919861,  0.13533835,  0.34020619,  0.00002094,\n",
       "         0.50358166,  0.0759903 ,  0.67708333,  0.62857143,  0.22515528,\n",
       "         0.        ,  0.25714286,  0.49151139,  0.5057169 ],\n",
       "       [ 0.49678115,  0.55705575,  0.06860902,  0.80412371,  0.00177128,\n",
       "         0.47994269,  0.00970089,  0.9375    ,  0.91428571,  0.22515528,\n",
       "         0.18727616,  0.31428571,  0.38509317,  0.7992225 ],\n",
       "       [ 0.11782445,  0.18031359,  0.49154135,  0.37113402,  0.00150798,\n",
       "         0.25501433,  0.0759903 ,  0.57291667,  0.77142857,  0.22515528,\n",
       "         0.87465456,  0.08571429,  0.52795031,  0.86874   ],\n",
       "       [ 0.04526231,  0.21515679,  0.13533835,  0.34020619,  0.00001197,\n",
       "         0.50358166,  0.0759903 ,  0.375     ,  0.68571429,  0.22515528,\n",
       "         0.14028941,  0.25714286,  0.49151139,  0.39446604],\n",
       "       [ 0.01191822,  0.26263066,  0.03665414,  0.44329897,  0.006008  ,\n",
       "         0.49283668,  0.        ,  0.26041667,  0.6       ,  0.01708075,\n",
       "         0.02147904,  0.02857143,  0.54037267,  0.59890236],\n",
       "       [ 0.08197988,  0.28919861,  0.13533835,  0.34020619,  0.00010771,\n",
       "         0.50358166,  0.0759903 ,  0.4375    ,  0.77142857,  0.22515528,\n",
       "         0.14028941,  0.25714286,  0.49151139,  0.39149325],\n",
       "       [ 0.10412716,  0.17639373,  0.10714286,  0.74226804,  0.00022141,\n",
       "         0.25358166,  0.00161681,  0.65625   ,  0.91428571,  0.22515528,\n",
       "         0.1911697 ,  0.11428571,  0.24637681,  0.93437   ],\n",
       "       [ 0.00963695,  0.02221254,  0.04887218,  0.22680412,  0.02007654,\n",
       "         0.45415473,  0.00565885,  0.10416667,  0.6       ,  0.03416149,\n",
       "         0.02654208,  0.28571429,  0.55072464,  0.44500343],\n",
       "       [ 0.08197988, -0.00087108,  0.05357143,  0.2371134 ,  0.00022739,\n",
       "         0.18911175,  0.0759903 ,  0.04166667,  0.02857143,  0.22515528,\n",
       "         0.14028941,  0.17142857,  0.43064182,  0.13148868],\n",
       "       [ 0.04872398,  0.52264808,  0.13533835,  0.34020619,  0.00002394,\n",
       "         0.50358166,  0.0759903 ,  0.41666667,  0.77142857,  0.22515528,\n",
       "         0.14028941,  0.2       ,  0.49151139,  0.17493711],\n",
       "       [ 0.19954732,  0.02047038,  0.17011278,  0.20618557,  0.00692955,\n",
       "         0.35673352,  0.0759903 ,  0.8125    ,  0.82857143,  0.66304348,\n",
       "         1.33389138,  0.        ,  0.83436853,  0.74708438]])"
      ]
     },
     "execution_count": 25,
     "metadata": {},
     "output_type": "execute_result"
    }
   ],
   "source": [
    "X_test_scaled"
   ]
  },
  {
   "cell_type": "markdown",
   "metadata": {},
   "source": [
    "### Model Training"
   ]
  },
  {
   "cell_type": "markdown",
   "metadata": {},
   "source": [
    "### Using Regression or Classification Models"
   ]
  },
  {
   "cell_type": "code",
   "execution_count": 26,
   "metadata": {},
   "outputs": [],
   "source": [
    "rf = RandomForestClassifier(random_state=0)"
   ]
  },
  {
   "cell_type": "code",
   "execution_count": 27,
   "metadata": {},
   "outputs": [
    {
     "data": {
      "text/plain": [
       "RandomForestClassifier(random_state=0)"
      ]
     },
     "execution_count": 27,
     "metadata": {},
     "output_type": "execute_result"
    }
   ],
   "source": [
    "rf.fit(X_train_scaled,y_train)"
   ]
  },
  {
   "cell_type": "code",
   "execution_count": 28,
   "metadata": {},
   "outputs": [],
   "source": [
    "y_pred = rf.predict(X_test_scaled)"
   ]
  },
  {
   "cell_type": "code",
   "execution_count": 29,
   "metadata": {},
   "outputs": [
    {
     "data": {
      "text/plain": [
       "array([1, 0, 0, 1, 1, 1, 0, 0, 1, 1, 1, 1, 0, 1, 1, 1, 0, 1, 0, 1, 1, 0,\n",
       "       1, 1, 0, 1, 1, 1, 1, 0, 1, 0, 1, 1, 1, 1, 1, 1, 1, 1, 0, 1, 0],\n",
       "      dtype=int64)"
      ]
     },
     "execution_count": 29,
     "metadata": {},
     "output_type": "execute_result"
    }
   ],
   "source": [
    "y_pred"
   ]
  },
  {
   "cell_type": "markdown",
   "metadata": {},
   "source": [
    "### Model Evaluation"
   ]
  },
  {
   "cell_type": "code",
   "execution_count": 30,
   "metadata": {},
   "outputs": [
    {
     "data": {
      "text/plain": [
       "array([[ 5,  5],\n",
       "       [ 8, 25]], dtype=int64)"
      ]
     },
     "execution_count": 30,
     "metadata": {},
     "output_type": "execute_result"
    }
   ],
   "source": [
    "cm = confusion_matrix(y_test,y_pred)\n",
    "cm"
   ]
  },
  {
   "cell_type": "code",
   "execution_count": 31,
   "metadata": {},
   "outputs": [
    {
     "data": {
      "image/png": "[encoded data removed]",
      "text/plain": [
       "<Figure size 720x360 with 2 Axes>"
      ]
     },
     "metadata": {
      "needs_background": "light"
     },
     "output_type": "display_data"
    }
   ],
   "source": [
    "fig , ax = plt.subplots(figsize=(10,5))\n",
    "sns.heatmap(cm, annot=True,fmt='.4g',linewidths=2, cmap='viridis')\n",
    "plt.ylabel('True label')\n",
    "plt.xlabel('Predicted label')\n",
    "plt.show()"
   ]
  },
  {
   "cell_type": "code",
   "execution_count": 32,
   "metadata": {},
   "outputs": [
    {
     "name": "stdout",
     "output_type": "stream",
     "text": [
      "              precision    recall  f1-score   support\n",
      "\n",
      "           0       0.38      0.50      0.43        10\n",
      "           1       0.83      0.76      0.79        33\n",
      "\n",
      "    accuracy                           0.70        43\n",
      "   macro avg       0.61      0.63      0.61        43\n",
      "weighted avg       0.73      0.70      0.71        43\n",
      "\n"
     ]
    }
   ],
   "source": [
    "print(classification_report(y_test,y_pred))"
   ]
  },
  {
   "cell_type": "code",
   "execution_count": 33,
   "metadata": {},
   "outputs": [
    {
     "data": {
      "image/png": "[encoded data removed]",
      "text/plain": [
       "<Figure size 432x288 with 1 Axes>"
      ]
     },
     "metadata": {
      "needs_background": "light"
     },
     "output_type": "display_data"
    }
   ],
   "source": [
    "plot_roc_curve(rf,X_test_scaled,y_test)\n",
    "plt.show()"
   ]
  },
  {
   "cell_type": "markdown",
   "metadata": {},
   "source": [
    "### Plot Feature Importances"
   ]
  },
  {
   "cell_type": "code",
   "execution_count": 34,
   "metadata": {},
   "outputs": [
    {
     "data": {
      "text/plain": [
       "array([0.05550591, 0.09617141, 0.09031709, 0.13373969, 0.0550568 ,\n",
       "       0.08797424, 0.05928983, 0.05537286, 0.10497222, 0.03391416,\n",
       "       0.04068948, 0.05707724, 0.08153122, 0.04838784])"
      ]
     },
     "execution_count": 34,
     "metadata": {},
     "output_type": "execute_result"
    }
   ],
   "source": [
    "rf.feature_importances_"
   ]
  },
  {
   "cell_type": "code",
   "execution_count": 35,
   "metadata": {},
   "outputs": [],
   "source": [
    "feat_importances = pd.Series(rf.feature_importances_, index=X.columns)"
   ]
  },
  {
   "cell_type": "code",
   "execution_count": 36,
   "metadata": {},
   "outputs": [
    {
     "data": {
      "text/plain": [
       "incomeperperson         0.055506\n",
       "alcconsumption          0.096171\n",
       "armedforcesrate         0.090317\n",
       "breastcancerper100th    0.133740\n",
       "co2emissions            0.055057\n",
       "femaleemployrate        0.087974\n",
       "hivrate                 0.059290\n",
       "internetuserate         0.055373\n",
       "lifeexpectancy          0.104972\n",
       "oilperperson            0.033914\n",
       "relectricperperson      0.040689\n",
       "suicideper100th         0.057077\n",
       "employrate              0.081531\n",
       "urbanrate               0.048388\n",
       "dtype: float64"
      ]
     },
     "execution_count": 36,
     "metadata": {},
     "output_type": "execute_result"
    }
   ],
   "source": [
    "feat_importances"
   ]
  },
  {
   "cell_type": "code",
   "execution_count": 37,
   "metadata": {},
   "outputs": [
    {
     "data": {
      "image/png": "[encoded data removed]",
      "text/plain": [
       "<Figure size 720x720 with 1 Axes>"
      ]
     },
     "metadata": {
      "needs_background": "light"
     },
     "output_type": "display_data"
    }
   ],
   "source": [
    "feat_importances.nlargest(10).plot(kind='barh', figsize=(10,10))\n",
    "plt.title('Feature Importances')\n",
    "plt.show()"
   ]
  },
  {
   "cell_type": "markdown",
   "metadata": {},
   "source": [
    "### Cross-Validation"
   ]
  },
  {
   "cell_type": "code",
   "execution_count": 38,
   "metadata": {},
   "outputs": [
    {
     "name": "stderr",
     "output_type": "stream",
     "text": [
      "[Parallel(n_jobs=1)]: Using backend SequentialBackend with 1 concurrent workers.\n",
      "[Parallel(n_jobs=1)]: Done   5 out of   5 | elapsed:    0.8s finished\n"
     ]
    }
   ],
   "source": [
    "cv = cross_val_score(rf,X,y,cv=5,verbose=1,scoring='accuracy')"
   ]
  },
  {
   "cell_type": "code",
   "execution_count": 39,
   "metadata": {},
   "outputs": [
    {
     "data": {
      "text/plain": [
       "0.7892580287929125"
      ]
     },
     "execution_count": 39,
     "metadata": {},
     "output_type": "execute_result"
    }
   ],
   "source": [
    "cv.mean()"
   ]
  },
  {
   "cell_type": "markdown",
   "metadata": {},
   "source": [
    "#### Python code done by Dennis Lam"
   ]
  },
  {
   "cell_type": "code",
   "execution_count": null,
   "metadata": {},
   "outputs": [],
   "source": []
  }
 ],
 "metadata": {
  "kernelspec": {
   "display_name": "Python 3",
   "language": "python",
   "name": "python3"
  },
  "language_info": {
   "codemirror_mode": {
    "name": "ipython",
    "version": 3
   },
   "file_extension": ".py",
   "mimetype": "text/x-python",
   "name": "python",
   "nbconvert_exporter": "python",
   "pygments_lexer": "ipython3",
   "version": "3.8.5"
  }
 },
 "nbformat": 4,
 "nbformat_minor": 4
}
