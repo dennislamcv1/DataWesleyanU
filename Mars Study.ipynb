{
 "cells": [
  {
   "cell_type": "markdown",
   "metadata": {},
   "source": [
    "### Data Dictionary"
   ]
  },
  {
   "cell_type": "markdown",
   "metadata": {},
   "source": [
    "The Mars Craters Study, presents a global database that includes over 300,000 Mars craters 1 km or larger that were created between 4.2 and 3.8 billion years ago during a period of heavy bombardment (i.e. impacts of asteroids, proto-planets, and comets)."
   ]
  },
  {
   "cell_type": "markdown",
   "metadata": {},
   "source": [
    "### Import Libraries"
   ]
  },
  {
   "cell_type": "code",
   "execution_count": 2,
   "metadata": {},
   "outputs": [],
   "source": [
    "import numpy as np\n",
    "import pandas as pd\n",
    "import matplotlib.pyplot as plt\n",
    "import seaborn as sns\n",
    "import sklearn\n",
    "\n",
    "import xgboost as xgb\n",
    "from xgboost import XGBClassifier, XGBRegressor\n",
    "from xgboost import to_graphviz, plot_importance\n",
    "\n",
    "%matplotlib inline\n",
    "sns.set_style('dark')\n",
    "sns.set(font_scale=1.2)\n",
    "\n",
    "from sklearn.model_selection import cross_val_score, train_test_split, GridSearchCV, RandomizedSearchCV\n",
    "from sklearn.preprocessing import LabelEncoder, StandardScaler, MinMaxScaler, OneHotEncoder\n",
    "from sklearn.metrics import confusion_matrix, classification_report, mean_absolute_error, mean_squared_error,r2_score\n",
    "from sklearn.metrics import plot_confusion_matrix, plot_precision_recall_curve, plot_roc_curve, accuracy_score\n",
    "from sklearn.metrics import auc, f1_score, precision_score, recall_score, roc_auc_score\n",
    "\n",
    "import warnings\n",
    "warnings.filterwarnings('ignore')\n",
    "\n",
    "from imblearn.over_sampling import RandomOverSampler\n",
    "\n",
    "import pickle\n",
    "from pickle import dump, load\n",
    "\n",
    "from pycaret.classification import *\n",
    "\n",
    "np.random.seed(0)\n",
    "\n",
    "pd.set_option('display.max_columns', 500)\n",
    "#pd.set_option('display.max_rows',500')\n",
    "pd.set_option('display.width', 1000)"
   ]
  },
  {
   "cell_type": "markdown",
   "metadata": {},
   "source": [
    "### Data Exploration and Analysis"
   ]
  },
  {
   "cell_type": "code",
   "execution_count": 3,
   "metadata": {},
   "outputs": [],
   "source": [
    "df = pd.read_csv(\"marscrater_pds.csv\")"
   ]
  },
  {
   "cell_type": "code",
   "execution_count": 4,
   "metadata": {},
   "outputs": [
    {
     "data": {
      "text/html": [
       "<div>\n",
       "<style scoped>\n",
       "    .dataframe tbody tr th:only-of-type {\n",
       "        vertical-align: middle;\n",
       "    }\n",
       "\n",
       "    .dataframe tbody tr th {\n",
       "        vertical-align: top;\n",
       "    }\n",
       "\n",
       "    .dataframe thead th {\n",
       "        text-align: right;\n",
       "    }\n",
       "</style>\n",
       "<table border=\"1\" class=\"dataframe\">\n",
       "  <thead>\n",
       "    <tr style=\"text-align: right;\">\n",
       "      <th></th>\n",
       "      <th>CRATER_ID</th>\n",
       "      <th>CRATER_NAME</th>\n",
       "      <th>LATITUDE_CIRCLE_IMAGE</th>\n",
       "      <th>LONGITUDE_CIRCLE_IMAGE</th>\n",
       "      <th>DIAM_CIRCLE_IMAGE</th>\n",
       "      <th>DEPTH_RIMFLOOR_TOPOG</th>\n",
       "      <th>MORPHOLOGY_EJECTA_1</th>\n",
       "      <th>MORPHOLOGY_EJECTA_2</th>\n",
       "      <th>MORPHOLOGY_EJECTA_3</th>\n",
       "      <th>NUMBER_LAYERS</th>\n",
       "    </tr>\n",
       "  </thead>\n",
       "  <tbody>\n",
       "    <tr>\n",
       "      <th>0</th>\n",
       "      <td>01-000000</td>\n",
       "      <td></td>\n",
       "      <td>84.367</td>\n",
       "      <td>108.746</td>\n",
       "      <td>82.10</td>\n",
       "      <td>0.22</td>\n",
       "      <td></td>\n",
       "      <td></td>\n",
       "      <td></td>\n",
       "      <td>0</td>\n",
       "    </tr>\n",
       "    <tr>\n",
       "      <th>1</th>\n",
       "      <td>01-000001</td>\n",
       "      <td>Korolev</td>\n",
       "      <td>72.760</td>\n",
       "      <td>164.464</td>\n",
       "      <td>82.02</td>\n",
       "      <td>1.97</td>\n",
       "      <td>Rd/MLERS</td>\n",
       "      <td>HuBL</td>\n",
       "      <td></td>\n",
       "      <td>3</td>\n",
       "    </tr>\n",
       "    <tr>\n",
       "      <th>2</th>\n",
       "      <td>01-000002</td>\n",
       "      <td></td>\n",
       "      <td>69.244</td>\n",
       "      <td>-27.240</td>\n",
       "      <td>79.63</td>\n",
       "      <td>0.09</td>\n",
       "      <td></td>\n",
       "      <td></td>\n",
       "      <td></td>\n",
       "      <td>0</td>\n",
       "    </tr>\n",
       "    <tr>\n",
       "      <th>3</th>\n",
       "      <td>01-000003</td>\n",
       "      <td></td>\n",
       "      <td>70.107</td>\n",
       "      <td>160.575</td>\n",
       "      <td>74.81</td>\n",
       "      <td>0.13</td>\n",
       "      <td></td>\n",
       "      <td></td>\n",
       "      <td></td>\n",
       "      <td>0</td>\n",
       "    </tr>\n",
       "    <tr>\n",
       "      <th>4</th>\n",
       "      <td>01-000004</td>\n",
       "      <td></td>\n",
       "      <td>77.996</td>\n",
       "      <td>95.617</td>\n",
       "      <td>73.53</td>\n",
       "      <td>0.11</td>\n",
       "      <td></td>\n",
       "      <td></td>\n",
       "      <td></td>\n",
       "      <td>0</td>\n",
       "    </tr>\n",
       "    <tr>\n",
       "      <th>...</th>\n",
       "      <td>...</td>\n",
       "      <td>...</td>\n",
       "      <td>...</td>\n",
       "      <td>...</td>\n",
       "      <td>...</td>\n",
       "      <td>...</td>\n",
       "      <td>...</td>\n",
       "      <td>...</td>\n",
       "      <td>...</td>\n",
       "      <td>...</td>\n",
       "    </tr>\n",
       "    <tr>\n",
       "      <th>384338</th>\n",
       "      <td>30-013686</td>\n",
       "      <td></td>\n",
       "      <td>-67.138</td>\n",
       "      <td>166.562</td>\n",
       "      <td>1.00</td>\n",
       "      <td>0.00</td>\n",
       "      <td></td>\n",
       "      <td></td>\n",
       "      <td></td>\n",
       "      <td>0</td>\n",
       "    </tr>\n",
       "    <tr>\n",
       "      <th>384339</th>\n",
       "      <td>30-013687</td>\n",
       "      <td></td>\n",
       "      <td>-73.986</td>\n",
       "      <td>39.069</td>\n",
       "      <td>1.00</td>\n",
       "      <td>0.00</td>\n",
       "      <td></td>\n",
       "      <td></td>\n",
       "      <td></td>\n",
       "      <td>0</td>\n",
       "    </tr>\n",
       "    <tr>\n",
       "      <th>384340</th>\n",
       "      <td>30-013688</td>\n",
       "      <td></td>\n",
       "      <td>-76.934</td>\n",
       "      <td>5.923</td>\n",
       "      <td>1.00</td>\n",
       "      <td>0.00</td>\n",
       "      <td></td>\n",
       "      <td></td>\n",
       "      <td></td>\n",
       "      <td>0</td>\n",
       "    </tr>\n",
       "    <tr>\n",
       "      <th>384341</th>\n",
       "      <td>30-013689</td>\n",
       "      <td></td>\n",
       "      <td>-79.415</td>\n",
       "      <td>63.528</td>\n",
       "      <td>1.00</td>\n",
       "      <td>0.00</td>\n",
       "      <td></td>\n",
       "      <td></td>\n",
       "      <td></td>\n",
       "      <td>0</td>\n",
       "    </tr>\n",
       "    <tr>\n",
       "      <th>384342</th>\n",
       "      <td>30-013690</td>\n",
       "      <td></td>\n",
       "      <td>-79.664</td>\n",
       "      <td>0.991</td>\n",
       "      <td>1.00</td>\n",
       "      <td>0.00</td>\n",
       "      <td></td>\n",
       "      <td></td>\n",
       "      <td></td>\n",
       "      <td>0</td>\n",
       "    </tr>\n",
       "  </tbody>\n",
       "</table>\n",
       "<p>384343 rows × 10 columns</p>\n",
       "</div>"
      ],
      "text/plain": [
       "        CRATER_ID CRATER_NAME  LATITUDE_CIRCLE_IMAGE  LONGITUDE_CIRCLE_IMAGE  DIAM_CIRCLE_IMAGE  DEPTH_RIMFLOOR_TOPOG MORPHOLOGY_EJECTA_1 MORPHOLOGY_EJECTA_2 MORPHOLOGY_EJECTA_3  NUMBER_LAYERS\n",
       "0       01-000000                             84.367                 108.746              82.10                  0.22                                                                          0\n",
       "1       01-000001     Korolev                 72.760                 164.464              82.02                  1.97            Rd/MLERS                HuBL                                  3\n",
       "2       01-000002                             69.244                 -27.240              79.63                  0.09                                                                          0\n",
       "3       01-000003                             70.107                 160.575              74.81                  0.13                                                                          0\n",
       "4       01-000004                             77.996                  95.617              73.53                  0.11                                                                          0\n",
       "...           ...         ...                    ...                     ...                ...                   ...                 ...                 ...                 ...            ...\n",
       "384338  30-013686                            -67.138                 166.562               1.00                  0.00                                                                          0\n",
       "384339  30-013687                            -73.986                  39.069               1.00                  0.00                                                                          0\n",
       "384340  30-013688                            -76.934                   5.923               1.00                  0.00                                                                          0\n",
       "384341  30-013689                            -79.415                  63.528               1.00                  0.00                                                                          0\n",
       "384342  30-013690                            -79.664                   0.991               1.00                  0.00                                                                          0\n",
       "\n",
       "[384343 rows x 10 columns]"
      ]
     },
     "execution_count": 4,
     "metadata": {},
     "output_type": "execute_result"
    }
   ],
   "source": [
    "df"
   ]
  },
  {
   "cell_type": "code",
   "execution_count": 5,
   "metadata": {},
   "outputs": [
    {
     "name": "stdout",
     "output_type": "stream",
     "text": [
      "<class 'pandas.core.frame.DataFrame'>\n",
      "RangeIndex: 384343 entries, 0 to 384342\n",
      "Data columns (total 10 columns):\n",
      " #   Column                  Non-Null Count   Dtype  \n",
      "---  ------                  --------------   -----  \n",
      " 0   CRATER_ID               384343 non-null  object \n",
      " 1   CRATER_NAME             384343 non-null  object \n",
      " 2   LATITUDE_CIRCLE_IMAGE   384343 non-null  float64\n",
      " 3   LONGITUDE_CIRCLE_IMAGE  384343 non-null  float64\n",
      " 4   DIAM_CIRCLE_IMAGE       384343 non-null  float64\n",
      " 5   DEPTH_RIMFLOOR_TOPOG    384343 non-null  float64\n",
      " 6   MORPHOLOGY_EJECTA_1     384343 non-null  object \n",
      " 7   MORPHOLOGY_EJECTA_2     384343 non-null  object \n",
      " 8   MORPHOLOGY_EJECTA_3     384343 non-null  object \n",
      " 9   NUMBER_LAYERS           384343 non-null  int64  \n",
      "dtypes: float64(4), int64(1), object(5)\n",
      "memory usage: 29.3+ MB\n"
     ]
    }
   ],
   "source": [
    "df.info()"
   ]
  },
  {
   "cell_type": "code",
   "execution_count": 6,
   "metadata": {},
   "outputs": [
    {
     "data": {
      "text/html": [
       "<div>\n",
       "<style scoped>\n",
       "    .dataframe tbody tr th:only-of-type {\n",
       "        vertical-align: middle;\n",
       "    }\n",
       "\n",
       "    .dataframe tbody tr th {\n",
       "        vertical-align: top;\n",
       "    }\n",
       "\n",
       "    .dataframe thead th {\n",
       "        text-align: right;\n",
       "    }\n",
       "</style>\n",
       "<table border=\"1\" class=\"dataframe\">\n",
       "  <thead>\n",
       "    <tr style=\"text-align: right;\">\n",
       "      <th></th>\n",
       "      <th>CRATER_ID</th>\n",
       "      <th>CRATER_NAME</th>\n",
       "      <th>LATITUDE_CIRCLE_IMAGE</th>\n",
       "      <th>LONGITUDE_CIRCLE_IMAGE</th>\n",
       "      <th>DIAM_CIRCLE_IMAGE</th>\n",
       "      <th>DEPTH_RIMFLOOR_TOPOG</th>\n",
       "      <th>MORPHOLOGY_EJECTA_1</th>\n",
       "      <th>MORPHOLOGY_EJECTA_2</th>\n",
       "      <th>MORPHOLOGY_EJECTA_3</th>\n",
       "      <th>NUMBER_LAYERS</th>\n",
       "    </tr>\n",
       "  </thead>\n",
       "  <tbody>\n",
       "    <tr>\n",
       "      <th>count</th>\n",
       "      <td>384343</td>\n",
       "      <td>384343</td>\n",
       "      <td>384343.000000</td>\n",
       "      <td>384343.000000</td>\n",
       "      <td>384343.000000</td>\n",
       "      <td>384343.000000</td>\n",
       "      <td>384343</td>\n",
       "      <td>384343</td>\n",
       "      <td>384343</td>\n",
       "      <td>384343.000000</td>\n",
       "    </tr>\n",
       "    <tr>\n",
       "      <th>unique</th>\n",
       "      <td>384343</td>\n",
       "      <td>986</td>\n",
       "      <td>NaN</td>\n",
       "      <td>NaN</td>\n",
       "      <td>NaN</td>\n",
       "      <td>NaN</td>\n",
       "      <td>156</td>\n",
       "      <td>104</td>\n",
       "      <td>29</td>\n",
       "      <td>NaN</td>\n",
       "    </tr>\n",
       "    <tr>\n",
       "      <th>top</th>\n",
       "      <td>26-006803</td>\n",
       "      <td></td>\n",
       "      <td>NaN</td>\n",
       "      <td>NaN</td>\n",
       "      <td>NaN</td>\n",
       "      <td>NaN</td>\n",
       "      <td></td>\n",
       "      <td></td>\n",
       "      <td></td>\n",
       "      <td>NaN</td>\n",
       "    </tr>\n",
       "    <tr>\n",
       "      <th>freq</th>\n",
       "      <td>1</td>\n",
       "      <td>383356</td>\n",
       "      <td>NaN</td>\n",
       "      <td>NaN</td>\n",
       "      <td>NaN</td>\n",
       "      <td>NaN</td>\n",
       "      <td>339718</td>\n",
       "      <td>364867</td>\n",
       "      <td>383050</td>\n",
       "      <td>NaN</td>\n",
       "    </tr>\n",
       "    <tr>\n",
       "      <th>mean</th>\n",
       "      <td>NaN</td>\n",
       "      <td>NaN</td>\n",
       "      <td>-7.199209</td>\n",
       "      <td>10.128021</td>\n",
       "      <td>3.556686</td>\n",
       "      <td>0.075838</td>\n",
       "      <td>NaN</td>\n",
       "      <td>NaN</td>\n",
       "      <td>NaN</td>\n",
       "      <td>0.064835</td>\n",
       "    </tr>\n",
       "    <tr>\n",
       "      <th>std</th>\n",
       "      <td>NaN</td>\n",
       "      <td>NaN</td>\n",
       "      <td>33.608966</td>\n",
       "      <td>96.641592</td>\n",
       "      <td>8.591993</td>\n",
       "      <td>0.221518</td>\n",
       "      <td>NaN</td>\n",
       "      <td>NaN</td>\n",
       "      <td>NaN</td>\n",
       "      <td>0.304889</td>\n",
       "    </tr>\n",
       "    <tr>\n",
       "      <th>min</th>\n",
       "      <td>NaN</td>\n",
       "      <td>NaN</td>\n",
       "      <td>-86.700000</td>\n",
       "      <td>-179.997000</td>\n",
       "      <td>1.000000</td>\n",
       "      <td>-0.420000</td>\n",
       "      <td>NaN</td>\n",
       "      <td>NaN</td>\n",
       "      <td>NaN</td>\n",
       "      <td>0.000000</td>\n",
       "    </tr>\n",
       "    <tr>\n",
       "      <th>25%</th>\n",
       "      <td>NaN</td>\n",
       "      <td>NaN</td>\n",
       "      <td>-30.935000</td>\n",
       "      <td>-58.829000</td>\n",
       "      <td>1.180000</td>\n",
       "      <td>0.000000</td>\n",
       "      <td>NaN</td>\n",
       "      <td>NaN</td>\n",
       "      <td>NaN</td>\n",
       "      <td>0.000000</td>\n",
       "    </tr>\n",
       "    <tr>\n",
       "      <th>50%</th>\n",
       "      <td>NaN</td>\n",
       "      <td>NaN</td>\n",
       "      <td>-10.079000</td>\n",
       "      <td>12.740000</td>\n",
       "      <td>1.530000</td>\n",
       "      <td>0.000000</td>\n",
       "      <td>NaN</td>\n",
       "      <td>NaN</td>\n",
       "      <td>NaN</td>\n",
       "      <td>0.000000</td>\n",
       "    </tr>\n",
       "    <tr>\n",
       "      <th>75%</th>\n",
       "      <td>NaN</td>\n",
       "      <td>NaN</td>\n",
       "      <td>17.222500</td>\n",
       "      <td>89.275500</td>\n",
       "      <td>2.550000</td>\n",
       "      <td>0.000000</td>\n",
       "      <td>NaN</td>\n",
       "      <td>NaN</td>\n",
       "      <td>NaN</td>\n",
       "      <td>0.000000</td>\n",
       "    </tr>\n",
       "    <tr>\n",
       "      <th>max</th>\n",
       "      <td>NaN</td>\n",
       "      <td>NaN</td>\n",
       "      <td>85.702000</td>\n",
       "      <td>179.997000</td>\n",
       "      <td>1164.220000</td>\n",
       "      <td>4.950000</td>\n",
       "      <td>NaN</td>\n",
       "      <td>NaN</td>\n",
       "      <td>NaN</td>\n",
       "      <td>5.000000</td>\n",
       "    </tr>\n",
       "  </tbody>\n",
       "</table>\n",
       "</div>"
      ],
      "text/plain": [
       "        CRATER_ID CRATER_NAME  LATITUDE_CIRCLE_IMAGE  LONGITUDE_CIRCLE_IMAGE  DIAM_CIRCLE_IMAGE  DEPTH_RIMFLOOR_TOPOG MORPHOLOGY_EJECTA_1 MORPHOLOGY_EJECTA_2 MORPHOLOGY_EJECTA_3  NUMBER_LAYERS\n",
       "count      384343      384343          384343.000000           384343.000000      384343.000000         384343.000000              384343              384343              384343  384343.000000\n",
       "unique     384343         986                    NaN                     NaN                NaN                   NaN                 156                 104                  29            NaN\n",
       "top     26-006803                                NaN                     NaN                NaN                   NaN                                                                        NaN\n",
       "freq            1      383356                    NaN                     NaN                NaN                   NaN              339718              364867              383050            NaN\n",
       "mean          NaN         NaN              -7.199209               10.128021           3.556686              0.075838                 NaN                 NaN                 NaN       0.064835\n",
       "std           NaN         NaN              33.608966               96.641592           8.591993              0.221518                 NaN                 NaN                 NaN       0.304889\n",
       "min           NaN         NaN             -86.700000             -179.997000           1.000000             -0.420000                 NaN                 NaN                 NaN       0.000000\n",
       "25%           NaN         NaN             -30.935000              -58.829000           1.180000              0.000000                 NaN                 NaN                 NaN       0.000000\n",
       "50%           NaN         NaN             -10.079000               12.740000           1.530000              0.000000                 NaN                 NaN                 NaN       0.000000\n",
       "75%           NaN         NaN              17.222500               89.275500           2.550000              0.000000                 NaN                 NaN                 NaN       0.000000\n",
       "max           NaN         NaN              85.702000              179.997000        1164.220000              4.950000                 NaN                 NaN                 NaN       5.000000"
      ]
     },
     "execution_count": 6,
     "metadata": {},
     "output_type": "execute_result"
    }
   ],
   "source": [
    "df.describe(include='all')"
   ]
  },
  {
   "cell_type": "code",
   "execution_count": 7,
   "metadata": {},
   "outputs": [
    {
     "data": {
      "text/plain": [
       "(384343, 10)"
      ]
     },
     "execution_count": 7,
     "metadata": {},
     "output_type": "execute_result"
    }
   ],
   "source": [
    "df.shape"
   ]
  },
  {
   "cell_type": "code",
   "execution_count": 8,
   "metadata": {},
   "outputs": [
    {
     "data": {
      "text/plain": [
       "Index(['CRATER_ID', 'CRATER_NAME', 'LATITUDE_CIRCLE_IMAGE', 'LONGITUDE_CIRCLE_IMAGE', 'DIAM_CIRCLE_IMAGE', 'DEPTH_RIMFLOOR_TOPOG', 'MORPHOLOGY_EJECTA_1', 'MORPHOLOGY_EJECTA_2', 'MORPHOLOGY_EJECTA_3', 'NUMBER_LAYERS'], dtype='object')"
      ]
     },
     "execution_count": 8,
     "metadata": {},
     "output_type": "execute_result"
    }
   ],
   "source": [
    "df.columns"
   ]
  },
  {
   "cell_type": "code",
   "execution_count": 9,
   "metadata": {},
   "outputs": [
    {
     "data": {
      "text/plain": [
       "                 383356\n",
       "M                     2\n",
       "P                     2\n",
       "Milford               1\n",
       "Krishtofovich         1\n",
       "                  ...  \n",
       "Morella               1\n",
       "Timaru                1\n",
       "Troy                  1\n",
       "Butte                 1\n",
       "Vaux                  1\n",
       "Name: CRATER_NAME, Length: 986, dtype: int64"
      ]
     },
     "execution_count": 9,
     "metadata": {},
     "output_type": "execute_result"
    }
   ],
   "source": [
    "df['CRATER_NAME'].value_counts()"
   ]
  },
  {
   "cell_type": "code",
   "execution_count": 10,
   "metadata": {},
   "outputs": [
    {
     "data": {
      "text/plain": [
       "                        339718\n",
       "Rd                       24892\n",
       "SLEPS                     4949\n",
       "SLERS                     4828\n",
       "SLEPC                     2552\n",
       "                         ...  \n",
       "Rd/SPERS                     1\n",
       "DLEPC/DLERC/Rd               1\n",
       "MLERS/MLERS/Rd/MLERS         1\n",
       "Rd/SLEPC/Rd                  1\n",
       "RD/SLEPC                     1\n",
       "Name: MORPHOLOGY_EJECTA_1, Length: 156, dtype: int64"
      ]
     },
     "execution_count": 10,
     "metadata": {},
     "output_type": "execute_result"
    }
   ],
   "source": [
    "df['MORPHOLOGY_EJECTA_1'].value_counts()"
   ]
  },
  {
   "cell_type": "code",
   "execution_count": 11,
   "metadata": {},
   "outputs": [
    {
     "data": {
      "text/plain": [
       "                       364867\n",
       "HuSL                     6109\n",
       "HuBL                     4424\n",
       "SmSL                     2713\n",
       "HuAm                     1356\n",
       "                        ...  \n",
       "Hu/HuSp/SmSp                1\n",
       "HuSL/SmBL/SmSL              1\n",
       "HuSL/HuSL/HuBL/HuBL         1\n",
       "HuAM                        1\n",
       "SmBL/SmAm                   1\n",
       "Name: MORPHOLOGY_EJECTA_2, Length: 104, dtype: int64"
      ]
     },
     "execution_count": 11,
     "metadata": {},
     "output_type": "execute_result"
    }
   ],
   "source": [
    "df['MORPHOLOGY_EJECTA_2'].value_counts()"
   ]
  },
  {
   "cell_type": "code",
   "execution_count": 12,
   "metadata": {},
   "outputs": [
    {
     "data": {
      "text/plain": [
       "                                  383050\n",
       "Pin-Cushion                          349\n",
       "Small-Crown                          264\n",
       "Pseudo-Butterfly                     118\n",
       "Inner is Pin-Cushion                  87\n",
       "Butterfly                             76\n",
       "Inner is Small-Crown                  66\n",
       "Sandbar                               58\n",
       "Outer is Splash                       56\n",
       "Pseudo-Small-Crown                    56\n",
       "Splash                                55\n",
       "Rectangular                           38\n",
       "Pseudo-Rectangular                    26\n",
       "Bumblebee                             18\n",
       "Inner is Pseudo-Small-Crown            4\n",
       "Outer is Butterfly                     4\n",
       "Outer is Pseudo-Butterfly              4\n",
       "Inner is Butterfly                     2\n",
       "Small-Crown / Sandbar                  2\n",
       "Pin-Cushion / Butterfly                1\n",
       "Middle is Rectangular                  1\n",
       "Inner is Pseudo-Butterfly              1\n",
       "Pseudo-Pin-Cushion                     1\n",
       "Outer is Rectangular                   1\n",
       "Small-Crown / Pseudo-Butterfly         1\n",
       "Inner-most is Small-Crown              1\n",
       "Pseduo-Butterfly                       1\n",
       "Inner is Pseudo-Pin-Cushion            1\n",
       "Pin-Cushion / Pseudo-Butterfly         1\n",
       "Name: MORPHOLOGY_EJECTA_3, dtype: int64"
      ]
     },
     "execution_count": 12,
     "metadata": {},
     "output_type": "execute_result"
    }
   ],
   "source": [
    "df['MORPHOLOGY_EJECTA_3'].value_counts()"
   ]
  },
  {
   "cell_type": "code",
   "execution_count": 13,
   "metadata": {},
   "outputs": [
    {
     "data": {
      "text/plain": [
       "0    364612\n",
       "1     15467\n",
       "2      3435\n",
       "3       739\n",
       "4        85\n",
       "5         5\n",
       "Name: NUMBER_LAYERS, dtype: int64"
      ]
     },
     "execution_count": 13,
     "metadata": {},
     "output_type": "execute_result"
    }
   ],
   "source": [
    "df['NUMBER_LAYERS'].value_counts()"
   ]
  },
  {
   "cell_type": "markdown",
   "metadata": {},
   "source": [
    "### Data Visualization"
   ]
  },
  {
   "cell_type": "markdown",
   "metadata": {},
   "source": [
    "### Univariate Data Exploration"
   ]
  },
  {
   "cell_type": "code",
   "execution_count": 14,
   "metadata": {},
   "outputs": [
    {
     "data": {
      "image/png": "[encoded data removed]",
      "text/plain": [
       "<Figure size 1440x1080 with 6 Axes>"
      ]
     },
     "metadata": {},
     "output_type": "display_data"
    }
   ],
   "source": [
    "df.hist(bins=50, figsize=(20,15))\n",
    "plt.show()"
   ]
  },
  {
   "cell_type": "code",
   "execution_count": 15,
   "metadata": {},
   "outputs": [
    {
     "data": {
      "image/png": "[encoded data removed]",
      "text/plain": [
       "<Figure size 1440x2880 with 1 Axes>"
      ]
     },
     "metadata": {},
     "output_type": "display_data"
    }
   ],
   "source": [
    "fig = plt.figure(figsize=(20,40))\n",
    "\n",
    "plt.subplot(7,1,1)\n",
    "plt.title(\"Number of Layers\")\n",
    "sns.countplot(df.NUMBER_LAYERS)\n",
    "\n",
    "plt.tight_layout()\n",
    "plt.show()"
   ]
  },
  {
   "cell_type": "code",
   "execution_count": 16,
   "metadata": {},
   "outputs": [
    {
     "data": {
      "text/html": [
       "<div>\n",
       "<style scoped>\n",
       "    .dataframe tbody tr th:only-of-type {\n",
       "        vertical-align: middle;\n",
       "    }\n",
       "\n",
       "    .dataframe tbody tr th {\n",
       "        vertical-align: top;\n",
       "    }\n",
       "\n",
       "    .dataframe thead th {\n",
       "        text-align: right;\n",
       "    }\n",
       "</style>\n",
       "<table border=\"1\" class=\"dataframe\">\n",
       "  <thead>\n",
       "    <tr style=\"text-align: right;\">\n",
       "      <th></th>\n",
       "      <th>LATITUDE_CIRCLE_IMAGE</th>\n",
       "      <th>LONGITUDE_CIRCLE_IMAGE</th>\n",
       "      <th>DIAM_CIRCLE_IMAGE</th>\n",
       "      <th>DEPTH_RIMFLOOR_TOPOG</th>\n",
       "      <th>NUMBER_LAYERS</th>\n",
       "    </tr>\n",
       "  </thead>\n",
       "  <tbody>\n",
       "    <tr>\n",
       "      <th>LATITUDE_CIRCLE_IMAGE</th>\n",
       "      <td>1.000000</td>\n",
       "      <td>0.064159</td>\n",
       "      <td>-0.057940</td>\n",
       "      <td>-0.042883</td>\n",
       "      <td>0.062959</td>\n",
       "    </tr>\n",
       "    <tr>\n",
       "      <th>LONGITUDE_CIRCLE_IMAGE</th>\n",
       "      <td>0.064159</td>\n",
       "      <td>1.000000</td>\n",
       "      <td>0.004251</td>\n",
       "      <td>0.016620</td>\n",
       "      <td>-0.008102</td>\n",
       "    </tr>\n",
       "    <tr>\n",
       "      <th>DIAM_CIRCLE_IMAGE</th>\n",
       "      <td>-0.057940</td>\n",
       "      <td>0.004251</td>\n",
       "      <td>1.000000</td>\n",
       "      <td>0.586713</td>\n",
       "      <td>0.135270</td>\n",
       "    </tr>\n",
       "    <tr>\n",
       "      <th>DEPTH_RIMFLOOR_TOPOG</th>\n",
       "      <td>-0.042883</td>\n",
       "      <td>0.016620</td>\n",
       "      <td>0.586713</td>\n",
       "      <td>1.000000</td>\n",
       "      <td>0.437325</td>\n",
       "    </tr>\n",
       "    <tr>\n",
       "      <th>NUMBER_LAYERS</th>\n",
       "      <td>0.062959</td>\n",
       "      <td>-0.008102</td>\n",
       "      <td>0.135270</td>\n",
       "      <td>0.437325</td>\n",
       "      <td>1.000000</td>\n",
       "    </tr>\n",
       "  </tbody>\n",
       "</table>\n",
       "</div>"
      ],
      "text/plain": [
       "                        LATITUDE_CIRCLE_IMAGE  LONGITUDE_CIRCLE_IMAGE  DIAM_CIRCLE_IMAGE  DEPTH_RIMFLOOR_TOPOG  NUMBER_LAYERS\n",
       "LATITUDE_CIRCLE_IMAGE                1.000000                0.064159          -0.057940             -0.042883       0.062959\n",
       "LONGITUDE_CIRCLE_IMAGE               0.064159                1.000000           0.004251              0.016620      -0.008102\n",
       "DIAM_CIRCLE_IMAGE                   -0.057940                0.004251           1.000000              0.586713       0.135270\n",
       "DEPTH_RIMFLOOR_TOPOG                -0.042883                0.016620           0.586713              1.000000       0.437325\n",
       "NUMBER_LAYERS                        0.062959               -0.008102           0.135270              0.437325       1.000000"
      ]
     },
     "execution_count": 16,
     "metadata": {},
     "output_type": "execute_result"
    }
   ],
   "source": [
    "df.corr()"
   ]
  },
  {
   "cell_type": "code",
   "execution_count": 17,
   "metadata": {},
   "outputs": [
    {
     "data": {
      "image/png": "[encoded data removed]",
      "text/plain": [
       "<Figure size 1152x1152 with 2 Axes>"
      ]
     },
     "metadata": {},
     "output_type": "display_data"
    }
   ],
   "source": [
    "plt.figure(figsize=(16,16))\n",
    "sns.heatmap(df.corr(),cmap=\"coolwarm\",annot=True,fmt='.2f',linewidths=2)\n",
    "plt.show()"
   ]
  },
  {
   "cell_type": "code",
   "execution_count": 18,
   "metadata": {},
   "outputs": [
    {
     "data": {
      "image/png": "[encoded data removed]",
      "text/plain": [
       "<Figure size 900x900 with 30 Axes>"
      ]
     },
     "metadata": {},
     "output_type": "display_data"
    }
   ],
   "source": [
    "sns.pairplot(df.sample(500))\n",
    "plt.show()"
   ]
  },
  {
   "cell_type": "code",
   "execution_count": null,
   "metadata": {},
   "outputs": [],
   "source": []
  },
  {
   "cell_type": "markdown",
   "metadata": {},
   "source": [
    "### Data Preprocessing"
   ]
  },
  {
   "cell_type": "markdown",
   "metadata": {},
   "source": [
    "### Treat Missing Values"
   ]
  },
  {
   "cell_type": "code",
   "execution_count": 19,
   "metadata": {},
   "outputs": [
    {
     "data": {
      "text/plain": [
       "CRATER_ID                 0\n",
       "CRATER_NAME               0\n",
       "LATITUDE_CIRCLE_IMAGE     0\n",
       "LONGITUDE_CIRCLE_IMAGE    0\n",
       "DIAM_CIRCLE_IMAGE         0\n",
       "DEPTH_RIMFLOOR_TOPOG      0\n",
       "MORPHOLOGY_EJECTA_1       0\n",
       "MORPHOLOGY_EJECTA_2       0\n",
       "MORPHOLOGY_EJECTA_3       0\n",
       "NUMBER_LAYERS             0\n",
       "dtype: int64"
      ]
     },
     "execution_count": 19,
     "metadata": {},
     "output_type": "execute_result"
    }
   ],
   "source": [
    "df.isnull().sum()"
   ]
  },
  {
   "cell_type": "markdown",
   "metadata": {},
   "source": [
    "### Replacing values"
   ]
  },
  {
   "cell_type": "code",
   "execution_count": 20,
   "metadata": {},
   "outputs": [],
   "source": [
    "df['NUMBER_LAYERS'].replace(to_replace=2, value=1,inplace=True)"
   ]
  },
  {
   "cell_type": "code",
   "execution_count": 21,
   "metadata": {},
   "outputs": [],
   "source": [
    "df['NUMBER_LAYERS'].replace(to_replace=3, value=1,inplace=True)"
   ]
  },
  {
   "cell_type": "code",
   "execution_count": 22,
   "metadata": {},
   "outputs": [],
   "source": [
    "df['NUMBER_LAYERS'].replace(to_replace=4, value=1,inplace=True)"
   ]
  },
  {
   "cell_type": "code",
   "execution_count": 23,
   "metadata": {},
   "outputs": [],
   "source": [
    "df['NUMBER_LAYERS'].replace(to_replace=5, value=1,inplace=True)"
   ]
  },
  {
   "cell_type": "code",
   "execution_count": 24,
   "metadata": {},
   "outputs": [
    {
     "data": {
      "text/plain": [
       "0    364612\n",
       "1     19731\n",
       "Name: NUMBER_LAYERS, dtype: int64"
      ]
     },
     "execution_count": 24,
     "metadata": {},
     "output_type": "execute_result"
    }
   ],
   "source": [
    "df['NUMBER_LAYERS'].value_counts()"
   ]
  },
  {
   "cell_type": "code",
   "execution_count": null,
   "metadata": {},
   "outputs": [],
   "source": []
  },
  {
   "cell_type": "markdown",
   "metadata": {},
   "source": [
    "### Treat Duplicate Values"
   ]
  },
  {
   "cell_type": "code",
   "execution_count": 25,
   "metadata": {},
   "outputs": [
    {
     "data": {
      "text/plain": [
       "0"
      ]
     },
     "execution_count": 25,
     "metadata": {},
     "output_type": "execute_result"
    }
   ],
   "source": [
    "df.duplicated(keep='first').sum()"
   ]
  },
  {
   "cell_type": "markdown",
   "metadata": {},
   "source": [
    "### Treat Outliers"
   ]
  },
  {
   "cell_type": "code",
   "execution_count": 26,
   "metadata": {},
   "outputs": [
    {
     "data": {
      "text/plain": [
       "Index(['CRATER_ID', 'CRATER_NAME', 'LATITUDE_CIRCLE_IMAGE', 'LONGITUDE_CIRCLE_IMAGE', 'DIAM_CIRCLE_IMAGE', 'DEPTH_RIMFLOOR_TOPOG', 'MORPHOLOGY_EJECTA_1', 'MORPHOLOGY_EJECTA_2', 'MORPHOLOGY_EJECTA_3', 'NUMBER_LAYERS'], dtype='object')"
      ]
     },
     "execution_count": 26,
     "metadata": {},
     "output_type": "execute_result"
    }
   ],
   "source": [
    "df.columns"
   ]
  },
  {
   "cell_type": "markdown",
   "metadata": {},
   "source": [
    "### Drop unwanted features"
   ]
  },
  {
   "cell_type": "code",
   "execution_count": 27,
   "metadata": {},
   "outputs": [],
   "source": [
    "df.drop(columns=['CRATER_ID','CRATER_NAME','MORPHOLOGY_EJECTA_1','MORPHOLOGY_EJECTA_2','MORPHOLOGY_EJECTA_3'],inplace=True)"
   ]
  },
  {
   "cell_type": "code",
   "execution_count": 28,
   "metadata": {},
   "outputs": [
    {
     "data": {
      "text/html": [
       "<div>\n",
       "<style scoped>\n",
       "    .dataframe tbody tr th:only-of-type {\n",
       "        vertical-align: middle;\n",
       "    }\n",
       "\n",
       "    .dataframe tbody tr th {\n",
       "        vertical-align: top;\n",
       "    }\n",
       "\n",
       "    .dataframe thead th {\n",
       "        text-align: right;\n",
       "    }\n",
       "</style>\n",
       "<table border=\"1\" class=\"dataframe\">\n",
       "  <thead>\n",
       "    <tr style=\"text-align: right;\">\n",
       "      <th></th>\n",
       "      <th>LATITUDE_CIRCLE_IMAGE</th>\n",
       "      <th>LONGITUDE_CIRCLE_IMAGE</th>\n",
       "      <th>DIAM_CIRCLE_IMAGE</th>\n",
       "      <th>DEPTH_RIMFLOOR_TOPOG</th>\n",
       "      <th>NUMBER_LAYERS</th>\n",
       "    </tr>\n",
       "  </thead>\n",
       "  <tbody>\n",
       "    <tr>\n",
       "      <th>0</th>\n",
       "      <td>84.367</td>\n",
       "      <td>108.746</td>\n",
       "      <td>82.10</td>\n",
       "      <td>0.22</td>\n",
       "      <td>0</td>\n",
       "    </tr>\n",
       "    <tr>\n",
       "      <th>1</th>\n",
       "      <td>72.760</td>\n",
       "      <td>164.464</td>\n",
       "      <td>82.02</td>\n",
       "      <td>1.97</td>\n",
       "      <td>1</td>\n",
       "    </tr>\n",
       "    <tr>\n",
       "      <th>2</th>\n",
       "      <td>69.244</td>\n",
       "      <td>-27.240</td>\n",
       "      <td>79.63</td>\n",
       "      <td>0.09</td>\n",
       "      <td>0</td>\n",
       "    </tr>\n",
       "    <tr>\n",
       "      <th>3</th>\n",
       "      <td>70.107</td>\n",
       "      <td>160.575</td>\n",
       "      <td>74.81</td>\n",
       "      <td>0.13</td>\n",
       "      <td>0</td>\n",
       "    </tr>\n",
       "    <tr>\n",
       "      <th>4</th>\n",
       "      <td>77.996</td>\n",
       "      <td>95.617</td>\n",
       "      <td>73.53</td>\n",
       "      <td>0.11</td>\n",
       "      <td>0</td>\n",
       "    </tr>\n",
       "    <tr>\n",
       "      <th>...</th>\n",
       "      <td>...</td>\n",
       "      <td>...</td>\n",
       "      <td>...</td>\n",
       "      <td>...</td>\n",
       "      <td>...</td>\n",
       "    </tr>\n",
       "    <tr>\n",
       "      <th>384338</th>\n",
       "      <td>-67.138</td>\n",
       "      <td>166.562</td>\n",
       "      <td>1.00</td>\n",
       "      <td>0.00</td>\n",
       "      <td>0</td>\n",
       "    </tr>\n",
       "    <tr>\n",
       "      <th>384339</th>\n",
       "      <td>-73.986</td>\n",
       "      <td>39.069</td>\n",
       "      <td>1.00</td>\n",
       "      <td>0.00</td>\n",
       "      <td>0</td>\n",
       "    </tr>\n",
       "    <tr>\n",
       "      <th>384340</th>\n",
       "      <td>-76.934</td>\n",
       "      <td>5.923</td>\n",
       "      <td>1.00</td>\n",
       "      <td>0.00</td>\n",
       "      <td>0</td>\n",
       "    </tr>\n",
       "    <tr>\n",
       "      <th>384341</th>\n",
       "      <td>-79.415</td>\n",
       "      <td>63.528</td>\n",
       "      <td>1.00</td>\n",
       "      <td>0.00</td>\n",
       "      <td>0</td>\n",
       "    </tr>\n",
       "    <tr>\n",
       "      <th>384342</th>\n",
       "      <td>-79.664</td>\n",
       "      <td>0.991</td>\n",
       "      <td>1.00</td>\n",
       "      <td>0.00</td>\n",
       "      <td>0</td>\n",
       "    </tr>\n",
       "  </tbody>\n",
       "</table>\n",
       "<p>384343 rows × 5 columns</p>\n",
       "</div>"
      ],
      "text/plain": [
       "        LATITUDE_CIRCLE_IMAGE  LONGITUDE_CIRCLE_IMAGE  DIAM_CIRCLE_IMAGE  DEPTH_RIMFLOOR_TOPOG  NUMBER_LAYERS\n",
       "0                      84.367                 108.746              82.10                  0.22              0\n",
       "1                      72.760                 164.464              82.02                  1.97              1\n",
       "2                      69.244                 -27.240              79.63                  0.09              0\n",
       "3                      70.107                 160.575              74.81                  0.13              0\n",
       "4                      77.996                  95.617              73.53                  0.11              0\n",
       "...                       ...                     ...                ...                   ...            ...\n",
       "384338                -67.138                 166.562               1.00                  0.00              0\n",
       "384339                -73.986                  39.069               1.00                  0.00              0\n",
       "384340                -76.934                   5.923               1.00                  0.00              0\n",
       "384341                -79.415                  63.528               1.00                  0.00              0\n",
       "384342                -79.664                   0.991               1.00                  0.00              0\n",
       "\n",
       "[384343 rows x 5 columns]"
      ]
     },
     "execution_count": 28,
     "metadata": {},
     "output_type": "execute_result"
    }
   ],
   "source": [
    "df"
   ]
  },
  {
   "cell_type": "code",
   "execution_count": 29,
   "metadata": {},
   "outputs": [
    {
     "name": "stdout",
     "output_type": "stream",
     "text": [
      "<class 'pandas.core.frame.DataFrame'>\n",
      "RangeIndex: 384343 entries, 0 to 384342\n",
      "Data columns (total 5 columns):\n",
      " #   Column                  Non-Null Count   Dtype  \n",
      "---  ------                  --------------   -----  \n",
      " 0   LATITUDE_CIRCLE_IMAGE   384343 non-null  float64\n",
      " 1   LONGITUDE_CIRCLE_IMAGE  384343 non-null  float64\n",
      " 2   DIAM_CIRCLE_IMAGE       384343 non-null  float64\n",
      " 3   DEPTH_RIMFLOOR_TOPOG    384343 non-null  float64\n",
      " 4   NUMBER_LAYERS           384343 non-null  int64  \n",
      "dtypes: float64(4), int64(1)\n",
      "memory usage: 14.7 MB\n"
     ]
    }
   ],
   "source": [
    "df.info()"
   ]
  },
  {
   "cell_type": "markdown",
   "metadata": {},
   "source": [
    "### Create and save processed dataset"
   ]
  },
  {
   "cell_type": "code",
   "execution_count": 30,
   "metadata": {},
   "outputs": [],
   "source": [
    "#df.to_csv(\"marstrain.csv\",index=False)"
   ]
  },
  {
   "cell_type": "code",
   "execution_count": null,
   "metadata": {},
   "outputs": [],
   "source": []
  },
  {
   "cell_type": "markdown",
   "metadata": {},
   "source": [
    "### Train Test Split"
   ]
  },
  {
   "cell_type": "code",
   "execution_count": 31,
   "metadata": {},
   "outputs": [],
   "source": [
    "df = pd.read_csv(\"marstrain.csv\")"
   ]
  },
  {
   "cell_type": "code",
   "execution_count": 32,
   "metadata": {},
   "outputs": [
    {
     "data": {
      "text/plain": [
       "(384343, 5)"
      ]
     },
     "execution_count": 32,
     "metadata": {},
     "output_type": "execute_result"
    }
   ],
   "source": [
    "df.shape"
   ]
  },
  {
   "cell_type": "code",
   "execution_count": 33,
   "metadata": {},
   "outputs": [],
   "source": [
    "df2 = df.sample(random_state=0, frac=0.01)"
   ]
  },
  {
   "cell_type": "code",
   "execution_count": 34,
   "metadata": {},
   "outputs": [
    {
     "data": {
      "text/plain": [
       "(3843, 5)"
      ]
     },
     "execution_count": 34,
     "metadata": {},
     "output_type": "execute_result"
    }
   ],
   "source": [
    "df2.shape"
   ]
  },
  {
   "cell_type": "code",
   "execution_count": 35,
   "metadata": {},
   "outputs": [],
   "source": [
    "X = df2.iloc[:,0:4]\n",
    "y = df2.iloc[:,4]"
   ]
  },
  {
   "cell_type": "code",
   "execution_count": 36,
   "metadata": {},
   "outputs": [
    {
     "data": {
      "text/plain": [
       "array([[ 6.39790e+01, -1.57158e+02,  1.14000e+00,  0.00000e+00],\n",
       "       [ 1.16600e+00,  1.79550e+01,  2.20000e+00,  9.00000e-02],\n",
       "       [ 1.90180e+01,  3.46530e+01,  2.17000e+00,  0.00000e+00],\n",
       "       ...,\n",
       "       [-2.06850e+01, -2.32910e+01,  1.28000e+00,  0.00000e+00],\n",
       "       [-2.26900e+00, -4.21570e+01,  4.33600e+01,  7.20000e-01],\n",
       "       [ 1.54440e+01,  3.21230e+01,  1.02000e+00,  0.00000e+00]])"
      ]
     },
     "execution_count": 36,
     "metadata": {},
     "output_type": "execute_result"
    }
   ],
   "source": [
    "X.values"
   ]
  },
  {
   "cell_type": "code",
   "execution_count": 37,
   "metadata": {},
   "outputs": [
    {
     "data": {
      "text/plain": [
       "array([1, 0, 0, ..., 0, 0, 0], dtype=int64)"
      ]
     },
     "execution_count": 37,
     "metadata": {},
     "output_type": "execute_result"
    }
   ],
   "source": [
    "y.values"
   ]
  },
  {
   "cell_type": "markdown",
   "metadata": {},
   "source": [
    "### Treat Imbalance Data"
   ]
  },
  {
   "cell_type": "code",
   "execution_count": 38,
   "metadata": {},
   "outputs": [
    {
     "data": {
      "text/plain": [
       "0    3631\n",
       "1     212\n",
       "Name: NUMBER_LAYERS, dtype: int64"
      ]
     },
     "execution_count": 38,
     "metadata": {},
     "output_type": "execute_result"
    }
   ],
   "source": [
    "y.value_counts()"
   ]
  },
  {
   "cell_type": "code",
   "execution_count": 39,
   "metadata": {},
   "outputs": [],
   "source": [
    "ros = RandomOverSampler(sampling_strategy='auto',random_state=0)"
   ]
  },
  {
   "cell_type": "code",
   "execution_count": 40,
   "metadata": {},
   "outputs": [],
   "source": [
    "new_X, new_y = ros.fit_resample(X,y)"
   ]
  },
  {
   "cell_type": "code",
   "execution_count": 41,
   "metadata": {},
   "outputs": [
    {
     "data": {
      "text/plain": [
       "1    3631\n",
       "0    3631\n",
       "Name: NUMBER_LAYERS, dtype: int64"
      ]
     },
     "execution_count": 41,
     "metadata": {},
     "output_type": "execute_result"
    }
   ],
   "source": [
    "new_y.value_counts()"
   ]
  },
  {
   "cell_type": "code",
   "execution_count": 42,
   "metadata": {},
   "outputs": [
    {
     "data": {
      "text/html": [
       "<div>\n",
       "<style scoped>\n",
       "    .dataframe tbody tr th:only-of-type {\n",
       "        vertical-align: middle;\n",
       "    }\n",
       "\n",
       "    .dataframe tbody tr th {\n",
       "        vertical-align: top;\n",
       "    }\n",
       "\n",
       "    .dataframe thead th {\n",
       "        text-align: right;\n",
       "    }\n",
       "</style>\n",
       "<table border=\"1\" class=\"dataframe\">\n",
       "  <thead>\n",
       "    <tr style=\"text-align: right;\">\n",
       "      <th></th>\n",
       "      <th>LATITUDE_CIRCLE_IMAGE</th>\n",
       "      <th>LONGITUDE_CIRCLE_IMAGE</th>\n",
       "      <th>DIAM_CIRCLE_IMAGE</th>\n",
       "      <th>DEPTH_RIMFLOOR_TOPOG</th>\n",
       "    </tr>\n",
       "  </thead>\n",
       "  <tbody>\n",
       "    <tr>\n",
       "      <th>0</th>\n",
       "      <td>63.979</td>\n",
       "      <td>-157.158</td>\n",
       "      <td>1.14</td>\n",
       "      <td>0.00</td>\n",
       "    </tr>\n",
       "    <tr>\n",
       "      <th>1</th>\n",
       "      <td>1.166</td>\n",
       "      <td>17.955</td>\n",
       "      <td>2.20</td>\n",
       "      <td>0.09</td>\n",
       "    </tr>\n",
       "    <tr>\n",
       "      <th>2</th>\n",
       "      <td>19.018</td>\n",
       "      <td>34.653</td>\n",
       "      <td>2.17</td>\n",
       "      <td>0.00</td>\n",
       "    </tr>\n",
       "    <tr>\n",
       "      <th>3</th>\n",
       "      <td>39.191</td>\n",
       "      <td>-32.722</td>\n",
       "      <td>2.29</td>\n",
       "      <td>0.00</td>\n",
       "    </tr>\n",
       "    <tr>\n",
       "      <th>4</th>\n",
       "      <td>-42.328</td>\n",
       "      <td>12.815</td>\n",
       "      <td>15.64</td>\n",
       "      <td>0.44</td>\n",
       "    </tr>\n",
       "    <tr>\n",
       "      <th>...</th>\n",
       "      <td>...</td>\n",
       "      <td>...</td>\n",
       "      <td>...</td>\n",
       "      <td>...</td>\n",
       "    </tr>\n",
       "    <tr>\n",
       "      <th>7257</th>\n",
       "      <td>-39.960</td>\n",
       "      <td>147.244</td>\n",
       "      <td>3.68</td>\n",
       "      <td>0.38</td>\n",
       "    </tr>\n",
       "    <tr>\n",
       "      <th>7258</th>\n",
       "      <td>-18.802</td>\n",
       "      <td>-7.615</td>\n",
       "      <td>7.81</td>\n",
       "      <td>0.80</td>\n",
       "    </tr>\n",
       "    <tr>\n",
       "      <th>7259</th>\n",
       "      <td>-13.633</td>\n",
       "      <td>-4.540</td>\n",
       "      <td>9.28</td>\n",
       "      <td>0.90</td>\n",
       "    </tr>\n",
       "    <tr>\n",
       "      <th>7260</th>\n",
       "      <td>51.427</td>\n",
       "      <td>-55.114</td>\n",
       "      <td>3.18</td>\n",
       "      <td>0.05</td>\n",
       "    </tr>\n",
       "    <tr>\n",
       "      <th>7261</th>\n",
       "      <td>-46.889</td>\n",
       "      <td>-137.790</td>\n",
       "      <td>20.53</td>\n",
       "      <td>0.74</td>\n",
       "    </tr>\n",
       "  </tbody>\n",
       "</table>\n",
       "<p>7262 rows × 4 columns</p>\n",
       "</div>"
      ],
      "text/plain": [
       "      LATITUDE_CIRCLE_IMAGE  LONGITUDE_CIRCLE_IMAGE  DIAM_CIRCLE_IMAGE  DEPTH_RIMFLOOR_TOPOG\n",
       "0                    63.979                -157.158               1.14                  0.00\n",
       "1                     1.166                  17.955               2.20                  0.09\n",
       "2                    19.018                  34.653               2.17                  0.00\n",
       "3                    39.191                 -32.722               2.29                  0.00\n",
       "4                   -42.328                  12.815              15.64                  0.44\n",
       "...                     ...                     ...                ...                   ...\n",
       "7257                -39.960                 147.244               3.68                  0.38\n",
       "7258                -18.802                  -7.615               7.81                  0.80\n",
       "7259                -13.633                  -4.540               9.28                  0.90\n",
       "7260                 51.427                 -55.114               3.18                  0.05\n",
       "7261                -46.889                -137.790              20.53                  0.74\n",
       "\n",
       "[7262 rows x 4 columns]"
      ]
     },
     "execution_count": 42,
     "metadata": {},
     "output_type": "execute_result"
    }
   ],
   "source": [
    "new_X"
   ]
  },
  {
   "cell_type": "code",
   "execution_count": 43,
   "metadata": {},
   "outputs": [
    {
     "data": {
      "text/plain": [
       "(array([[ 6.39790e+01, -1.57158e+02,  1.14000e+00,  0.00000e+00],\n",
       "        [ 1.16600e+00,  1.79550e+01,  2.20000e+00,  9.00000e-02],\n",
       "        [ 1.90180e+01,  3.46530e+01,  2.17000e+00,  0.00000e+00],\n",
       "        ...,\n",
       "        [-1.36330e+01, -4.54000e+00,  9.28000e+00,  9.00000e-01],\n",
       "        [ 5.14270e+01, -5.51140e+01,  3.18000e+00,  5.00000e-02],\n",
       "        [-4.68890e+01, -1.37790e+02,  2.05300e+01,  7.40000e-01]]),\n",
       " array([1, 0, 0, ..., 1, 1, 1], dtype=int64))"
      ]
     },
     "execution_count": 43,
     "metadata": {},
     "output_type": "execute_result"
    }
   ],
   "source": [
    "new_X.values, new_y.values"
   ]
  },
  {
   "cell_type": "code",
   "execution_count": 44,
   "metadata": {},
   "outputs": [],
   "source": [
    "X_train, X_test, y_train, y_test = train_test_split(new_X.values, new_y.values, test_size=0.2, random_state=0)"
   ]
  },
  {
   "cell_type": "code",
   "execution_count": 45,
   "metadata": {},
   "outputs": [
    {
     "data": {
      "text/plain": [
       "((5809, 4), (1453, 4), (5809,), (1453,))"
      ]
     },
     "execution_count": 45,
     "metadata": {},
     "output_type": "execute_result"
    }
   ],
   "source": [
    "X_train.shape, X_test.shape, y_train.shape, y_test.shape"
   ]
  },
  {
   "cell_type": "markdown",
   "metadata": {},
   "source": [
    "### Feature Scaling"
   ]
  },
  {
   "cell_type": "code",
   "execution_count": 46,
   "metadata": {},
   "outputs": [
    {
     "data": {
      "text/plain": [
       "array([[ 6.25070e+01, -1.16057e+02,  1.71000e+00,  0.00000e+00],\n",
       "       [-1.77800e+00, -2.97970e+01,  1.01200e+01,  6.00000e-01],\n",
       "       [-1.80520e+01, -6.99700e+01,  4.26000e+00,  5.10000e-01],\n",
       "       ...,\n",
       "       [-5.01870e+01, -7.38900e+01,  2.61000e+00,  0.00000e+00],\n",
       "       [ 5.40630e+01,  9.52500e+01,  3.99000e+00,  5.00000e-02],\n",
       "       [ 2.45960e+01, -9.52740e+01,  1.23000e+00,  0.00000e+00]])"
      ]
     },
     "execution_count": 46,
     "metadata": {},
     "output_type": "execute_result"
    }
   ],
   "source": [
    "X_train"
   ]
  },
  {
   "cell_type": "code",
   "execution_count": 47,
   "metadata": {},
   "outputs": [],
   "source": [
    "scaler = StandardScaler()"
   ]
  },
  {
   "cell_type": "code",
   "execution_count": 48,
   "metadata": {},
   "outputs": [],
   "source": [
    "X_train_scaled = scaler.fit_transform(X_train)"
   ]
  },
  {
   "cell_type": "code",
   "execution_count": 49,
   "metadata": {},
   "outputs": [],
   "source": [
    "X_test_scaled = scaler.transform(X_test)"
   ]
  },
  {
   "cell_type": "code",
   "execution_count": 50,
   "metadata": {},
   "outputs": [
    {
     "data": {
      "text/plain": [
       "array([[ 1.80391543, -1.27793621, -0.49984293, -0.74407197],\n",
       "       [ 0.01579149, -0.38212996,  0.58347328,  0.92416326],\n",
       "       [-0.43687911, -0.79932477, -0.17137012,  0.67392798],\n",
       "       ...,\n",
       "       [-1.33073246, -0.8400338 , -0.38391135, -0.74407197],\n",
       "       [ 1.56904076,  0.91647757, -0.20614959, -0.60505237],\n",
       "       [ 0.74939934, -1.06210569, -0.5616731 , -0.74407197]])"
      ]
     },
     "execution_count": 50,
     "metadata": {},
     "output_type": "execute_result"
    }
   ],
   "source": [
    "X_train_scaled"
   ]
  },
  {
   "cell_type": "code",
   "execution_count": 51,
   "metadata": {},
   "outputs": [
    {
     "data": {
      "text/plain": [
       "array([[ 0.6053425 ,  0.1343658 ,  0.31167813,  1.17439855],\n",
       "       [ 0.42164848, -0.12601618, -0.55394433, -0.74407197],\n",
       "       [-0.89939641, -0.02436824, -0.52045298, -0.74407197],\n",
       "       ...,\n",
       "       [-1.1416144 ,  0.21073677, -0.58099503, -0.74407197],\n",
       "       [ 0.86450017,  0.36487028,  0.38123708, -0.74407197],\n",
       "       [-2.05624599, -0.64948025, -0.35042   , -0.74407197]])"
      ]
     },
     "execution_count": 51,
     "metadata": {},
     "output_type": "execute_result"
    }
   ],
   "source": [
    "X_test_scaled"
   ]
  },
  {
   "cell_type": "markdown",
   "metadata": {},
   "source": [
    "### Model Training"
   ]
  },
  {
   "cell_type": "markdown",
   "metadata": {},
   "source": [
    "### Using PyCaret"
   ]
  },
  {
   "cell_type": "code",
   "execution_count": 52,
   "metadata": {},
   "outputs": [
    {
     "data": {
      "text/plain": [
       "Index(['LATITUDE_CIRCLE_IMAGE', 'LONGITUDE_CIRCLE_IMAGE', 'DIAM_CIRCLE_IMAGE', 'DEPTH_RIMFLOOR_TOPOG', 'NUMBER_LAYERS'], dtype='object')"
      ]
     },
     "execution_count": 52,
     "metadata": {},
     "output_type": "execute_result"
    }
   ],
   "source": [
    "df.columns"
   ]
  },
  {
   "cell_type": "code",
   "execution_count": 53,
   "metadata": {},
   "outputs": [
    {
     "name": "stdout",
     "output_type": "stream",
     "text": [
      " \n",
      "Setup Succesfully Completed!\n"
     ]
    },
    {
     "data": {
      "text/html": [
       "<style  type=\"text/css\" >\n",
       "#T_76aaa1d8_ddc3_11ea_80cc_3c528213d836row15_col1{\n",
       "            background-color:  lightgreen;\n",
       "        }</style><table id=\"T_76aaa1d8_ddc3_11ea_80cc_3c528213d836\" ><thead>    <tr>        <th class=\"blank level0\" ></th>        <th class=\"col_heading level0 col0\" >Description</th>        <th class=\"col_heading level0 col1\" >Value</th>    </tr></thead><tbody>\n",
       "                <tr>\n",
       "                        <th id=\"T_76aaa1d8_ddc3_11ea_80cc_3c528213d836level0_row0\" class=\"row_heading level0 row0\" >0</th>\n",
       "                        <td id=\"T_76aaa1d8_ddc3_11ea_80cc_3c528213d836row0_col0\" class=\"data row0 col0\" >session_id</td>\n",
       "                        <td id=\"T_76aaa1d8_ddc3_11ea_80cc_3c528213d836row0_col1\" class=\"data row0 col1\" >0</td>\n",
       "            </tr>\n",
       "            <tr>\n",
       "                        <th id=\"T_76aaa1d8_ddc3_11ea_80cc_3c528213d836level0_row1\" class=\"row_heading level0 row1\" >1</th>\n",
       "                        <td id=\"T_76aaa1d8_ddc3_11ea_80cc_3c528213d836row1_col0\" class=\"data row1 col0\" >Target Type</td>\n",
       "                        <td id=\"T_76aaa1d8_ddc3_11ea_80cc_3c528213d836row1_col1\" class=\"data row1 col1\" >Binary</td>\n",
       "            </tr>\n",
       "            <tr>\n",
       "                        <th id=\"T_76aaa1d8_ddc3_11ea_80cc_3c528213d836level0_row2\" class=\"row_heading level0 row2\" >2</th>\n",
       "                        <td id=\"T_76aaa1d8_ddc3_11ea_80cc_3c528213d836row2_col0\" class=\"data row2 col0\" >Label Encoded</td>\n",
       "                        <td id=\"T_76aaa1d8_ddc3_11ea_80cc_3c528213d836row2_col1\" class=\"data row2 col1\" >None</td>\n",
       "            </tr>\n",
       "            <tr>\n",
       "                        <th id=\"T_76aaa1d8_ddc3_11ea_80cc_3c528213d836level0_row3\" class=\"row_heading level0 row3\" >3</th>\n",
       "                        <td id=\"T_76aaa1d8_ddc3_11ea_80cc_3c528213d836row3_col0\" class=\"data row3 col0\" >Original Data</td>\n",
       "                        <td id=\"T_76aaa1d8_ddc3_11ea_80cc_3c528213d836row3_col1\" class=\"data row3 col1\" >(3843, 5)</td>\n",
       "            </tr>\n",
       "            <tr>\n",
       "                        <th id=\"T_76aaa1d8_ddc3_11ea_80cc_3c528213d836level0_row4\" class=\"row_heading level0 row4\" >4</th>\n",
       "                        <td id=\"T_76aaa1d8_ddc3_11ea_80cc_3c528213d836row4_col0\" class=\"data row4 col0\" >Missing Values </td>\n",
       "                        <td id=\"T_76aaa1d8_ddc3_11ea_80cc_3c528213d836row4_col1\" class=\"data row4 col1\" >False</td>\n",
       "            </tr>\n",
       "            <tr>\n",
       "                        <th id=\"T_76aaa1d8_ddc3_11ea_80cc_3c528213d836level0_row5\" class=\"row_heading level0 row5\" >5</th>\n",
       "                        <td id=\"T_76aaa1d8_ddc3_11ea_80cc_3c528213d836row5_col0\" class=\"data row5 col0\" >Numeric Features </td>\n",
       "                        <td id=\"T_76aaa1d8_ddc3_11ea_80cc_3c528213d836row5_col1\" class=\"data row5 col1\" >4</td>\n",
       "            </tr>\n",
       "            <tr>\n",
       "                        <th id=\"T_76aaa1d8_ddc3_11ea_80cc_3c528213d836level0_row6\" class=\"row_heading level0 row6\" >6</th>\n",
       "                        <td id=\"T_76aaa1d8_ddc3_11ea_80cc_3c528213d836row6_col0\" class=\"data row6 col0\" >Categorical Features </td>\n",
       "                        <td id=\"T_76aaa1d8_ddc3_11ea_80cc_3c528213d836row6_col1\" class=\"data row6 col1\" >0</td>\n",
       "            </tr>\n",
       "            <tr>\n",
       "                        <th id=\"T_76aaa1d8_ddc3_11ea_80cc_3c528213d836level0_row7\" class=\"row_heading level0 row7\" >7</th>\n",
       "                        <td id=\"T_76aaa1d8_ddc3_11ea_80cc_3c528213d836row7_col0\" class=\"data row7 col0\" >Ordinal Features </td>\n",
       "                        <td id=\"T_76aaa1d8_ddc3_11ea_80cc_3c528213d836row7_col1\" class=\"data row7 col1\" >False</td>\n",
       "            </tr>\n",
       "            <tr>\n",
       "                        <th id=\"T_76aaa1d8_ddc3_11ea_80cc_3c528213d836level0_row8\" class=\"row_heading level0 row8\" >8</th>\n",
       "                        <td id=\"T_76aaa1d8_ddc3_11ea_80cc_3c528213d836row8_col0\" class=\"data row8 col0\" >High Cardinality Features </td>\n",
       "                        <td id=\"T_76aaa1d8_ddc3_11ea_80cc_3c528213d836row8_col1\" class=\"data row8 col1\" >False</td>\n",
       "            </tr>\n",
       "            <tr>\n",
       "                        <th id=\"T_76aaa1d8_ddc3_11ea_80cc_3c528213d836level0_row9\" class=\"row_heading level0 row9\" >9</th>\n",
       "                        <td id=\"T_76aaa1d8_ddc3_11ea_80cc_3c528213d836row9_col0\" class=\"data row9 col0\" >High Cardinality Method </td>\n",
       "                        <td id=\"T_76aaa1d8_ddc3_11ea_80cc_3c528213d836row9_col1\" class=\"data row9 col1\" >None</td>\n",
       "            </tr>\n",
       "            <tr>\n",
       "                        <th id=\"T_76aaa1d8_ddc3_11ea_80cc_3c528213d836level0_row10\" class=\"row_heading level0 row10\" >10</th>\n",
       "                        <td id=\"T_76aaa1d8_ddc3_11ea_80cc_3c528213d836row10_col0\" class=\"data row10 col0\" >Sampled Data</td>\n",
       "                        <td id=\"T_76aaa1d8_ddc3_11ea_80cc_3c528213d836row10_col1\" class=\"data row10 col1\" >(3843, 5)</td>\n",
       "            </tr>\n",
       "            <tr>\n",
       "                        <th id=\"T_76aaa1d8_ddc3_11ea_80cc_3c528213d836level0_row11\" class=\"row_heading level0 row11\" >11</th>\n",
       "                        <td id=\"T_76aaa1d8_ddc3_11ea_80cc_3c528213d836row11_col0\" class=\"data row11 col0\" >Transformed Train Set</td>\n",
       "                        <td id=\"T_76aaa1d8_ddc3_11ea_80cc_3c528213d836row11_col1\" class=\"data row11 col1\" >(3074, 4)</td>\n",
       "            </tr>\n",
       "            <tr>\n",
       "                        <th id=\"T_76aaa1d8_ddc3_11ea_80cc_3c528213d836level0_row12\" class=\"row_heading level0 row12\" >12</th>\n",
       "                        <td id=\"T_76aaa1d8_ddc3_11ea_80cc_3c528213d836row12_col0\" class=\"data row12 col0\" >Transformed Test Set</td>\n",
       "                        <td id=\"T_76aaa1d8_ddc3_11ea_80cc_3c528213d836row12_col1\" class=\"data row12 col1\" >(769, 4)</td>\n",
       "            </tr>\n",
       "            <tr>\n",
       "                        <th id=\"T_76aaa1d8_ddc3_11ea_80cc_3c528213d836level0_row13\" class=\"row_heading level0 row13\" >13</th>\n",
       "                        <td id=\"T_76aaa1d8_ddc3_11ea_80cc_3c528213d836row13_col0\" class=\"data row13 col0\" >Numeric Imputer </td>\n",
       "                        <td id=\"T_76aaa1d8_ddc3_11ea_80cc_3c528213d836row13_col1\" class=\"data row13 col1\" >mean</td>\n",
       "            </tr>\n",
       "            <tr>\n",
       "                        <th id=\"T_76aaa1d8_ddc3_11ea_80cc_3c528213d836level0_row14\" class=\"row_heading level0 row14\" >14</th>\n",
       "                        <td id=\"T_76aaa1d8_ddc3_11ea_80cc_3c528213d836row14_col0\" class=\"data row14 col0\" >Categorical Imputer </td>\n",
       "                        <td id=\"T_76aaa1d8_ddc3_11ea_80cc_3c528213d836row14_col1\" class=\"data row14 col1\" >constant</td>\n",
       "            </tr>\n",
       "            <tr>\n",
       "                        <th id=\"T_76aaa1d8_ddc3_11ea_80cc_3c528213d836level0_row15\" class=\"row_heading level0 row15\" >15</th>\n",
       "                        <td id=\"T_76aaa1d8_ddc3_11ea_80cc_3c528213d836row15_col0\" class=\"data row15 col0\" >Normalize </td>\n",
       "                        <td id=\"T_76aaa1d8_ddc3_11ea_80cc_3c528213d836row15_col1\" class=\"data row15 col1\" >True</td>\n",
       "            </tr>\n",
       "            <tr>\n",
       "                        <th id=\"T_76aaa1d8_ddc3_11ea_80cc_3c528213d836level0_row16\" class=\"row_heading level0 row16\" >16</th>\n",
       "                        <td id=\"T_76aaa1d8_ddc3_11ea_80cc_3c528213d836row16_col0\" class=\"data row16 col0\" >Normalize Method </td>\n",
       "                        <td id=\"T_76aaa1d8_ddc3_11ea_80cc_3c528213d836row16_col1\" class=\"data row16 col1\" >zscore</td>\n",
       "            </tr>\n",
       "            <tr>\n",
       "                        <th id=\"T_76aaa1d8_ddc3_11ea_80cc_3c528213d836level0_row17\" class=\"row_heading level0 row17\" >17</th>\n",
       "                        <td id=\"T_76aaa1d8_ddc3_11ea_80cc_3c528213d836row17_col0\" class=\"data row17 col0\" >Transformation </td>\n",
       "                        <td id=\"T_76aaa1d8_ddc3_11ea_80cc_3c528213d836row17_col1\" class=\"data row17 col1\" >False</td>\n",
       "            </tr>\n",
       "            <tr>\n",
       "                        <th id=\"T_76aaa1d8_ddc3_11ea_80cc_3c528213d836level0_row18\" class=\"row_heading level0 row18\" >18</th>\n",
       "                        <td id=\"T_76aaa1d8_ddc3_11ea_80cc_3c528213d836row18_col0\" class=\"data row18 col0\" >Transformation Method </td>\n",
       "                        <td id=\"T_76aaa1d8_ddc3_11ea_80cc_3c528213d836row18_col1\" class=\"data row18 col1\" >None</td>\n",
       "            </tr>\n",
       "            <tr>\n",
       "                        <th id=\"T_76aaa1d8_ddc3_11ea_80cc_3c528213d836level0_row19\" class=\"row_heading level0 row19\" >19</th>\n",
       "                        <td id=\"T_76aaa1d8_ddc3_11ea_80cc_3c528213d836row19_col0\" class=\"data row19 col0\" >PCA </td>\n",
       "                        <td id=\"T_76aaa1d8_ddc3_11ea_80cc_3c528213d836row19_col1\" class=\"data row19 col1\" >False</td>\n",
       "            </tr>\n",
       "            <tr>\n",
       "                        <th id=\"T_76aaa1d8_ddc3_11ea_80cc_3c528213d836level0_row20\" class=\"row_heading level0 row20\" >20</th>\n",
       "                        <td id=\"T_76aaa1d8_ddc3_11ea_80cc_3c528213d836row20_col0\" class=\"data row20 col0\" >PCA Method </td>\n",
       "                        <td id=\"T_76aaa1d8_ddc3_11ea_80cc_3c528213d836row20_col1\" class=\"data row20 col1\" >None</td>\n",
       "            </tr>\n",
       "            <tr>\n",
       "                        <th id=\"T_76aaa1d8_ddc3_11ea_80cc_3c528213d836level0_row21\" class=\"row_heading level0 row21\" >21</th>\n",
       "                        <td id=\"T_76aaa1d8_ddc3_11ea_80cc_3c528213d836row21_col0\" class=\"data row21 col0\" >PCA Components </td>\n",
       "                        <td id=\"T_76aaa1d8_ddc3_11ea_80cc_3c528213d836row21_col1\" class=\"data row21 col1\" >None</td>\n",
       "            </tr>\n",
       "            <tr>\n",
       "                        <th id=\"T_76aaa1d8_ddc3_11ea_80cc_3c528213d836level0_row22\" class=\"row_heading level0 row22\" >22</th>\n",
       "                        <td id=\"T_76aaa1d8_ddc3_11ea_80cc_3c528213d836row22_col0\" class=\"data row22 col0\" >Ignore Low Variance </td>\n",
       "                        <td id=\"T_76aaa1d8_ddc3_11ea_80cc_3c528213d836row22_col1\" class=\"data row22 col1\" >False</td>\n",
       "            </tr>\n",
       "            <tr>\n",
       "                        <th id=\"T_76aaa1d8_ddc3_11ea_80cc_3c528213d836level0_row23\" class=\"row_heading level0 row23\" >23</th>\n",
       "                        <td id=\"T_76aaa1d8_ddc3_11ea_80cc_3c528213d836row23_col0\" class=\"data row23 col0\" >Combine Rare Levels </td>\n",
       "                        <td id=\"T_76aaa1d8_ddc3_11ea_80cc_3c528213d836row23_col1\" class=\"data row23 col1\" >False</td>\n",
       "            </tr>\n",
       "            <tr>\n",
       "                        <th id=\"T_76aaa1d8_ddc3_11ea_80cc_3c528213d836level0_row24\" class=\"row_heading level0 row24\" >24</th>\n",
       "                        <td id=\"T_76aaa1d8_ddc3_11ea_80cc_3c528213d836row24_col0\" class=\"data row24 col0\" >Rare Level Threshold </td>\n",
       "                        <td id=\"T_76aaa1d8_ddc3_11ea_80cc_3c528213d836row24_col1\" class=\"data row24 col1\" >None</td>\n",
       "            </tr>\n",
       "            <tr>\n",
       "                        <th id=\"T_76aaa1d8_ddc3_11ea_80cc_3c528213d836level0_row25\" class=\"row_heading level0 row25\" >25</th>\n",
       "                        <td id=\"T_76aaa1d8_ddc3_11ea_80cc_3c528213d836row25_col0\" class=\"data row25 col0\" >Numeric Binning </td>\n",
       "                        <td id=\"T_76aaa1d8_ddc3_11ea_80cc_3c528213d836row25_col1\" class=\"data row25 col1\" >False</td>\n",
       "            </tr>\n",
       "            <tr>\n",
       "                        <th id=\"T_76aaa1d8_ddc3_11ea_80cc_3c528213d836level0_row26\" class=\"row_heading level0 row26\" >26</th>\n",
       "                        <td id=\"T_76aaa1d8_ddc3_11ea_80cc_3c528213d836row26_col0\" class=\"data row26 col0\" >Remove Outliers </td>\n",
       "                        <td id=\"T_76aaa1d8_ddc3_11ea_80cc_3c528213d836row26_col1\" class=\"data row26 col1\" >False</td>\n",
       "            </tr>\n",
       "            <tr>\n",
       "                        <th id=\"T_76aaa1d8_ddc3_11ea_80cc_3c528213d836level0_row27\" class=\"row_heading level0 row27\" >27</th>\n",
       "                        <td id=\"T_76aaa1d8_ddc3_11ea_80cc_3c528213d836row27_col0\" class=\"data row27 col0\" >Outliers Threshold </td>\n",
       "                        <td id=\"T_76aaa1d8_ddc3_11ea_80cc_3c528213d836row27_col1\" class=\"data row27 col1\" >None</td>\n",
       "            </tr>\n",
       "            <tr>\n",
       "                        <th id=\"T_76aaa1d8_ddc3_11ea_80cc_3c528213d836level0_row28\" class=\"row_heading level0 row28\" >28</th>\n",
       "                        <td id=\"T_76aaa1d8_ddc3_11ea_80cc_3c528213d836row28_col0\" class=\"data row28 col0\" >Remove Multicollinearity </td>\n",
       "                        <td id=\"T_76aaa1d8_ddc3_11ea_80cc_3c528213d836row28_col1\" class=\"data row28 col1\" >False</td>\n",
       "            </tr>\n",
       "            <tr>\n",
       "                        <th id=\"T_76aaa1d8_ddc3_11ea_80cc_3c528213d836level0_row29\" class=\"row_heading level0 row29\" >29</th>\n",
       "                        <td id=\"T_76aaa1d8_ddc3_11ea_80cc_3c528213d836row29_col0\" class=\"data row29 col0\" >Multicollinearity Threshold </td>\n",
       "                        <td id=\"T_76aaa1d8_ddc3_11ea_80cc_3c528213d836row29_col1\" class=\"data row29 col1\" >None</td>\n",
       "            </tr>\n",
       "            <tr>\n",
       "                        <th id=\"T_76aaa1d8_ddc3_11ea_80cc_3c528213d836level0_row30\" class=\"row_heading level0 row30\" >30</th>\n",
       "                        <td id=\"T_76aaa1d8_ddc3_11ea_80cc_3c528213d836row30_col0\" class=\"data row30 col0\" >Clustering </td>\n",
       "                        <td id=\"T_76aaa1d8_ddc3_11ea_80cc_3c528213d836row30_col1\" class=\"data row30 col1\" >False</td>\n",
       "            </tr>\n",
       "            <tr>\n",
       "                        <th id=\"T_76aaa1d8_ddc3_11ea_80cc_3c528213d836level0_row31\" class=\"row_heading level0 row31\" >31</th>\n",
       "                        <td id=\"T_76aaa1d8_ddc3_11ea_80cc_3c528213d836row31_col0\" class=\"data row31 col0\" >Clustering Iteration </td>\n",
       "                        <td id=\"T_76aaa1d8_ddc3_11ea_80cc_3c528213d836row31_col1\" class=\"data row31 col1\" >None</td>\n",
       "            </tr>\n",
       "            <tr>\n",
       "                        <th id=\"T_76aaa1d8_ddc3_11ea_80cc_3c528213d836level0_row32\" class=\"row_heading level0 row32\" >32</th>\n",
       "                        <td id=\"T_76aaa1d8_ddc3_11ea_80cc_3c528213d836row32_col0\" class=\"data row32 col0\" >Polynomial Features </td>\n",
       "                        <td id=\"T_76aaa1d8_ddc3_11ea_80cc_3c528213d836row32_col1\" class=\"data row32 col1\" >False</td>\n",
       "            </tr>\n",
       "            <tr>\n",
       "                        <th id=\"T_76aaa1d8_ddc3_11ea_80cc_3c528213d836level0_row33\" class=\"row_heading level0 row33\" >33</th>\n",
       "                        <td id=\"T_76aaa1d8_ddc3_11ea_80cc_3c528213d836row33_col0\" class=\"data row33 col0\" >Polynomial Degree </td>\n",
       "                        <td id=\"T_76aaa1d8_ddc3_11ea_80cc_3c528213d836row33_col1\" class=\"data row33 col1\" >None</td>\n",
       "            </tr>\n",
       "            <tr>\n",
       "                        <th id=\"T_76aaa1d8_ddc3_11ea_80cc_3c528213d836level0_row34\" class=\"row_heading level0 row34\" >34</th>\n",
       "                        <td id=\"T_76aaa1d8_ddc3_11ea_80cc_3c528213d836row34_col0\" class=\"data row34 col0\" >Trignometry Features </td>\n",
       "                        <td id=\"T_76aaa1d8_ddc3_11ea_80cc_3c528213d836row34_col1\" class=\"data row34 col1\" >False</td>\n",
       "            </tr>\n",
       "            <tr>\n",
       "                        <th id=\"T_76aaa1d8_ddc3_11ea_80cc_3c528213d836level0_row35\" class=\"row_heading level0 row35\" >35</th>\n",
       "                        <td id=\"T_76aaa1d8_ddc3_11ea_80cc_3c528213d836row35_col0\" class=\"data row35 col0\" >Polynomial Threshold </td>\n",
       "                        <td id=\"T_76aaa1d8_ddc3_11ea_80cc_3c528213d836row35_col1\" class=\"data row35 col1\" >None</td>\n",
       "            </tr>\n",
       "            <tr>\n",
       "                        <th id=\"T_76aaa1d8_ddc3_11ea_80cc_3c528213d836level0_row36\" class=\"row_heading level0 row36\" >36</th>\n",
       "                        <td id=\"T_76aaa1d8_ddc3_11ea_80cc_3c528213d836row36_col0\" class=\"data row36 col0\" >Group Features </td>\n",
       "                        <td id=\"T_76aaa1d8_ddc3_11ea_80cc_3c528213d836row36_col1\" class=\"data row36 col1\" >False</td>\n",
       "            </tr>\n",
       "            <tr>\n",
       "                        <th id=\"T_76aaa1d8_ddc3_11ea_80cc_3c528213d836level0_row37\" class=\"row_heading level0 row37\" >37</th>\n",
       "                        <td id=\"T_76aaa1d8_ddc3_11ea_80cc_3c528213d836row37_col0\" class=\"data row37 col0\" >Feature Selection </td>\n",
       "                        <td id=\"T_76aaa1d8_ddc3_11ea_80cc_3c528213d836row37_col1\" class=\"data row37 col1\" >False</td>\n",
       "            </tr>\n",
       "            <tr>\n",
       "                        <th id=\"T_76aaa1d8_ddc3_11ea_80cc_3c528213d836level0_row38\" class=\"row_heading level0 row38\" >38</th>\n",
       "                        <td id=\"T_76aaa1d8_ddc3_11ea_80cc_3c528213d836row38_col0\" class=\"data row38 col0\" >Features Selection Threshold </td>\n",
       "                        <td id=\"T_76aaa1d8_ddc3_11ea_80cc_3c528213d836row38_col1\" class=\"data row38 col1\" >None</td>\n",
       "            </tr>\n",
       "            <tr>\n",
       "                        <th id=\"T_76aaa1d8_ddc3_11ea_80cc_3c528213d836level0_row39\" class=\"row_heading level0 row39\" >39</th>\n",
       "                        <td id=\"T_76aaa1d8_ddc3_11ea_80cc_3c528213d836row39_col0\" class=\"data row39 col0\" >Feature Interaction </td>\n",
       "                        <td id=\"T_76aaa1d8_ddc3_11ea_80cc_3c528213d836row39_col1\" class=\"data row39 col1\" >False</td>\n",
       "            </tr>\n",
       "            <tr>\n",
       "                        <th id=\"T_76aaa1d8_ddc3_11ea_80cc_3c528213d836level0_row40\" class=\"row_heading level0 row40\" >40</th>\n",
       "                        <td id=\"T_76aaa1d8_ddc3_11ea_80cc_3c528213d836row40_col0\" class=\"data row40 col0\" >Feature Ratio </td>\n",
       "                        <td id=\"T_76aaa1d8_ddc3_11ea_80cc_3c528213d836row40_col1\" class=\"data row40 col1\" >False</td>\n",
       "            </tr>\n",
       "            <tr>\n",
       "                        <th id=\"T_76aaa1d8_ddc3_11ea_80cc_3c528213d836level0_row41\" class=\"row_heading level0 row41\" >41</th>\n",
       "                        <td id=\"T_76aaa1d8_ddc3_11ea_80cc_3c528213d836row41_col0\" class=\"data row41 col0\" >Interaction Threshold </td>\n",
       "                        <td id=\"T_76aaa1d8_ddc3_11ea_80cc_3c528213d836row41_col1\" class=\"data row41 col1\" >None</td>\n",
       "            </tr>\n",
       "    </tbody></table>"
      ],
      "text/plain": [
       "<pandas.io.formats.style.Styler at 0x1b33b1d81c8>"
      ]
     },
     "metadata": {},
     "output_type": "display_data"
    }
   ],
   "source": [
    "exp = setup(data = df2, target = 'NUMBER_LAYERS', session_id=0, normalize=True, train_size=0.8) "
   ]
  },
  {
   "cell_type": "code",
   "execution_count": 54,
   "metadata": {},
   "outputs": [
    {
     "data": {
      "text/html": [
       "<style  type=\"text/css\" >\n",
       "    #T_9761c51e_ddc3_11ea_bce4_3c528213d836 th {\n",
       "          text-align: left;\n",
       "    }#T_9761c51e_ddc3_11ea_bce4_3c528213d836row0_col0,#T_9761c51e_ddc3_11ea_bce4_3c528213d836row0_col2,#T_9761c51e_ddc3_11ea_bce4_3c528213d836row0_col3,#T_9761c51e_ddc3_11ea_bce4_3c528213d836row0_col5,#T_9761c51e_ddc3_11ea_bce4_3c528213d836row0_col6,#T_9761c51e_ddc3_11ea_bce4_3c528213d836row1_col0,#T_9761c51e_ddc3_11ea_bce4_3c528213d836row1_col1,#T_9761c51e_ddc3_11ea_bce4_3c528213d836row1_col2,#T_9761c51e_ddc3_11ea_bce4_3c528213d836row1_col3,#T_9761c51e_ddc3_11ea_bce4_3c528213d836row1_col4,#T_9761c51e_ddc3_11ea_bce4_3c528213d836row2_col0,#T_9761c51e_ddc3_11ea_bce4_3c528213d836row2_col1,#T_9761c51e_ddc3_11ea_bce4_3c528213d836row2_col3,#T_9761c51e_ddc3_11ea_bce4_3c528213d836row2_col4,#T_9761c51e_ddc3_11ea_bce4_3c528213d836row2_col5,#T_9761c51e_ddc3_11ea_bce4_3c528213d836row2_col6,#T_9761c51e_ddc3_11ea_bce4_3c528213d836row3_col0,#T_9761c51e_ddc3_11ea_bce4_3c528213d836row3_col1,#T_9761c51e_ddc3_11ea_bce4_3c528213d836row3_col2,#T_9761c51e_ddc3_11ea_bce4_3c528213d836row3_col3,#T_9761c51e_ddc3_11ea_bce4_3c528213d836row3_col4,#T_9761c51e_ddc3_11ea_bce4_3c528213d836row3_col5,#T_9761c51e_ddc3_11ea_bce4_3c528213d836row3_col6,#T_9761c51e_ddc3_11ea_bce4_3c528213d836row4_col0,#T_9761c51e_ddc3_11ea_bce4_3c528213d836row4_col1,#T_9761c51e_ddc3_11ea_bce4_3c528213d836row4_col2,#T_9761c51e_ddc3_11ea_bce4_3c528213d836row4_col3,#T_9761c51e_ddc3_11ea_bce4_3c528213d836row4_col4,#T_9761c51e_ddc3_11ea_bce4_3c528213d836row4_col5,#T_9761c51e_ddc3_11ea_bce4_3c528213d836row4_col6,#T_9761c51e_ddc3_11ea_bce4_3c528213d836row5_col0,#T_9761c51e_ddc3_11ea_bce4_3c528213d836row5_col1,#T_9761c51e_ddc3_11ea_bce4_3c528213d836row5_col2,#T_9761c51e_ddc3_11ea_bce4_3c528213d836row5_col3,#T_9761c51e_ddc3_11ea_bce4_3c528213d836row5_col4,#T_9761c51e_ddc3_11ea_bce4_3c528213d836row5_col5,#T_9761c51e_ddc3_11ea_bce4_3c528213d836row5_col6,#T_9761c51e_ddc3_11ea_bce4_3c528213d836row6_col0,#T_9761c51e_ddc3_11ea_bce4_3c528213d836row6_col1,#T_9761c51e_ddc3_11ea_bce4_3c528213d836row6_col2,#T_9761c51e_ddc3_11ea_bce4_3c528213d836row6_col3,#T_9761c51e_ddc3_11ea_bce4_3c528213d836row6_col4,#T_9761c51e_ddc3_11ea_bce4_3c528213d836row6_col5,#T_9761c51e_ddc3_11ea_bce4_3c528213d836row6_col6,#T_9761c51e_ddc3_11ea_bce4_3c528213d836row7_col0,#T_9761c51e_ddc3_11ea_bce4_3c528213d836row7_col1,#T_9761c51e_ddc3_11ea_bce4_3c528213d836row7_col2,#T_9761c51e_ddc3_11ea_bce4_3c528213d836row7_col3,#T_9761c51e_ddc3_11ea_bce4_3c528213d836row7_col4,#T_9761c51e_ddc3_11ea_bce4_3c528213d836row7_col5,#T_9761c51e_ddc3_11ea_bce4_3c528213d836row7_col6,#T_9761c51e_ddc3_11ea_bce4_3c528213d836row8_col0,#T_9761c51e_ddc3_11ea_bce4_3c528213d836row8_col1,#T_9761c51e_ddc3_11ea_bce4_3c528213d836row8_col2,#T_9761c51e_ddc3_11ea_bce4_3c528213d836row8_col3,#T_9761c51e_ddc3_11ea_bce4_3c528213d836row8_col4,#T_9761c51e_ddc3_11ea_bce4_3c528213d836row8_col5,#T_9761c51e_ddc3_11ea_bce4_3c528213d836row8_col6,#T_9761c51e_ddc3_11ea_bce4_3c528213d836row9_col0,#T_9761c51e_ddc3_11ea_bce4_3c528213d836row9_col1,#T_9761c51e_ddc3_11ea_bce4_3c528213d836row9_col2,#T_9761c51e_ddc3_11ea_bce4_3c528213d836row9_col3,#T_9761c51e_ddc3_11ea_bce4_3c528213d836row9_col4,#T_9761c51e_ddc3_11ea_bce4_3c528213d836row9_col5,#T_9761c51e_ddc3_11ea_bce4_3c528213d836row9_col6,#T_9761c51e_ddc3_11ea_bce4_3c528213d836row10_col0,#T_9761c51e_ddc3_11ea_bce4_3c528213d836row10_col1,#T_9761c51e_ddc3_11ea_bce4_3c528213d836row10_col2,#T_9761c51e_ddc3_11ea_bce4_3c528213d836row10_col3,#T_9761c51e_ddc3_11ea_bce4_3c528213d836row10_col4,#T_9761c51e_ddc3_11ea_bce4_3c528213d836row10_col5,#T_9761c51e_ddc3_11ea_bce4_3c528213d836row10_col6,#T_9761c51e_ddc3_11ea_bce4_3c528213d836row11_col0,#T_9761c51e_ddc3_11ea_bce4_3c528213d836row11_col1,#T_9761c51e_ddc3_11ea_bce4_3c528213d836row11_col2,#T_9761c51e_ddc3_11ea_bce4_3c528213d836row11_col4,#T_9761c51e_ddc3_11ea_bce4_3c528213d836row11_col5,#T_9761c51e_ddc3_11ea_bce4_3c528213d836row11_col6,#T_9761c51e_ddc3_11ea_bce4_3c528213d836row12_col0,#T_9761c51e_ddc3_11ea_bce4_3c528213d836row12_col1,#T_9761c51e_ddc3_11ea_bce4_3c528213d836row12_col2,#T_9761c51e_ddc3_11ea_bce4_3c528213d836row12_col3,#T_9761c51e_ddc3_11ea_bce4_3c528213d836row12_col4,#T_9761c51e_ddc3_11ea_bce4_3c528213d836row12_col5,#T_9761c51e_ddc3_11ea_bce4_3c528213d836row12_col6,#T_9761c51e_ddc3_11ea_bce4_3c528213d836row13_col0,#T_9761c51e_ddc3_11ea_bce4_3c528213d836row13_col1,#T_9761c51e_ddc3_11ea_bce4_3c528213d836row13_col2,#T_9761c51e_ddc3_11ea_bce4_3c528213d836row13_col3,#T_9761c51e_ddc3_11ea_bce4_3c528213d836row13_col4,#T_9761c51e_ddc3_11ea_bce4_3c528213d836row13_col5,#T_9761c51e_ddc3_11ea_bce4_3c528213d836row13_col6,#T_9761c51e_ddc3_11ea_bce4_3c528213d836row14_col0,#T_9761c51e_ddc3_11ea_bce4_3c528213d836row14_col1,#T_9761c51e_ddc3_11ea_bce4_3c528213d836row14_col2,#T_9761c51e_ddc3_11ea_bce4_3c528213d836row14_col3,#T_9761c51e_ddc3_11ea_bce4_3c528213d836row14_col4,#T_9761c51e_ddc3_11ea_bce4_3c528213d836row14_col5,#T_9761c51e_ddc3_11ea_bce4_3c528213d836row14_col6{\n",
       "            text-align:  left;\n",
       "        }#T_9761c51e_ddc3_11ea_bce4_3c528213d836row0_col1,#T_9761c51e_ddc3_11ea_bce4_3c528213d836row0_col4,#T_9761c51e_ddc3_11ea_bce4_3c528213d836row1_col5,#T_9761c51e_ddc3_11ea_bce4_3c528213d836row1_col6,#T_9761c51e_ddc3_11ea_bce4_3c528213d836row2_col2,#T_9761c51e_ddc3_11ea_bce4_3c528213d836row11_col3{\n",
       "            background-color:  yellow;\n",
       "            text-align:  left;\n",
       "        }</style><table id=\"T_9761c51e_ddc3_11ea_bce4_3c528213d836\" ><thead>    <tr>        <th class=\"blank level0\" ></th>        <th class=\"col_heading level0 col0\" >Model</th>        <th class=\"col_heading level0 col1\" >Accuracy</th>        <th class=\"col_heading level0 col2\" >AUC</th>        <th class=\"col_heading level0 col3\" >Recall</th>        <th class=\"col_heading level0 col4\" >Prec.</th>        <th class=\"col_heading level0 col5\" >F1</th>        <th class=\"col_heading level0 col6\" >Kappa</th>    </tr></thead><tbody>\n",
       "                <tr>\n",
       "                        <th id=\"T_9761c51e_ddc3_11ea_bce4_3c528213d836level0_row0\" class=\"row_heading level0 row0\" >0</th>\n",
       "                        <td id=\"T_9761c51e_ddc3_11ea_bce4_3c528213d836row0_col0\" class=\"data row0 col0\" >Extreme Gradient Boosting</td>\n",
       "                        <td id=\"T_9761c51e_ddc3_11ea_bce4_3c528213d836row0_col1\" class=\"data row0 col1\" >0.957700</td>\n",
       "                        <td id=\"T_9761c51e_ddc3_11ea_bce4_3c528213d836row0_col2\" class=\"data row0 col2\" >0.962100</td>\n",
       "                        <td id=\"T_9761c51e_ddc3_11ea_bce4_3c528213d836row0_col3\" class=\"data row0 col3\" >0.417600</td>\n",
       "                        <td id=\"T_9761c51e_ddc3_11ea_bce4_3c528213d836row0_col4\" class=\"data row0 col4\" >0.691000</td>\n",
       "                        <td id=\"T_9761c51e_ddc3_11ea_bce4_3c528213d836row0_col5\" class=\"data row0 col5\" >0.514500</td>\n",
       "                        <td id=\"T_9761c51e_ddc3_11ea_bce4_3c528213d836row0_col6\" class=\"data row0 col6\" >0.494400</td>\n",
       "            </tr>\n",
       "            <tr>\n",
       "                        <th id=\"T_9761c51e_ddc3_11ea_bce4_3c528213d836level0_row1\" class=\"row_heading level0 row1\" >1</th>\n",
       "                        <td id=\"T_9761c51e_ddc3_11ea_bce4_3c528213d836row1_col0\" class=\"data row1 col0\" >Light Gradient Boosting Machine</td>\n",
       "                        <td id=\"T_9761c51e_ddc3_11ea_bce4_3c528213d836row1_col1\" class=\"data row1 col1\" >0.955400</td>\n",
       "                        <td id=\"T_9761c51e_ddc3_11ea_bce4_3c528213d836row1_col2\" class=\"data row1 col2\" >0.957200</td>\n",
       "                        <td id=\"T_9761c51e_ddc3_11ea_bce4_3c528213d836row1_col3\" class=\"data row1 col3\" >0.447100</td>\n",
       "                        <td id=\"T_9761c51e_ddc3_11ea_bce4_3c528213d836row1_col4\" class=\"data row1 col4\" >0.651800</td>\n",
       "                        <td id=\"T_9761c51e_ddc3_11ea_bce4_3c528213d836row1_col5\" class=\"data row1 col5\" >0.523900</td>\n",
       "                        <td id=\"T_9761c51e_ddc3_11ea_bce4_3c528213d836row1_col6\" class=\"data row1 col6\" >0.501600</td>\n",
       "            </tr>\n",
       "            <tr>\n",
       "                        <th id=\"T_9761c51e_ddc3_11ea_bce4_3c528213d836level0_row2\" class=\"row_heading level0 row2\" >2</th>\n",
       "                        <td id=\"T_9761c51e_ddc3_11ea_bce4_3c528213d836row2_col0\" class=\"data row2 col0\" >CatBoost Classifier</td>\n",
       "                        <td id=\"T_9761c51e_ddc3_11ea_bce4_3c528213d836row2_col1\" class=\"data row2 col1\" >0.955400</td>\n",
       "                        <td id=\"T_9761c51e_ddc3_11ea_bce4_3c528213d836row2_col2\" class=\"data row2 col2\" >0.962800</td>\n",
       "                        <td id=\"T_9761c51e_ddc3_11ea_bce4_3c528213d836row2_col3\" class=\"data row2 col3\" >0.441200</td>\n",
       "                        <td id=\"T_9761c51e_ddc3_11ea_bce4_3c528213d836row2_col4\" class=\"data row2 col4\" >0.652800</td>\n",
       "                        <td id=\"T_9761c51e_ddc3_11ea_bce4_3c528213d836row2_col5\" class=\"data row2 col5\" >0.522800</td>\n",
       "                        <td id=\"T_9761c51e_ddc3_11ea_bce4_3c528213d836row2_col6\" class=\"data row2 col6\" >0.500400</td>\n",
       "            </tr>\n",
       "            <tr>\n",
       "                        <th id=\"T_9761c51e_ddc3_11ea_bce4_3c528213d836level0_row3\" class=\"row_heading level0 row3\" >3</th>\n",
       "                        <td id=\"T_9761c51e_ddc3_11ea_bce4_3c528213d836row3_col0\" class=\"data row3 col0\" >Gradient Boosting Classifier</td>\n",
       "                        <td id=\"T_9761c51e_ddc3_11ea_bce4_3c528213d836row3_col1\" class=\"data row3 col1\" >0.955100</td>\n",
       "                        <td id=\"T_9761c51e_ddc3_11ea_bce4_3c528213d836row3_col2\" class=\"data row3 col2\" >0.953300</td>\n",
       "                        <td id=\"T_9761c51e_ddc3_11ea_bce4_3c528213d836row3_col3\" class=\"data row3 col3\" >0.400000</td>\n",
       "                        <td id=\"T_9761c51e_ddc3_11ea_bce4_3c528213d836row3_col4\" class=\"data row3 col4\" >0.646200</td>\n",
       "                        <td id=\"T_9761c51e_ddc3_11ea_bce4_3c528213d836row3_col5\" class=\"data row3 col5\" >0.488600</td>\n",
       "                        <td id=\"T_9761c51e_ddc3_11ea_bce4_3c528213d836row3_col6\" class=\"data row3 col6\" >0.467200</td>\n",
       "            </tr>\n",
       "            <tr>\n",
       "                        <th id=\"T_9761c51e_ddc3_11ea_bce4_3c528213d836level0_row4\" class=\"row_heading level0 row4\" >4</th>\n",
       "                        <td id=\"T_9761c51e_ddc3_11ea_bce4_3c528213d836row4_col0\" class=\"data row4 col0\" >Extra Trees Classifier</td>\n",
       "                        <td id=\"T_9761c51e_ddc3_11ea_bce4_3c528213d836row4_col1\" class=\"data row4 col1\" >0.955100</td>\n",
       "                        <td id=\"T_9761c51e_ddc3_11ea_bce4_3c528213d836row4_col2\" class=\"data row4 col2\" >0.954600</td>\n",
       "                        <td id=\"T_9761c51e_ddc3_11ea_bce4_3c528213d836row4_col3\" class=\"data row4 col3\" >0.388200</td>\n",
       "                        <td id=\"T_9761c51e_ddc3_11ea_bce4_3c528213d836row4_col4\" class=\"data row4 col4\" >0.664300</td>\n",
       "                        <td id=\"T_9761c51e_ddc3_11ea_bce4_3c528213d836row4_col5\" class=\"data row4 col5\" >0.483000</td>\n",
       "                        <td id=\"T_9761c51e_ddc3_11ea_bce4_3c528213d836row4_col6\" class=\"data row4 col6\" >0.461700</td>\n",
       "            </tr>\n",
       "            <tr>\n",
       "                        <th id=\"T_9761c51e_ddc3_11ea_bce4_3c528213d836level0_row5\" class=\"row_heading level0 row5\" >5</th>\n",
       "                        <td id=\"T_9761c51e_ddc3_11ea_bce4_3c528213d836row5_col0\" class=\"data row5 col0\" >Random Forest Classifier</td>\n",
       "                        <td id=\"T_9761c51e_ddc3_11ea_bce4_3c528213d836row5_col1\" class=\"data row5 col1\" >0.954800</td>\n",
       "                        <td id=\"T_9761c51e_ddc3_11ea_bce4_3c528213d836row5_col2\" class=\"data row5 col2\" >0.912600</td>\n",
       "                        <td id=\"T_9761c51e_ddc3_11ea_bce4_3c528213d836row5_col3\" class=\"data row5 col3\" >0.376500</td>\n",
       "                        <td id=\"T_9761c51e_ddc3_11ea_bce4_3c528213d836row5_col4\" class=\"data row5 col4\" >0.667000</td>\n",
       "                        <td id=\"T_9761c51e_ddc3_11ea_bce4_3c528213d836row5_col5\" class=\"data row5 col5\" >0.470400</td>\n",
       "                        <td id=\"T_9761c51e_ddc3_11ea_bce4_3c528213d836row5_col6\" class=\"data row5 col6\" >0.449400</td>\n",
       "            </tr>\n",
       "            <tr>\n",
       "                        <th id=\"T_9761c51e_ddc3_11ea_bce4_3c528213d836level0_row6\" class=\"row_heading level0 row6\" >6</th>\n",
       "                        <td id=\"T_9761c51e_ddc3_11ea_bce4_3c528213d836row6_col0\" class=\"data row6 col0\" >K Neighbors Classifier</td>\n",
       "                        <td id=\"T_9761c51e_ddc3_11ea_bce4_3c528213d836row6_col1\" class=\"data row6 col1\" >0.953800</td>\n",
       "                        <td id=\"T_9761c51e_ddc3_11ea_bce4_3c528213d836row6_col2\" class=\"data row6 col2\" >0.866000</td>\n",
       "                        <td id=\"T_9761c51e_ddc3_11ea_bce4_3c528213d836row6_col3\" class=\"data row6 col3\" >0.429400</td>\n",
       "                        <td id=\"T_9761c51e_ddc3_11ea_bce4_3c528213d836row6_col4\" class=\"data row6 col4\" >0.630000</td>\n",
       "                        <td id=\"T_9761c51e_ddc3_11ea_bce4_3c528213d836row6_col5\" class=\"data row6 col5\" >0.505300</td>\n",
       "                        <td id=\"T_9761c51e_ddc3_11ea_bce4_3c528213d836row6_col6\" class=\"data row6 col6\" >0.482200</td>\n",
       "            </tr>\n",
       "            <tr>\n",
       "                        <th id=\"T_9761c51e_ddc3_11ea_bce4_3c528213d836level0_row7\" class=\"row_heading level0 row7\" >7</th>\n",
       "                        <td id=\"T_9761c51e_ddc3_11ea_bce4_3c528213d836row7_col0\" class=\"data row7 col0\" >Ada Boost Classifier</td>\n",
       "                        <td id=\"T_9761c51e_ddc3_11ea_bce4_3c528213d836row7_col1\" class=\"data row7 col1\" >0.952800</td>\n",
       "                        <td id=\"T_9761c51e_ddc3_11ea_bce4_3c528213d836row7_col2\" class=\"data row7 col2\" >0.946000</td>\n",
       "                        <td id=\"T_9761c51e_ddc3_11ea_bce4_3c528213d836row7_col3\" class=\"data row7 col3\" >0.376500</td>\n",
       "                        <td id=\"T_9761c51e_ddc3_11ea_bce4_3c528213d836row7_col4\" class=\"data row7 col4\" >0.629800</td>\n",
       "                        <td id=\"T_9761c51e_ddc3_11ea_bce4_3c528213d836row7_col5\" class=\"data row7 col5\" >0.465800</td>\n",
       "                        <td id=\"T_9761c51e_ddc3_11ea_bce4_3c528213d836row7_col6\" class=\"data row7 col6\" >0.443100</td>\n",
       "            </tr>\n",
       "            <tr>\n",
       "                        <th id=\"T_9761c51e_ddc3_11ea_bce4_3c528213d836level0_row8\" class=\"row_heading level0 row8\" >8</th>\n",
       "                        <td id=\"T_9761c51e_ddc3_11ea_bce4_3c528213d836row8_col0\" class=\"data row8 col0\" >Naive Bayes</td>\n",
       "                        <td id=\"T_9761c51e_ddc3_11ea_bce4_3c528213d836row8_col1\" class=\"data row8 col1\" >0.952200</td>\n",
       "                        <td id=\"T_9761c51e_ddc3_11ea_bce4_3c528213d836row8_col2\" class=\"data row8 col2\" >0.932700</td>\n",
       "                        <td id=\"T_9761c51e_ddc3_11ea_bce4_3c528213d836row8_col3\" class=\"data row8 col3\" >0.400000</td>\n",
       "                        <td id=\"T_9761c51e_ddc3_11ea_bce4_3c528213d836row8_col4\" class=\"data row8 col4\" >0.601300</td>\n",
       "                        <td id=\"T_9761c51e_ddc3_11ea_bce4_3c528213d836row8_col5\" class=\"data row8 col5\" >0.472600</td>\n",
       "                        <td id=\"T_9761c51e_ddc3_11ea_bce4_3c528213d836row8_col6\" class=\"data row8 col6\" >0.449300</td>\n",
       "            </tr>\n",
       "            <tr>\n",
       "                        <th id=\"T_9761c51e_ddc3_11ea_bce4_3c528213d836level0_row9\" class=\"row_heading level0 row9\" >9</th>\n",
       "                        <td id=\"T_9761c51e_ddc3_11ea_bce4_3c528213d836row9_col0\" class=\"data row9 col0\" >Quadratic Discriminant Analysis</td>\n",
       "                        <td id=\"T_9761c51e_ddc3_11ea_bce4_3c528213d836row9_col1\" class=\"data row9 col1\" >0.950900</td>\n",
       "                        <td id=\"T_9761c51e_ddc3_11ea_bce4_3c528213d836row9_col2\" class=\"data row9 col2\" >0.872800</td>\n",
       "                        <td id=\"T_9761c51e_ddc3_11ea_bce4_3c528213d836row9_col3\" class=\"data row9 col3\" >0.482400</td>\n",
       "                        <td id=\"T_9761c51e_ddc3_11ea_bce4_3c528213d836row9_col4\" class=\"data row9 col4\" >0.557800</td>\n",
       "                        <td id=\"T_9761c51e_ddc3_11ea_bce4_3c528213d836row9_col5\" class=\"data row9 col5\" >0.512300</td>\n",
       "                        <td id=\"T_9761c51e_ddc3_11ea_bce4_3c528213d836row9_col6\" class=\"data row9 col6\" >0.487000</td>\n",
       "            </tr>\n",
       "            <tr>\n",
       "                        <th id=\"T_9761c51e_ddc3_11ea_bce4_3c528213d836level0_row10\" class=\"row_heading level0 row10\" >10</th>\n",
       "                        <td id=\"T_9761c51e_ddc3_11ea_bce4_3c528213d836row10_col0\" class=\"data row10 col0\" >Logistic Regression</td>\n",
       "                        <td id=\"T_9761c51e_ddc3_11ea_bce4_3c528213d836row10_col1\" class=\"data row10 col1\" >0.950200</td>\n",
       "                        <td id=\"T_9761c51e_ddc3_11ea_bce4_3c528213d836row10_col2\" class=\"data row10 col2\" >0.848200</td>\n",
       "                        <td id=\"T_9761c51e_ddc3_11ea_bce4_3c528213d836row10_col3\" class=\"data row10 col3\" >0.264700</td>\n",
       "                        <td id=\"T_9761c51e_ddc3_11ea_bce4_3c528213d836row10_col4\" class=\"data row10 col4\" >0.608500</td>\n",
       "                        <td id=\"T_9761c51e_ddc3_11ea_bce4_3c528213d836row10_col5\" class=\"data row10 col5\" >0.362800</td>\n",
       "                        <td id=\"T_9761c51e_ddc3_11ea_bce4_3c528213d836row10_col6\" class=\"data row10 col6\" >0.341900</td>\n",
       "            </tr>\n",
       "            <tr>\n",
       "                        <th id=\"T_9761c51e_ddc3_11ea_bce4_3c528213d836level0_row11\" class=\"row_heading level0 row11\" >11</th>\n",
       "                        <td id=\"T_9761c51e_ddc3_11ea_bce4_3c528213d836row11_col0\" class=\"data row11 col0\" >Decision Tree Classifier</td>\n",
       "                        <td id=\"T_9761c51e_ddc3_11ea_bce4_3c528213d836row11_col1\" class=\"data row11 col1\" >0.946300</td>\n",
       "                        <td id=\"T_9761c51e_ddc3_11ea_bce4_3c528213d836row11_col2\" class=\"data row11 col2\" >0.752800</td>\n",
       "                        <td id=\"T_9761c51e_ddc3_11ea_bce4_3c528213d836row11_col3\" class=\"data row11 col3\" >0.535300</td>\n",
       "                        <td id=\"T_9761c51e_ddc3_11ea_bce4_3c528213d836row11_col4\" class=\"data row11 col4\" >0.510100</td>\n",
       "                        <td id=\"T_9761c51e_ddc3_11ea_bce4_3c528213d836row11_col5\" class=\"data row11 col5\" >0.520300</td>\n",
       "                        <td id=\"T_9761c51e_ddc3_11ea_bce4_3c528213d836row11_col6\" class=\"data row11 col6\" >0.492000</td>\n",
       "            </tr>\n",
       "            <tr>\n",
       "                        <th id=\"T_9761c51e_ddc3_11ea_bce4_3c528213d836level0_row12\" class=\"row_heading level0 row12\" >12</th>\n",
       "                        <td id=\"T_9761c51e_ddc3_11ea_bce4_3c528213d836row12_col0\" class=\"data row12 col0\" >SVM - Linear Kernel</td>\n",
       "                        <td id=\"T_9761c51e_ddc3_11ea_bce4_3c528213d836row12_col1\" class=\"data row12 col1\" >0.946000</td>\n",
       "                        <td id=\"T_9761c51e_ddc3_11ea_bce4_3c528213d836row12_col2\" class=\"data row12 col2\" >0.000000</td>\n",
       "                        <td id=\"T_9761c51e_ddc3_11ea_bce4_3c528213d836row12_col3\" class=\"data row12 col3\" >0.217600</td>\n",
       "                        <td id=\"T_9761c51e_ddc3_11ea_bce4_3c528213d836row12_col4\" class=\"data row12 col4\" >0.376300</td>\n",
       "                        <td id=\"T_9761c51e_ddc3_11ea_bce4_3c528213d836row12_col5\" class=\"data row12 col5\" >0.259000</td>\n",
       "                        <td id=\"T_9761c51e_ddc3_11ea_bce4_3c528213d836row12_col6\" class=\"data row12 col6\" >0.242400</td>\n",
       "            </tr>\n",
       "            <tr>\n",
       "                        <th id=\"T_9761c51e_ddc3_11ea_bce4_3c528213d836level0_row13\" class=\"row_heading level0 row13\" >13</th>\n",
       "                        <td id=\"T_9761c51e_ddc3_11ea_bce4_3c528213d836row13_col0\" class=\"data row13 col0\" >Linear Discriminant Analysis</td>\n",
       "                        <td id=\"T_9761c51e_ddc3_11ea_bce4_3c528213d836row13_col1\" class=\"data row13 col1\" >0.944100</td>\n",
       "                        <td id=\"T_9761c51e_ddc3_11ea_bce4_3c528213d836row13_col2\" class=\"data row13 col2\" >0.875600</td>\n",
       "                        <td id=\"T_9761c51e_ddc3_11ea_bce4_3c528213d836row13_col3\" class=\"data row13 col3\" >0.488200</td>\n",
       "                        <td id=\"T_9761c51e_ddc3_11ea_bce4_3c528213d836row13_col4\" class=\"data row13 col4\" >0.494700</td>\n",
       "                        <td id=\"T_9761c51e_ddc3_11ea_bce4_3c528213d836row13_col5\" class=\"data row13 col5\" >0.488600</td>\n",
       "                        <td id=\"T_9761c51e_ddc3_11ea_bce4_3c528213d836row13_col6\" class=\"data row13 col6\" >0.459100</td>\n",
       "            </tr>\n",
       "            <tr>\n",
       "                        <th id=\"T_9761c51e_ddc3_11ea_bce4_3c528213d836level0_row14\" class=\"row_heading level0 row14\" >14</th>\n",
       "                        <td id=\"T_9761c51e_ddc3_11ea_bce4_3c528213d836row14_col0\" class=\"data row14 col0\" >Ridge Classifier</td>\n",
       "                        <td id=\"T_9761c51e_ddc3_11ea_bce4_3c528213d836row14_col1\" class=\"data row14 col1\" >0.943100</td>\n",
       "                        <td id=\"T_9761c51e_ddc3_11ea_bce4_3c528213d836row14_col2\" class=\"data row14 col2\" >0.000000</td>\n",
       "                        <td id=\"T_9761c51e_ddc3_11ea_bce4_3c528213d836row14_col3\" class=\"data row14 col3\" >0.076500</td>\n",
       "                        <td id=\"T_9761c51e_ddc3_11ea_bce4_3c528213d836row14_col4\" class=\"data row14 col4\" >0.375000</td>\n",
       "                        <td id=\"T_9761c51e_ddc3_11ea_bce4_3c528213d836row14_col5\" class=\"data row14 col5\" >0.125100</td>\n",
       "                        <td id=\"T_9761c51e_ddc3_11ea_bce4_3c528213d836row14_col6\" class=\"data row14 col6\" >0.110800</td>\n",
       "            </tr>\n",
       "    </tbody></table>"
      ],
      "text/plain": [
       "<pandas.io.formats.style.Styler at 0x1b33bdd1f48>"
      ]
     },
     "execution_count": 54,
     "metadata": {},
     "output_type": "execute_result"
    }
   ],
   "source": [
    "compare_models()"
   ]
  },
  {
   "cell_type": "markdown",
   "metadata": {},
   "source": [
    "### Using XGBoost (Scikit-Learn)"
   ]
  },
  {
   "cell_type": "markdown",
   "metadata": {},
   "source": [
    "### Using RandomSearchCV"
   ]
  },
  {
   "cell_type": "code",
   "execution_count": null,
   "metadata": {},
   "outputs": [],
   "source": []
  },
  {
   "cell_type": "code",
   "execution_count": 55,
   "metadata": {},
   "outputs": [],
   "source": [
    "model = XGBClassifier(random_state=0, n_estimators=100, objective='binary:logistic')"
   ]
  },
  {
   "cell_type": "code",
   "execution_count": 56,
   "metadata": {},
   "outputs": [],
   "source": [
    "parameters = {'max_depth': np.arange(3,10,1),\n",
    "              'learning rate': np.arange(0.05,0.3,0.03),\n",
    "              'n_estimators':np.arange(100,1000,100),\n",
    "              'min_child_weight': np.arange(1,4,1),\n",
    "              'gamma':np.arange(0,50,2),\n",
    "              'subsample':np.arange(0.5,0.9,0.1),\n",
    "              'colsample_bytree':np.arange(0.5,0.9,0.1)\n",
    "             }"
   ]
  },
  {
   "cell_type": "code",
   "execution_count": 57,
   "metadata": {},
   "outputs": [],
   "source": [
    "randm = RandomizedSearchCV(estimator=model, param_distributions = parameters, cv = 5, n_iter = 10, \n",
    "                           n_jobs=-1, scoring='accuracy')"
   ]
  },
  {
   "cell_type": "code",
   "execution_count": 58,
   "metadata": {},
   "outputs": [
    {
     "data": {
      "text/plain": [
       "RandomizedSearchCV(cv=5, estimator=XGBClassifier(), n_jobs=-1,\n",
       "                   param_distributions={'colsample_bytree': array([0.5, 0.6, 0.7, 0.8]),\n",
       "                                        'gamma': array([ 0,  2,  4,  6,  8, 10, 12, 14, 16, 18, 20, 22, 24, 26, 28, 30, 32,\n",
       "       34, 36, 38, 40, 42, 44, 46, 48]),\n",
       "                                        'learning rate': array([0.05, 0.08, 0.11, 0.14, 0.17, 0.2 , 0.23, 0.26, 0.29]),\n",
       "                                        'max_depth': array([3, 4, 5, 6, 7, 8, 9]),\n",
       "                                        'min_child_weight': array([1, 2, 3]),\n",
       "                                        'n_estimators': array([100, 200, 300, 400, 500, 600, 700, 800, 900]),\n",
       "                                        'subsample': array([0.5, 0.6, 0.7, 0.8])},\n",
       "                   scoring='accuracy')"
      ]
     },
     "execution_count": 58,
     "metadata": {},
     "output_type": "execute_result"
    }
   ],
   "source": [
    "randm.fit(new_X, new_y)"
   ]
  },
  {
   "cell_type": "code",
   "execution_count": 59,
   "metadata": {},
   "outputs": [
    {
     "data": {
      "text/plain": [
       "XGBClassifier(colsample_bytree=0.7, gamma=4, learning rate=0.22999999999999998,\n",
       "              max_depth=4, n_estimators=300, subsample=0.7999999999999999)"
      ]
     },
     "execution_count": 59,
     "metadata": {},
     "output_type": "execute_result"
    }
   ],
   "source": [
    "randm.best_estimator_"
   ]
  },
  {
   "cell_type": "code",
   "execution_count": 60,
   "metadata": {},
   "outputs": [
    {
     "data": {
      "text/plain": [
       "0.9701191986182287"
      ]
     },
     "execution_count": 60,
     "metadata": {},
     "output_type": "execute_result"
    }
   ],
   "source": [
    "randm.best_score_"
   ]
  },
  {
   "cell_type": "code",
   "execution_count": 61,
   "metadata": {},
   "outputs": [
    {
     "data": {
      "text/plain": [
       "{'subsample': 0.7999999999999999,\n",
       " 'n_estimators': 300,\n",
       " 'min_child_weight': 1,\n",
       " 'max_depth': 4,\n",
       " 'learning rate': 0.22999999999999998,\n",
       " 'gamma': 4,\n",
       " 'colsample_bytree': 0.7}"
      ]
     },
     "execution_count": 61,
     "metadata": {},
     "output_type": "execute_result"
    }
   ],
   "source": [
    "randm.best_params_"
   ]
  },
  {
   "cell_type": "code",
   "execution_count": 62,
   "metadata": {},
   "outputs": [],
   "source": [
    "xgbmodel = XGBClassifier(random_state=0, n_estimators=300, objective='binary:logistic',min_child_weight=1,\n",
    "                        learning_rate=0.23, max_depth=9, gamma=4, colsample_bytree=0.7,subsample=0.8)"
   ]
  },
  {
   "cell_type": "code",
   "execution_count": 63,
   "metadata": {},
   "outputs": [
    {
     "name": "stdout",
     "output_type": "stream",
     "text": [
      "[0]\tvalidation_0-error:0.068823\n",
      "Will train until validation_0-error hasn't improved in 10 rounds.\n",
      "[1]\tvalidation_0-error:0.048864\n",
      "[2]\tvalidation_0-error:0.045423\n",
      "[3]\tvalidation_0-error:0.028906\n",
      "[4]\tvalidation_0-error:0.03097\n",
      "[5]\tvalidation_0-error:0.033723\n",
      "[6]\tvalidation_0-error:0.031659\n",
      "[7]\tvalidation_0-error:0.028906\n",
      "[8]\tvalidation_0-error:0.026841\n",
      "[9]\tvalidation_0-error:0.028217\n",
      "[10]\tvalidation_0-error:0.027529\n",
      "[11]\tvalidation_0-error:0.029594\n",
      "[12]\tvalidation_0-error:0.029594\n",
      "[13]\tvalidation_0-error:0.029594\n",
      "[14]\tvalidation_0-error:0.027529\n",
      "[15]\tvalidation_0-error:0.026841\n",
      "[16]\tvalidation_0-error:0.025465\n",
      "[17]\tvalidation_0-error:0.025465\n",
      "[18]\tvalidation_0-error:0.025465\n",
      "[19]\tvalidation_0-error:0.0234\n",
      "[20]\tvalidation_0-error:0.0234\n",
      "[21]\tvalidation_0-error:0.022023\n",
      "[22]\tvalidation_0-error:0.020647\n",
      "[23]\tvalidation_0-error:0.019959\n",
      "[24]\tvalidation_0-error:0.020647\n",
      "[25]\tvalidation_0-error:0.020647\n",
      "[26]\tvalidation_0-error:0.022023\n",
      "[27]\tvalidation_0-error:0.019959\n",
      "[28]\tvalidation_0-error:0.01927\n",
      "[29]\tvalidation_0-error:0.018582\n",
      "[30]\tvalidation_0-error:0.017894\n",
      "[31]\tvalidation_0-error:0.017894\n",
      "[32]\tvalidation_0-error:0.017894\n",
      "[33]\tvalidation_0-error:0.017894\n",
      "[34]\tvalidation_0-error:0.017894\n",
      "[35]\tvalidation_0-error:0.017206\n",
      "[36]\tvalidation_0-error:0.017206\n",
      "[37]\tvalidation_0-error:0.017206\n",
      "[38]\tvalidation_0-error:0.017206\n",
      "[39]\tvalidation_0-error:0.017206\n",
      "[40]\tvalidation_0-error:0.017206\n",
      "[41]\tvalidation_0-error:0.017206\n",
      "[42]\tvalidation_0-error:0.017206\n",
      "[43]\tvalidation_0-error:0.017206\n",
      "[44]\tvalidation_0-error:0.018582\n",
      "[45]\tvalidation_0-error:0.018582\n",
      "Stopping. Best iteration:\n",
      "[35]\tvalidation_0-error:0.017206\n",
      "\n"
     ]
    },
    {
     "data": {
      "text/plain": [
       "XGBClassifier(colsample_bytree=0.7, gamma=4, learning_rate=0.23, max_depth=9,\n",
       "              n_estimators=300, subsample=0.8)"
      ]
     },
     "execution_count": 63,
     "metadata": {},
     "output_type": "execute_result"
    }
   ],
   "source": [
    "xgbmodel.fit(X_train_scaled,y_train,eval_set=[(X_test_scaled,y_test)],eval_metric='error',early_stopping_rounds=10)"
   ]
  },
  {
   "cell_type": "code",
   "execution_count": 64,
   "metadata": {},
   "outputs": [],
   "source": [
    "y_pred = xgbmodel.predict(X_test_scaled)"
   ]
  },
  {
   "cell_type": "code",
   "execution_count": 65,
   "metadata": {},
   "outputs": [
    {
     "data": {
      "text/plain": [
       "array([1, 0, 0, ..., 0, 0, 0], dtype=int64)"
      ]
     },
     "execution_count": 65,
     "metadata": {},
     "output_type": "execute_result"
    }
   ],
   "source": [
    "y_pred"
   ]
  },
  {
   "cell_type": "markdown",
   "metadata": {},
   "source": [
    "### Model Evaluation"
   ]
  },
  {
   "cell_type": "code",
   "execution_count": 66,
   "metadata": {},
   "outputs": [
    {
     "data": {
      "text/plain": [
       "array([[681,  25],\n",
       "       [  0, 747]], dtype=int64)"
      ]
     },
     "execution_count": 66,
     "metadata": {},
     "output_type": "execute_result"
    }
   ],
   "source": [
    "cm = confusion_matrix(y_test,y_pred)\n",
    "cm"
   ]
  },
  {
   "cell_type": "code",
   "execution_count": 67,
   "metadata": {},
   "outputs": [
    {
     "data": {
      "image/png": "[encoded data removed]",
      "text/plain": [
       "<Figure size 720x360 with 2 Axes>"
      ]
     },
     "metadata": {},
     "output_type": "display_data"
    }
   ],
   "source": [
    "fig , ax = plt.subplots(figsize=(10,5))\n",
    "sns.heatmap(cm, annot=True,fmt='.4g',linewidths=2, cmap='viridis')\n",
    "plt.ylabel('True label')\n",
    "plt.xlabel('Predicted label')\n",
    "plt.show()"
   ]
  },
  {
   "cell_type": "code",
   "execution_count": 68,
   "metadata": {},
   "outputs": [
    {
     "data": {
      "image/png": "[encoded data removed]",
      "text/plain": [
       "<Figure size 720x360 with 2 Axes>"
      ]
     },
     "metadata": {},
     "output_type": "display_data"
    }
   ],
   "source": [
    "fig , ax = plt.subplots(figsize=(10,5))\n",
    "plot_confusion_matrix(xgbmodel,X_test_scaled,y_test,values_format='.4g',ax=ax)\n",
    "plt.show()"
   ]
  },
  {
   "cell_type": "code",
   "execution_count": 69,
   "metadata": {},
   "outputs": [
    {
     "name": "stdout",
     "output_type": "stream",
     "text": [
      "              precision    recall  f1-score   support\n",
      "\n",
      "           0       1.00      0.96      0.98       706\n",
      "           1       0.97      1.00      0.98       747\n",
      "\n",
      "    accuracy                           0.98      1453\n",
      "   macro avg       0.98      0.98      0.98      1453\n",
      "weighted avg       0.98      0.98      0.98      1453\n",
      "\n"
     ]
    }
   ],
   "source": [
    "print(classification_report(y_test,y_pred))"
   ]
  },
  {
   "cell_type": "code",
   "execution_count": 70,
   "metadata": {},
   "outputs": [
    {
     "data": {
      "image/png": "[encoded data removed]",
      "text/plain": [
       "<Figure size 432x288 with 1 Axes>"
      ]
     },
     "metadata": {},
     "output_type": "display_data"
    }
   ],
   "source": [
    "plot_roc_curve(xgbmodel,X_test,y_test)\n",
    "plt.show()"
   ]
  },
  {
   "cell_type": "markdown",
   "metadata": {},
   "source": [
    "### Available importance_types = [‘weight’, ‘gain’, ‘cover’, ‘total_gain’, ‘total_cover’]"
   ]
  },
  {
   "cell_type": "code",
   "execution_count": 71,
   "metadata": {},
   "outputs": [
    {
     "data": {
      "text/plain": [
       "Index(['LATITUDE_CIRCLE_IMAGE', 'LONGITUDE_CIRCLE_IMAGE', 'DIAM_CIRCLE_IMAGE', 'DEPTH_RIMFLOOR_TOPOG'], dtype='object')"
      ]
     },
     "execution_count": 71,
     "metadata": {},
     "output_type": "execute_result"
    }
   ],
   "source": [
    "X.columns"
   ]
  },
  {
   "cell_type": "code",
   "execution_count": 72,
   "metadata": {},
   "outputs": [],
   "source": [
    "xgbmodel.get_booster().feature_names = ['LATITUDE_CIRCLE_IMAGE', 'LONGITUDE_CIRCLE_IMAGE', 'DIAM_CIRCLE_IMAGE', 'DEPTH_RIMFLOOR_TOPOG']"
   ]
  },
  {
   "cell_type": "code",
   "execution_count": 73,
   "metadata": {},
   "outputs": [
    {
     "data": {
      "image/png": "[encoded data removed]",
      "text/plain": [
       "<Figure size 1440x720 with 1 Axes>"
      ]
     },
     "metadata": {},
     "output_type": "display_data"
    }
   ],
   "source": [
    "fig, ax = plt.subplots(figsize=(20,10))\n",
    "xgb.plot_importance(xgbmodel.get_booster(),ax=ax)\n",
    "plt.show()"
   ]
  },
  {
   "cell_type": "markdown",
   "metadata": {},
   "source": [
    "### Cross-Validation"
   ]
  },
  {
   "cell_type": "code",
   "execution_count": 76,
   "metadata": {},
   "outputs": [
    {
     "name": "stderr",
     "output_type": "stream",
     "text": [
      "[Parallel(n_jobs=1)]: Using backend SequentialBackend with 1 concurrent workers.\n",
      "[Parallel(n_jobs=1)]: Done   5 out of   5 | elapsed:    4.6s finished\n"
     ]
    }
   ],
   "source": [
    "cv = cross_val_score(xgbmodel,X,y,cv=5,verbose=1,scoring='accuracy')"
   ]
  },
  {
   "cell_type": "code",
   "execution_count": 77,
   "metadata": {},
   "outputs": [
    {
     "data": {
      "text/plain": [
       "0.9588866764195926"
      ]
     },
     "execution_count": 77,
     "metadata": {},
     "output_type": "execute_result"
    }
   ],
   "source": [
    "cv.mean()"
   ]
  }
 ],
 "metadata": {
  "kernelspec": {
   "display_name": "Python 3",
   "language": "python",
   "name": "python3"
  },
  "language_info": {
   "codemirror_mode": {
    "name": "ipython",
    "version": 3
   },
   "file_extension": ".py",
   "mimetype": "text/x-python",
   "name": "python",
   "nbconvert_exporter": "python",
   "pygments_lexer": "ipython3",
   "version": "3.7.6"
  }
 },
 "nbformat": 4,
 "nbformat_minor": 4
}
