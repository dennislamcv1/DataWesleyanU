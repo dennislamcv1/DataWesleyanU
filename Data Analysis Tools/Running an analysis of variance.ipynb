{
 "cells": [
  {
   "cell_type": "markdown",
   "metadata": {},
   "source": [
    "## Data Analysis Template"
   ]
  },
  {
   "cell_type": "markdown",
   "metadata": {},
   "source": [
    "***"
   ]
  },
  {
   "cell_type": "markdown",
   "metadata": {},
   "source": [
    "### Markdown Guides"
   ]
  },
  {
   "cell_type": "markdown",
   "metadata": {},
   "source": [
    "> This is a blockquote.\n",
    "\n",
    "Some of these words *are emphasized*.\n",
    "\n",
    "Use two asterisks for **strong emphasis**.\n",
    "\n",
    "*   Another item in the list.\n",
    "\n",
    "This is an [example link](http://example.com/).\n",
    "\n",
    "$x = x + y$\n",
    "\n",
    "[text to appear as link](#linkhandle)\n",
    "\n",
    "Images inline\n",
    "![image](https://imgbbb.com/images/2019/12/18/Screenshot-2019-12-18-at-12.55.36-PM.png)"
   ]
  },
  {
   "cell_type": "markdown",
   "metadata": {},
   "source": [
    "## Project Description"
   ]
  },
  {
   "cell_type": "markdown",
   "metadata": {},
   "source": [
    "The assignments for this course start where the Data Management and Visualization course  assignments left off. Now that you have selected a data set and research question, managed your variables of interest and visualized their relationship graphically, we are ready to test those relationships statistically. We have included the codebooks and data sets from Data Management and Visualization for your convenience. The first assignment deals with analysis of variance. Analysis of variance assesses whether the means of two or more groups are statistically different from each other. This analysis is appropriate whenever you want to compare the means (quantitative variables) of groups (categorical variables). The null hypothesis is that there is no difference in the mean of the quantitative variable across groups (categorical variable), while the alternative is that there is a difference. Note that if your research question does not include one quantitative variable, you can use one from your data set just to get some practice with the tool. If your research question does not include a categorical variable, you can categorize one that is quantitative."
   ]
  },
  {
   "cell_type": "markdown",
   "metadata": {},
   "source": [
    "## Data Dictionary"
   ]
  },
  {
   "cell_type": "markdown",
   "metadata": {},
   "source": [
    "| Field          | Description                                                                           |\n",
    "|----------------|---------------------------------------------------------------------------------------|\n",
    "| incomeperperson|\t2010 Gross Domestic Product per capita in constant 2000 US$.|\n",
    "| alcconsumption|\t2008 alcohol consumption per adult (age 15+), litres|\n",
    "| armedforcesrate|\tArmed forces personnel (% of total labor force)|\n",
    "| breastcancerper100TH|\t2002 breast cancer new cases per 100,000 female|\n",
    "| co2emissions|\t2006 cumulative CO2 emission (metric tons)|\n",
    "| femaleemployrate|\t2007 female employees age 15+ (% of population)|\n",
    "| employrate|\t2007 total employees age 15+ (% of population)|\n",
    "| HIVrate|\t2009 estimated HIV Prevalence %|\n",
    "| Internetuserate|\t2010 Internet users (per 100 people)|\n",
    "| lifeexpectancy|\t2011 life expectancy at birth (years)|\n",
    "| oilperperson|\t2010 oil Consumption per capita (tonnes per year and person)|\n",
    "| polityscore|\t2009 Democracy score (Polity)|\n",
    "| relectricperperson|\t2008 residential electricity consumption, per person (kWh)|\n",
    "| suicideper100TH|\t2005 Suicide, age adjusted, per 100 000|\n",
    "| urbanrate|\t2008 urban population (% of total)|"
   ]
  },
  {
   "cell_type": "markdown",
   "metadata": {},
   "source": [
    "## Summary"
   ]
  },
  {
   "cell_type": "markdown",
   "metadata": {},
   "source": [
    "Run an analysis of variance.\n",
    "\n",
    "You will need to analyze and interpret post hoc paired comparisons in instances where your original statistical test was significant, and you were examining more than two groups (i.e. more than two levels of a categorical, explanatory variable). "
   ]
  },
  {
   "cell_type": "markdown",
   "metadata": {},
   "source": [
    "**P value is 0.109 > 0.05, hence cannot reject null hypothesis.**"
   ]
  },
  {
   "cell_type": "markdown",
   "metadata": {},
   "source": [
    "### Import Libraries"
   ]
  },
  {
   "cell_type": "code",
   "execution_count": 1,
   "metadata": {},
   "outputs": [
    {
     "data": {
      "application/javascript": [
       "IPython.notebook.set_autosave_interval(60000)"
      ]
     },
     "metadata": {},
     "output_type": "display_data"
    },
    {
     "name": "stdout",
     "output_type": "stream",
     "text": [
      "Autosaving every 60 seconds\n"
     ]
    }
   ],
   "source": [
    "import numpy as np\n",
    "import pandas as pd\n",
    "import matplotlib.pyplot as plt\n",
    "import seaborn as sns\n",
    "import statsmodels.api as sm\n",
    "from statsmodels.formula.api import ols\n",
    "import datetime\n",
    "from datetime import datetime, timedelta\n",
    "import scipy.stats\n",
    "import pandas_profiling\n",
    "from pandas_profiling import ProfileReport\n",
    "\n",
    "\n",
    "%matplotlib inline\n",
    "#sets the default autosave frequency in seconds\n",
    "%autosave 60 \n",
    "sns.set_style('dark')\n",
    "sns.set(font_scale=1.2)\n",
    "\n",
    "plt.rc('axes', titlesize=9)\n",
    "plt.rc('axes', labelsize=14)\n",
    "plt.rc('xtick', labelsize=12)\n",
    "plt.rc('ytick', labelsize=12)\n",
    "\n",
    "import warnings\n",
    "warnings.filterwarnings('ignore')\n",
    "\n",
    "# Use Folium library to plot values on a map.\n",
    "#import folium\n",
    "\n",
    "# Use Feature-Engine library\n",
    "#import feature_engine\n",
    "#import feature_engine.missing_data_imputers as mdi\n",
    "#from feature_engine.outlier_removers import Winsorizer\n",
    "#from feature_engine import categorical_encoders as ce\n",
    "#from feature_engine.discretisation import EqualWidthDiscretiser, EqualFrequencyDiscretiser, DecisionTreeDiscretiser\n",
    "#from feature_engine.encoding import OrdinalEncoder\n",
    "\n",
    "pd.set_option('display.max_columns',None)\n",
    "#pd.set_option('display.max_rows',None)\n",
    "pd.set_option('display.width', 1000)\n",
    "pd.option_context('float_format','{:.2f}'.format)\n",
    "\n",
    "np.random.seed(0)\n",
    "np.set_printoptions(suppress=True)"
   ]
  },
  {
   "cell_type": "code",
   "execution_count": 2,
   "metadata": {},
   "outputs": [],
   "source": [
    "df = pd.read_csv(\"gapminderfinal5.csv\")"
   ]
  },
  {
   "cell_type": "code",
   "execution_count": 3,
   "metadata": {},
   "outputs": [
    {
     "data": {
      "text/html": [
       "<div>\n",
       "<style scoped>\n",
       "    .dataframe tbody tr th:only-of-type {\n",
       "        vertical-align: middle;\n",
       "    }\n",
       "\n",
       "    .dataframe tbody tr th {\n",
       "        vertical-align: top;\n",
       "    }\n",
       "\n",
       "    .dataframe thead th {\n",
       "        text-align: right;\n",
       "    }\n",
       "</style>\n",
       "<table border=\"1\" class=\"dataframe\">\n",
       "  <thead>\n",
       "    <tr style=\"text-align: right;\">\n",
       "      <th></th>\n",
       "      <th>incomeperperson</th>\n",
       "      <th>alcconsumption</th>\n",
       "      <th>armedforcesrate</th>\n",
       "      <th>breastcancerper100th</th>\n",
       "      <th>co2emissions</th>\n",
       "      <th>femaleemployrate</th>\n",
       "      <th>hivrate</th>\n",
       "      <th>internetuserate</th>\n",
       "      <th>lifeexpectancy</th>\n",
       "      <th>oilperperson</th>\n",
       "      <th>polityscore</th>\n",
       "      <th>relectricperperson</th>\n",
       "      <th>suicideper100th</th>\n",
       "      <th>employrate</th>\n",
       "      <th>urbanrate</th>\n",
       "      <th>demoscorecat</th>\n",
       "      <th>co2cat</th>\n",
       "      <th>incomecat</th>\n",
       "      <th>alccat</th>\n",
       "      <th>electricat</th>\n",
       "    </tr>\n",
       "  </thead>\n",
       "  <tbody>\n",
       "    <tr>\n",
       "      <th>0</th>\n",
       "      <td>8740.97</td>\n",
       "      <td>0.03</td>\n",
       "      <td>0.57</td>\n",
       "      <td>27</td>\n",
       "      <td>76.0</td>\n",
       "      <td>25.60</td>\n",
       "      <td>1.94</td>\n",
       "      <td>4</td>\n",
       "      <td>49</td>\n",
       "      <td>1.48</td>\n",
       "      <td>0</td>\n",
       "      <td>1173.18</td>\n",
       "      <td>7</td>\n",
       "      <td>55.70</td>\n",
       "      <td>24.04</td>\n",
       "      <td>1</td>\n",
       "      <td>1</td>\n",
       "      <td>3</td>\n",
       "      <td>0</td>\n",
       "      <td>0.155844</td>\n",
       "    </tr>\n",
       "    <tr>\n",
       "      <th>1</th>\n",
       "      <td>1915.00</td>\n",
       "      <td>7.29</td>\n",
       "      <td>1.02</td>\n",
       "      <td>57</td>\n",
       "      <td>224.0</td>\n",
       "      <td>42.10</td>\n",
       "      <td>1.94</td>\n",
       "      <td>45</td>\n",
       "      <td>77</td>\n",
       "      <td>1.48</td>\n",
       "      <td>9</td>\n",
       "      <td>636.34</td>\n",
       "      <td>8</td>\n",
       "      <td>51.40</td>\n",
       "      <td>46.72</td>\n",
       "      <td>3</td>\n",
       "      <td>2</td>\n",
       "      <td>1</td>\n",
       "      <td>3</td>\n",
       "      <td>0.101449</td>\n",
       "    </tr>\n",
       "    <tr>\n",
       "      <th>2</th>\n",
       "      <td>2231.99</td>\n",
       "      <td>0.69</td>\n",
       "      <td>2.31</td>\n",
       "      <td>24</td>\n",
       "      <td>2932.0</td>\n",
       "      <td>31.70</td>\n",
       "      <td>0.10</td>\n",
       "      <td>12</td>\n",
       "      <td>73</td>\n",
       "      <td>0.42</td>\n",
       "      <td>2</td>\n",
       "      <td>590.51</td>\n",
       "      <td>5</td>\n",
       "      <td>50.50</td>\n",
       "      <td>65.22</td>\n",
       "      <td>2</td>\n",
       "      <td>3</td>\n",
       "      <td>2</td>\n",
       "      <td>0</td>\n",
       "      <td>0.101449</td>\n",
       "    </tr>\n",
       "    <tr>\n",
       "      <th>3</th>\n",
       "      <td>21943.34</td>\n",
       "      <td>10.17</td>\n",
       "      <td>1.44</td>\n",
       "      <td>37</td>\n",
       "      <td>5033.0</td>\n",
       "      <td>47.55</td>\n",
       "      <td>1.94</td>\n",
       "      <td>81</td>\n",
       "      <td>70</td>\n",
       "      <td>1.48</td>\n",
       "      <td>4</td>\n",
       "      <td>1173.18</td>\n",
       "      <td>5</td>\n",
       "      <td>58.64</td>\n",
       "      <td>88.92</td>\n",
       "      <td>2</td>\n",
       "      <td>4</td>\n",
       "      <td>4</td>\n",
       "      <td>4</td>\n",
       "      <td>0.155844</td>\n",
       "    </tr>\n",
       "    <tr>\n",
       "      <th>4</th>\n",
       "      <td>1381.00</td>\n",
       "      <td>5.57</td>\n",
       "      <td>1.46</td>\n",
       "      <td>23</td>\n",
       "      <td>248.0</td>\n",
       "      <td>69.40</td>\n",
       "      <td>2.00</td>\n",
       "      <td>10</td>\n",
       "      <td>51</td>\n",
       "      <td>1.48</td>\n",
       "      <td>-2</td>\n",
       "      <td>173.00</td>\n",
       "      <td>15</td>\n",
       "      <td>75.70</td>\n",
       "      <td>56.70</td>\n",
       "      <td>1</td>\n",
       "      <td>2</td>\n",
       "      <td>1</td>\n",
       "      <td>2</td>\n",
       "      <td>0.101449</td>\n",
       "    </tr>\n",
       "    <tr>\n",
       "      <th>...</th>\n",
       "      <td>...</td>\n",
       "      <td>...</td>\n",
       "      <td>...</td>\n",
       "      <td>...</td>\n",
       "      <td>...</td>\n",
       "      <td>...</td>\n",
       "      <td>...</td>\n",
       "      <td>...</td>\n",
       "      <td>...</td>\n",
       "      <td>...</td>\n",
       "      <td>...</td>\n",
       "      <td>...</td>\n",
       "      <td>...</td>\n",
       "      <td>...</td>\n",
       "      <td>...</td>\n",
       "      <td>...</td>\n",
       "      <td>...</td>\n",
       "      <td>...</td>\n",
       "      <td>...</td>\n",
       "      <td>...</td>\n",
       "    </tr>\n",
       "    <tr>\n",
       "      <th>208</th>\n",
       "      <td>722.81</td>\n",
       "      <td>3.91</td>\n",
       "      <td>1.09</td>\n",
       "      <td>16</td>\n",
       "      <td>1425.0</td>\n",
       "      <td>67.60</td>\n",
       "      <td>0.40</td>\n",
       "      <td>28</td>\n",
       "      <td>75</td>\n",
       "      <td>1.48</td>\n",
       "      <td>-7</td>\n",
       "      <td>302.73</td>\n",
       "      <td>12</td>\n",
       "      <td>71.00</td>\n",
       "      <td>27.84</td>\n",
       "      <td>0</td>\n",
       "      <td>3</td>\n",
       "      <td>1</td>\n",
       "      <td>1</td>\n",
       "      <td>0.101449</td>\n",
       "    </tr>\n",
       "    <tr>\n",
       "      <th>209</th>\n",
       "      <td>8740.97</td>\n",
       "      <td>6.69</td>\n",
       "      <td>5.94</td>\n",
       "      <td>37</td>\n",
       "      <td>14.0</td>\n",
       "      <td>11.30</td>\n",
       "      <td>1.94</td>\n",
       "      <td>36</td>\n",
       "      <td>73</td>\n",
       "      <td>1.48</td>\n",
       "      <td>4</td>\n",
       "      <td>1173.18</td>\n",
       "      <td>10</td>\n",
       "      <td>32.00</td>\n",
       "      <td>71.90</td>\n",
       "      <td>2</td>\n",
       "      <td>0</td>\n",
       "      <td>3</td>\n",
       "      <td>2</td>\n",
       "      <td>0.155844</td>\n",
       "    </tr>\n",
       "    <tr>\n",
       "      <th>210</th>\n",
       "      <td>610.36</td>\n",
       "      <td>0.20</td>\n",
       "      <td>2.32</td>\n",
       "      <td>35</td>\n",
       "      <td>235.0</td>\n",
       "      <td>20.30</td>\n",
       "      <td>1.94</td>\n",
       "      <td>12</td>\n",
       "      <td>65</td>\n",
       "      <td>1.48</td>\n",
       "      <td>-2</td>\n",
       "      <td>130.06</td>\n",
       "      <td>6</td>\n",
       "      <td>39.00</td>\n",
       "      <td>30.64</td>\n",
       "      <td>1</td>\n",
       "      <td>2</td>\n",
       "      <td>0</td>\n",
       "      <td>0</td>\n",
       "      <td>0.101449</td>\n",
       "    </tr>\n",
       "    <tr>\n",
       "      <th>211</th>\n",
       "      <td>432.23</td>\n",
       "      <td>3.56</td>\n",
       "      <td>0.34</td>\n",
       "      <td>13</td>\n",
       "      <td>132.0</td>\n",
       "      <td>53.50</td>\n",
       "      <td>13.50</td>\n",
       "      <td>10</td>\n",
       "      <td>49</td>\n",
       "      <td>1.48</td>\n",
       "      <td>7</td>\n",
       "      <td>168.62</td>\n",
       "      <td>12</td>\n",
       "      <td>61.00</td>\n",
       "      <td>35.42</td>\n",
       "      <td>3</td>\n",
       "      <td>2</td>\n",
       "      <td>0</td>\n",
       "      <td>1</td>\n",
       "      <td>0.101449</td>\n",
       "    </tr>\n",
       "    <tr>\n",
       "      <th>212</th>\n",
       "      <td>320.77</td>\n",
       "      <td>4.96</td>\n",
       "      <td>1.03</td>\n",
       "      <td>19</td>\n",
       "      <td>590.0</td>\n",
       "      <td>58.10</td>\n",
       "      <td>14.30</td>\n",
       "      <td>12</td>\n",
       "      <td>51</td>\n",
       "      <td>1.48</td>\n",
       "      <td>1</td>\n",
       "      <td>297.88</td>\n",
       "      <td>14</td>\n",
       "      <td>66.80</td>\n",
       "      <td>37.34</td>\n",
       "      <td>2</td>\n",
       "      <td>3</td>\n",
       "      <td>0</td>\n",
       "      <td>1</td>\n",
       "      <td>0.101449</td>\n",
       "    </tr>\n",
       "  </tbody>\n",
       "</table>\n",
       "<p>213 rows × 20 columns</p>\n",
       "</div>"
      ],
      "text/plain": [
       "     incomeperperson  alcconsumption  armedforcesrate  breastcancerper100th  co2emissions  femaleemployrate  hivrate  internetuserate  lifeexpectancy  oilperperson  polityscore  relectricperperson  suicideper100th  employrate  urbanrate  demoscorecat  co2cat  incomecat  alccat  electricat\n",
       "0            8740.97            0.03             0.57                    27          76.0             25.60     1.94                4              49          1.48            0             1173.18                7       55.70      24.04             1       1          3       0    0.155844\n",
       "1            1915.00            7.29             1.02                    57         224.0             42.10     1.94               45              77          1.48            9              636.34                8       51.40      46.72             3       2          1       3    0.101449\n",
       "2            2231.99            0.69             2.31                    24        2932.0             31.70     0.10               12              73          0.42            2              590.51                5       50.50      65.22             2       3          2       0    0.101449\n",
       "3           21943.34           10.17             1.44                    37        5033.0             47.55     1.94               81              70          1.48            4             1173.18                5       58.64      88.92             2       4          4       4    0.155844\n",
       "4            1381.00            5.57             1.46                    23         248.0             69.40     2.00               10              51          1.48           -2              173.00               15       75.70      56.70             1       2          1       2    0.101449\n",
       "..               ...             ...              ...                   ...           ...               ...      ...              ...             ...           ...          ...                 ...              ...         ...        ...           ...     ...        ...     ...         ...\n",
       "208           722.81            3.91             1.09                    16        1425.0             67.60     0.40               28              75          1.48           -7              302.73               12       71.00      27.84             0       3          1       1    0.101449\n",
       "209          8740.97            6.69             5.94                    37          14.0             11.30     1.94               36              73          1.48            4             1173.18               10       32.00      71.90             2       0          3       2    0.155844\n",
       "210           610.36            0.20             2.32                    35         235.0             20.30     1.94               12              65          1.48           -2              130.06                6       39.00      30.64             1       2          0       0    0.101449\n",
       "211           432.23            3.56             0.34                    13         132.0             53.50    13.50               10              49          1.48            7              168.62               12       61.00      35.42             3       2          0       1    0.101449\n",
       "212           320.77            4.96             1.03                    19         590.0             58.10    14.30               12              51          1.48            1              297.88               14       66.80      37.34             2       3          0       1    0.101449\n",
       "\n",
       "[213 rows x 20 columns]"
      ]
     },
     "execution_count": 3,
     "metadata": {},
     "output_type": "execute_result"
    }
   ],
   "source": [
    "df"
   ]
  },
  {
   "cell_type": "markdown",
   "metadata": {},
   "source": [
    "## Exploratory Data Analysis"
   ]
  },
  {
   "cell_type": "code",
   "execution_count": 4,
   "metadata": {},
   "outputs": [
    {
     "name": "stdout",
     "output_type": "stream",
     "text": [
      "<class 'pandas.core.frame.DataFrame'>\n",
      "RangeIndex: 213 entries, 0 to 212\n",
      "Data columns (total 20 columns):\n",
      " #   Column                Non-Null Count  Dtype  \n",
      "---  ------                --------------  -----  \n",
      " 0   incomeperperson       213 non-null    float64\n",
      " 1   alcconsumption        213 non-null    float64\n",
      " 2   armedforcesrate       213 non-null    float64\n",
      " 3   breastcancerper100th  213 non-null    int64  \n",
      " 4   co2emissions          213 non-null    float64\n",
      " 5   femaleemployrate      213 non-null    float64\n",
      " 6   hivrate               213 non-null    float64\n",
      " 7   internetuserate       213 non-null    int64  \n",
      " 8   lifeexpectancy        213 non-null    int64  \n",
      " 9   oilperperson          213 non-null    float64\n",
      " 10  polityscore           213 non-null    int64  \n",
      " 11  relectricperperson    213 non-null    float64\n",
      " 12  suicideper100th       213 non-null    int64  \n",
      " 13  employrate            213 non-null    float64\n",
      " 14  urbanrate             213 non-null    float64\n",
      " 15  demoscorecat          213 non-null    int64  \n",
      " 16  co2cat                213 non-null    int64  \n",
      " 17  incomecat             213 non-null    int64  \n",
      " 18  alccat                213 non-null    int64  \n",
      " 19  electricat            213 non-null    float64\n",
      "dtypes: float64(11), int64(9)\n",
      "memory usage: 33.4 KB\n"
     ]
    }
   ],
   "source": [
    "df.info()"
   ]
  },
  {
   "cell_type": "code",
   "execution_count": 5,
   "metadata": {},
   "outputs": [
    {
     "data": {
      "text/html": [
       "<div>\n",
       "<style scoped>\n",
       "    .dataframe tbody tr th:only-of-type {\n",
       "        vertical-align: middle;\n",
       "    }\n",
       "\n",
       "    .dataframe tbody tr th {\n",
       "        vertical-align: top;\n",
       "    }\n",
       "\n",
       "    .dataframe thead th {\n",
       "        text-align: right;\n",
       "    }\n",
       "</style>\n",
       "<table border=\"1\" class=\"dataframe\">\n",
       "  <thead>\n",
       "    <tr style=\"text-align: right;\">\n",
       "      <th></th>\n",
       "      <th>incomeperperson</th>\n",
       "      <th>alcconsumption</th>\n",
       "      <th>armedforcesrate</th>\n",
       "      <th>breastcancerper100th</th>\n",
       "      <th>co2emissions</th>\n",
       "      <th>femaleemployrate</th>\n",
       "      <th>hivrate</th>\n",
       "      <th>internetuserate</th>\n",
       "      <th>lifeexpectancy</th>\n",
       "      <th>oilperperson</th>\n",
       "      <th>polityscore</th>\n",
       "      <th>relectricperperson</th>\n",
       "      <th>suicideper100th</th>\n",
       "      <th>employrate</th>\n",
       "      <th>urbanrate</th>\n",
       "      <th>demoscorecat</th>\n",
       "      <th>co2cat</th>\n",
       "      <th>incomecat</th>\n",
       "      <th>alccat</th>\n",
       "      <th>electricat</th>\n",
       "    </tr>\n",
       "  </thead>\n",
       "  <tbody>\n",
       "    <tr>\n",
       "      <th>count</th>\n",
       "      <td>213.000000</td>\n",
       "      <td>213.000000</td>\n",
       "      <td>213.000000</td>\n",
       "      <td>213.000000</td>\n",
       "      <td>213.000000</td>\n",
       "      <td>213.000000</td>\n",
       "      <td>213.000000</td>\n",
       "      <td>213.000000</td>\n",
       "      <td>213.000000</td>\n",
       "      <td>213.000000</td>\n",
       "      <td>213.000000</td>\n",
       "      <td>213.000000</td>\n",
       "      <td>213.000000</td>\n",
       "      <td>213.00000</td>\n",
       "      <td>213.000000</td>\n",
       "      <td>213.000000</td>\n",
       "      <td>213.000000</td>\n",
       "      <td>213.000000</td>\n",
       "      <td>213.000000</td>\n",
       "      <td>213.000000</td>\n",
       "    </tr>\n",
       "    <tr>\n",
       "      <th>mean</th>\n",
       "      <td>8740.966338</td>\n",
       "      <td>6.689484</td>\n",
       "      <td>1.443052</td>\n",
       "      <td>37.323944</td>\n",
       "      <td>5033.244131</td>\n",
       "      <td>47.549531</td>\n",
       "      <td>1.936854</td>\n",
       "      <td>35.685446</td>\n",
       "      <td>69.751174</td>\n",
       "      <td>1.481362</td>\n",
       "      <td>3.765258</td>\n",
       "      <td>1173.179390</td>\n",
       "      <td>9.685446</td>\n",
       "      <td>58.63662</td>\n",
       "      <td>56.769390</td>\n",
       "      <td>2.061033</td>\n",
       "      <td>2.000000</td>\n",
       "      <td>2.000000</td>\n",
       "      <td>1.990610</td>\n",
       "      <td>0.126761</td>\n",
       "    </tr>\n",
       "    <tr>\n",
       "      <th>std</th>\n",
       "      <td>13466.912542</td>\n",
       "      <td>4.589345</td>\n",
       "      <td>1.498692</td>\n",
       "      <td>20.443277</td>\n",
       "      <td>24936.503422</td>\n",
       "      <td>13.364005</td>\n",
       "      <td>3.632102</td>\n",
       "      <td>26.418255</td>\n",
       "      <td>9.241981</td>\n",
       "      <td>0.987116</td>\n",
       "      <td>5.487663</td>\n",
       "      <td>1341.777091</td>\n",
       "      <td>5.955782</td>\n",
       "      <td>9.61196</td>\n",
       "      <td>23.275759</td>\n",
       "      <td>1.009872</td>\n",
       "      <td>1.420869</td>\n",
       "      <td>1.420869</td>\n",
       "      <td>1.417514</td>\n",
       "      <td>0.076255</td>\n",
       "    </tr>\n",
       "    <tr>\n",
       "      <th>min</th>\n",
       "      <td>103.780000</td>\n",
       "      <td>0.030000</td>\n",
       "      <td>0.000000</td>\n",
       "      <td>4.000000</td>\n",
       "      <td>0.000000</td>\n",
       "      <td>11.300000</td>\n",
       "      <td>0.060000</td>\n",
       "      <td>0.000000</td>\n",
       "      <td>48.000000</td>\n",
       "      <td>0.030000</td>\n",
       "      <td>-10.000000</td>\n",
       "      <td>0.000000</td>\n",
       "      <td>0.000000</td>\n",
       "      <td>32.00000</td>\n",
       "      <td>10.400000</td>\n",
       "      <td>0.000000</td>\n",
       "      <td>0.000000</td>\n",
       "      <td>0.000000</td>\n",
       "      <td>0.000000</td>\n",
       "      <td>0.000000</td>\n",
       "    </tr>\n",
       "    <tr>\n",
       "      <th>25%</th>\n",
       "      <td>952.830000</td>\n",
       "      <td>3.230000</td>\n",
       "      <td>0.570000</td>\n",
       "      <td>23.000000</td>\n",
       "      <td>38.000000</td>\n",
       "      <td>40.300000</td>\n",
       "      <td>0.200000</td>\n",
       "      <td>12.000000</td>\n",
       "      <td>65.000000</td>\n",
       "      <td>1.480000</td>\n",
       "      <td>1.000000</td>\n",
       "      <td>431.630000</td>\n",
       "      <td>6.000000</td>\n",
       "      <td>53.50000</td>\n",
       "      <td>37.340000</td>\n",
       "      <td>2.000000</td>\n",
       "      <td>1.000000</td>\n",
       "      <td>1.000000</td>\n",
       "      <td>1.000000</td>\n",
       "      <td>0.101449</td>\n",
       "    </tr>\n",
       "    <tr>\n",
       "      <th>50%</th>\n",
       "      <td>3665.350000</td>\n",
       "      <td>6.690000</td>\n",
       "      <td>1.210000</td>\n",
       "      <td>35.000000</td>\n",
       "      <td>235.000000</td>\n",
       "      <td>47.550000</td>\n",
       "      <td>1.200000</td>\n",
       "      <td>36.000000</td>\n",
       "      <td>72.000000</td>\n",
       "      <td>1.480000</td>\n",
       "      <td>4.000000</td>\n",
       "      <td>1173.180000</td>\n",
       "      <td>10.000000</td>\n",
       "      <td>58.64000</td>\n",
       "      <td>56.770000</td>\n",
       "      <td>2.000000</td>\n",
       "      <td>2.000000</td>\n",
       "      <td>2.000000</td>\n",
       "      <td>2.000000</td>\n",
       "      <td>0.101449</td>\n",
       "    </tr>\n",
       "    <tr>\n",
       "      <th>75%</th>\n",
       "      <td>8740.970000</td>\n",
       "      <td>9.500000</td>\n",
       "      <td>1.440000</td>\n",
       "      <td>44.000000</td>\n",
       "      <td>2422.000000</td>\n",
       "      <td>53.600000</td>\n",
       "      <td>1.940000</td>\n",
       "      <td>52.000000</td>\n",
       "      <td>76.000000</td>\n",
       "      <td>1.480000</td>\n",
       "      <td>8.000000</td>\n",
       "      <td>1173.180000</td>\n",
       "      <td>12.000000</td>\n",
       "      <td>63.70000</td>\n",
       "      <td>73.500000</td>\n",
       "      <td>3.000000</td>\n",
       "      <td>3.000000</td>\n",
       "      <td>3.000000</td>\n",
       "      <td>3.000000</td>\n",
       "      <td>0.155844</td>\n",
       "    </tr>\n",
       "    <tr>\n",
       "      <th>max</th>\n",
       "      <td>105147.440000</td>\n",
       "      <td>23.010000</td>\n",
       "      <td>10.640000</td>\n",
       "      <td>101.000000</td>\n",
       "      <td>334221.000000</td>\n",
       "      <td>83.300000</td>\n",
       "      <td>25.900000</td>\n",
       "      <td>96.000000</td>\n",
       "      <td>83.000000</td>\n",
       "      <td>12.230000</td>\n",
       "      <td>10.000000</td>\n",
       "      <td>11154.760000</td>\n",
       "      <td>36.000000</td>\n",
       "      <td>83.20000</td>\n",
       "      <td>100.000000</td>\n",
       "      <td>3.000000</td>\n",
       "      <td>4.000000</td>\n",
       "      <td>4.000000</td>\n",
       "      <td>4.000000</td>\n",
       "      <td>0.291667</td>\n",
       "    </tr>\n",
       "  </tbody>\n",
       "</table>\n",
       "</div>"
      ],
      "text/plain": [
       "       incomeperperson  alcconsumption  armedforcesrate  breastcancerper100th   co2emissions  femaleemployrate     hivrate  internetuserate  lifeexpectancy  oilperperson  polityscore  relectricperperson  suicideper100th  employrate   urbanrate  demoscorecat      co2cat   incomecat      alccat  electricat\n",
       "count       213.000000      213.000000       213.000000            213.000000     213.000000        213.000000  213.000000       213.000000      213.000000    213.000000   213.000000          213.000000       213.000000   213.00000  213.000000    213.000000  213.000000  213.000000  213.000000  213.000000\n",
       "mean       8740.966338        6.689484         1.443052             37.323944    5033.244131         47.549531    1.936854        35.685446       69.751174      1.481362     3.765258         1173.179390         9.685446    58.63662   56.769390      2.061033    2.000000    2.000000    1.990610    0.126761\n",
       "std       13466.912542        4.589345         1.498692             20.443277   24936.503422         13.364005    3.632102        26.418255        9.241981      0.987116     5.487663         1341.777091         5.955782     9.61196   23.275759      1.009872    1.420869    1.420869    1.417514    0.076255\n",
       "min         103.780000        0.030000         0.000000              4.000000       0.000000         11.300000    0.060000         0.000000       48.000000      0.030000   -10.000000            0.000000         0.000000    32.00000   10.400000      0.000000    0.000000    0.000000    0.000000    0.000000\n",
       "25%         952.830000        3.230000         0.570000             23.000000      38.000000         40.300000    0.200000        12.000000       65.000000      1.480000     1.000000          431.630000         6.000000    53.50000   37.340000      2.000000    1.000000    1.000000    1.000000    0.101449\n",
       "50%        3665.350000        6.690000         1.210000             35.000000     235.000000         47.550000    1.200000        36.000000       72.000000      1.480000     4.000000         1173.180000        10.000000    58.64000   56.770000      2.000000    2.000000    2.000000    2.000000    0.101449\n",
       "75%        8740.970000        9.500000         1.440000             44.000000    2422.000000         53.600000    1.940000        52.000000       76.000000      1.480000     8.000000         1173.180000        12.000000    63.70000   73.500000      3.000000    3.000000    3.000000    3.000000    0.155844\n",
       "max      105147.440000       23.010000        10.640000            101.000000  334221.000000         83.300000   25.900000        96.000000       83.000000     12.230000    10.000000        11154.760000        36.000000    83.20000  100.000000      3.000000    4.000000    4.000000    4.000000    0.291667"
      ]
     },
     "execution_count": 5,
     "metadata": {},
     "output_type": "execute_result"
    }
   ],
   "source": [
    "df.describe()"
   ]
  },
  {
   "cell_type": "code",
   "execution_count": 6,
   "metadata": {},
   "outputs": [
    {
     "data": {
      "text/plain": [
       "Index(['incomeperperson', 'alcconsumption', 'armedforcesrate', 'breastcancerper100th', 'co2emissions', 'femaleemployrate', 'hivrate', 'internetuserate', 'lifeexpectancy', 'oilperperson', 'polityscore', 'relectricperperson', 'suicideper100th', 'employrate', 'urbanrate', 'demoscorecat', 'co2cat', 'incomecat', 'alccat', 'electricat'], dtype='object')"
      ]
     },
     "execution_count": 6,
     "metadata": {},
     "output_type": "execute_result"
    }
   ],
   "source": [
    "df.columns"
   ]
  },
  {
   "cell_type": "markdown",
   "metadata": {},
   "source": [
    "## Hypothesis Testing"
   ]
  },
  {
   "cell_type": "markdown",
   "metadata": {},
   "source": [
    "The goal of hypothesis testing is to answer the question, “Given a sample and an apparent effect, what is the probability of seeing such an effect by chance?” The first step is to quantify the size of the apparent effect by choosing a test statistic (t-test, ANOVA, etc). The next step is to define a null hypothesis, which is a model of the system based on the assumption that the apparent effect is not real. Then compute the p-value, which is the probability of the null hypothesis being true, and finally interpret the result of the p-value, if the value is low, the effect is said to be statistically significant, which means that the null hypothesis may not be accurate."
   ]
  },
  {
   "cell_type": "markdown",
   "metadata": {},
   "source": [
    "### T-Test"
   ]
  },
  {
   "cell_type": "markdown",
   "metadata": {},
   "source": [
    "We will be using the t-test for independent samples. For the independent t-test, the following assumptions must be met.\n",
    "\n",
    "-   One independent, categorical variable with two levels or group\n",
    "-   One dependent continuous variable\n",
    "-   Independence of the observations. Each subject should belong to only one group. There is no relationship between the observations in each group.\n",
    "-   The dependent variable must follow a normal distribution\n",
    "-   Assumption of homogeneity of variance\n"
   ]
  },
  {
   "cell_type": "markdown",
   "metadata": {},
   "source": [
    "State the hypothesis\n",
    "\n",
    "-   $H_0: µ\\_1 = µ\\_2$ (\"there is no difference in evaluation scores between male and females\")\n",
    "-   $H_1: µ\\_1 ≠ µ\\_2$ (\"there is a difference in evaluation scores between male and females\")\n"
   ]
  },
  {
   "cell_type": "markdown",
   "metadata": {},
   "source": [
    "### Levene's Test"
   ]
  },
  {
   "cell_type": "code",
   "execution_count": 7,
   "metadata": {},
   "outputs": [],
   "source": [
    "# scipy.stats.levene(ratings_df[ratings_df['gender'] == 'female']['eval'],\n",
    "#                    ratings_df[ratings_df['gender'] == 'male']['eval'], center='mean')"
   ]
  },
  {
   "cell_type": "markdown",
   "metadata": {},
   "source": [
    "## T-Test"
   ]
  },
  {
   "cell_type": "markdown",
   "metadata": {},
   "source": [
    "### One Sample T-Test"
   ]
  },
  {
   "cell_type": "code",
   "execution_count": 8,
   "metadata": {},
   "outputs": [],
   "source": [
    "# t, p = scipy.stats.ttest_1samp(a=df.dose, popmean=1.166667)"
   ]
  },
  {
   "cell_type": "code",
   "execution_count": 9,
   "metadata": {},
   "outputs": [],
   "source": [
    "# print(\"T-test value is: \", t)\n",
    "# print(\"p-value value is: \", p)"
   ]
  },
  {
   "cell_type": "markdown",
   "metadata": {},
   "source": [
    "### Two Samples T-Test"
   ]
  },
  {
   "cell_type": "code",
   "execution_count": 10,
   "metadata": {},
   "outputs": [],
   "source": [
    "#t, p = scipy.stats.ttest_ind(a=df.len,b=df.dose, equal_var = True/False)"
   ]
  },
  {
   "cell_type": "code",
   "execution_count": 11,
   "metadata": {},
   "outputs": [],
   "source": [
    "# print(\"T-test value is: \",t)\n",
    "# print(\"p-value value is: \",p)"
   ]
  },
  {
   "cell_type": "markdown",
   "metadata": {},
   "source": [
    "### ANOVA"
   ]
  },
  {
   "cell_type": "markdown",
   "metadata": {},
   "source": [
    "We are testing does democracy score affects income per person:\n",
    "\n",
    "Explainary variable: Democracy score\n",
    "\n",
    "Target variable: incomeperperson"
   ]
  },
  {
   "cell_type": "markdown",
   "metadata": {},
   "source": [
    "State the hypothesis\n",
    "\n",
    "-   $H_0: µ\\_1 = µ\\_2$ (the two population means are equal)\n",
    "-   $H_1:$ At least one of the means differ\n"
   ]
  },
  {
   "cell_type": "code",
   "execution_count": 12,
   "metadata": {},
   "outputs": [
    {
     "data": {
      "text/plain": [
       "Index(['incomeperperson', 'alcconsumption', 'armedforcesrate', 'breastcancerper100th', 'co2emissions', 'femaleemployrate', 'hivrate', 'internetuserate', 'lifeexpectancy', 'oilperperson', 'polityscore', 'relectricperperson', 'suicideper100th', 'employrate', 'urbanrate', 'demoscorecat', 'co2cat', 'incomecat', 'alccat', 'electricat'], dtype='object')"
      ]
     },
     "execution_count": 12,
     "metadata": {},
     "output_type": "execute_result"
    }
   ],
   "source": [
    "df.columns"
   ]
  },
  {
   "cell_type": "code",
   "execution_count": 13,
   "metadata": {},
   "outputs": [],
   "source": [
    "df = df[['incomeperperson','demoscorecat']]"
   ]
  },
  {
   "cell_type": "code",
   "execution_count": 14,
   "metadata": {},
   "outputs": [
    {
     "data": {
      "text/html": [
       "<div>\n",
       "<style scoped>\n",
       "    .dataframe tbody tr th:only-of-type {\n",
       "        vertical-align: middle;\n",
       "    }\n",
       "\n",
       "    .dataframe tbody tr th {\n",
       "        vertical-align: top;\n",
       "    }\n",
       "\n",
       "    .dataframe thead th {\n",
       "        text-align: right;\n",
       "    }\n",
       "</style>\n",
       "<table border=\"1\" class=\"dataframe\">\n",
       "  <thead>\n",
       "    <tr style=\"text-align: right;\">\n",
       "      <th></th>\n",
       "      <th>incomeperperson</th>\n",
       "      <th>demoscorecat</th>\n",
       "    </tr>\n",
       "  </thead>\n",
       "  <tbody>\n",
       "    <tr>\n",
       "      <th>0</th>\n",
       "      <td>8740.97</td>\n",
       "      <td>1</td>\n",
       "    </tr>\n",
       "    <tr>\n",
       "      <th>1</th>\n",
       "      <td>1915.00</td>\n",
       "      <td>3</td>\n",
       "    </tr>\n",
       "    <tr>\n",
       "      <th>2</th>\n",
       "      <td>2231.99</td>\n",
       "      <td>2</td>\n",
       "    </tr>\n",
       "    <tr>\n",
       "      <th>3</th>\n",
       "      <td>21943.34</td>\n",
       "      <td>2</td>\n",
       "    </tr>\n",
       "    <tr>\n",
       "      <th>4</th>\n",
       "      <td>1381.00</td>\n",
       "      <td>1</td>\n",
       "    </tr>\n",
       "  </tbody>\n",
       "</table>\n",
       "</div>"
      ],
      "text/plain": [
       "   incomeperperson  demoscorecat\n",
       "0          8740.97             1\n",
       "1          1915.00             3\n",
       "2          2231.99             2\n",
       "3         21943.34             2\n",
       "4          1381.00             1"
      ]
     },
     "execution_count": 14,
     "metadata": {},
     "output_type": "execute_result"
    }
   ],
   "source": [
    "df.head()"
   ]
  },
  {
   "cell_type": "markdown",
   "metadata": {},
   "source": [
    "### One Way ANOVA"
   ]
  },
  {
   "cell_type": "code",
   "execution_count": 15,
   "metadata": {},
   "outputs": [],
   "source": [
    "mod = ols('demoscorecat~incomeperperson', data=df).fit()"
   ]
  },
  {
   "cell_type": "code",
   "execution_count": 16,
   "metadata": {},
   "outputs": [],
   "source": [
    "aov_table = sm.stats.anova_lm(mod,typ=2)"
   ]
  },
  {
   "cell_type": "code",
   "execution_count": 17,
   "metadata": {},
   "outputs": [
    {
     "data": {
      "text/html": [
       "<div>\n",
       "<style scoped>\n",
       "    .dataframe tbody tr th:only-of-type {\n",
       "        vertical-align: middle;\n",
       "    }\n",
       "\n",
       "    .dataframe tbody tr th {\n",
       "        vertical-align: top;\n",
       "    }\n",
       "\n",
       "    .dataframe thead th {\n",
       "        text-align: right;\n",
       "    }\n",
       "</style>\n",
       "<table border=\"1\" class=\"dataframe\">\n",
       "  <thead>\n",
       "    <tr style=\"text-align: right;\">\n",
       "      <th></th>\n",
       "      <th>sum_sq</th>\n",
       "      <th>df</th>\n",
       "      <th>F</th>\n",
       "      <th>PR(&gt;F)</th>\n",
       "    </tr>\n",
       "  </thead>\n",
       "  <tbody>\n",
       "    <tr>\n",
       "      <th>incomeperperson</th>\n",
       "      <td>2.619442</td>\n",
       "      <td>1.0</td>\n",
       "      <td>2.587714</td>\n",
       "      <td>0.109191</td>\n",
       "    </tr>\n",
       "    <tr>\n",
       "      <th>Residual</th>\n",
       "      <td>213.587130</td>\n",
       "      <td>211.0</td>\n",
       "      <td>NaN</td>\n",
       "      <td>NaN</td>\n",
       "    </tr>\n",
       "  </tbody>\n",
       "</table>\n",
       "</div>"
      ],
      "text/plain": [
       "                     sum_sq     df         F    PR(>F)\n",
       "incomeperperson    2.619442    1.0  2.587714  0.109191\n",
       "Residual         213.587130  211.0       NaN       NaN"
      ]
     },
     "execution_count": 17,
     "metadata": {},
     "output_type": "execute_result"
    }
   ],
   "source": [
    "aov_table"
   ]
  },
  {
   "cell_type": "code",
   "execution_count": 18,
   "metadata": {},
   "outputs": [
    {
     "name": "stdout",
     "output_type": "stream",
     "text": [
      "                            OLS Regression Results                            \n",
      "==============================================================================\n",
      "Dep. Variable:           demoscorecat   R-squared:                       0.012\n",
      "Model:                            OLS   Adj. R-squared:                  0.007\n",
      "Method:                 Least Squares   F-statistic:                     2.588\n",
      "Date:                Mon, 22 Mar 2021   Prob (F-statistic):              0.109\n",
      "Time:                        18:53:11   Log-Likelihood:                -302.53\n",
      "No. Observations:                 213   AIC:                             609.1\n",
      "Df Residuals:                     211   BIC:                             615.8\n",
      "Df Model:                           1                                         \n",
      "Covariance Type:            nonrobust                                         \n",
      "===================================================================================\n",
      "                      coef    std err          t      P>|t|      [0.025      0.975]\n",
      "-----------------------------------------------------------------------------------\n",
      "Intercept           1.9889      0.082     24.183      0.000       1.827       2.151\n",
      "incomeperperson  8.254e-06   5.13e-06      1.609      0.109   -1.86e-06    1.84e-05\n",
      "==============================================================================\n",
      "Omnibus:                       21.522   Durbin-Watson:                   2.345\n",
      "Prob(Omnibus):                  0.000   Jarque-Bera (JB):               23.700\n",
      "Skew:                          -0.780   Prob(JB):                     7.14e-06\n",
      "Kurtosis:                       2.514   Cond. No.                     1.91e+04\n",
      "==============================================================================\n",
      "\n",
      "Notes:\n",
      "[1] Standard Errors assume that the covariance matrix of the errors is correctly specified.\n",
      "[2] The condition number is large, 1.91e+04. This might indicate that there are\n",
      "strong multicollinearity or other numerical problems.\n"
     ]
    }
   ],
   "source": [
    "print(mod.summary())"
   ]
  },
  {
   "cell_type": "code",
   "execution_count": 32,
   "metadata": {},
   "outputs": [
    {
     "data": {
      "text/plain": [
       "Intercept          9.588761e-63\n",
       "incomeperperson    1.091909e-01\n",
       "dtype: float64"
      ]
     },
     "execution_count": 32,
     "metadata": {},
     "output_type": "execute_result"
    }
   ],
   "source": [
    "mod.pvalues"
   ]
  },
  {
   "cell_type": "code",
   "execution_count": 19,
   "metadata": {},
   "outputs": [],
   "source": [
    "# f_statistic, p_value = scipy.stats.f_oneway(forty_lower, forty_fiftyseven, fiftyseven_older)\n",
    "# print(\"F_Statistic: {0}, P-Value: {1}\".format(f_statistic,p_value))"
   ]
  },
  {
   "cell_type": "markdown",
   "metadata": {},
   "source": [
    "### Two-way ANOVA"
   ]
  },
  {
   "cell_type": "code",
   "execution_count": 20,
   "metadata": {},
   "outputs": [],
   "source": [
    "#mod1 = ols('len~supp+dose', data=df).fit()"
   ]
  },
  {
   "cell_type": "code",
   "execution_count": 21,
   "metadata": {},
   "outputs": [],
   "source": [
    "#aov1 = sm.stats.anova_lm(mod1,typ=2)"
   ]
  },
  {
   "cell_type": "code",
   "execution_count": 22,
   "metadata": {},
   "outputs": [],
   "source": [
    "#aov1"
   ]
  },
  {
   "cell_type": "markdown",
   "metadata": {},
   "source": [
    "### Chi-square"
   ]
  },
  {
   "cell_type": "markdown",
   "metadata": {},
   "source": [
    "State the hypothesis:\n",
    "\n",
    "-   $H_0:$ The proportion of teachers who are tenured is independent of gender\n",
    "-   $H_1:$ The proportion of teachers who are tenured is associated with gender"
   ]
  },
  {
   "cell_type": "code",
   "execution_count": 23,
   "metadata": {},
   "outputs": [],
   "source": [
    "#Create a Cross-tab table\n",
    "\n",
    "# cont_table  = pd.crosstab(ratings_df['tenure'], ratings_df['gender'])\n",
    "# cont_table"
   ]
  },
  {
   "cell_type": "code",
   "execution_count": 24,
   "metadata": {},
   "outputs": [],
   "source": [
    "#scipy.stats.chi2_contingency(cont_table, correction = True)"
   ]
  },
  {
   "cell_type": "markdown",
   "metadata": {},
   "source": [
    "### Correlation"
   ]
  },
  {
   "cell_type": "markdown",
   "metadata": {},
   "source": [
    "State the hypothesis:\n",
    "\n",
    "-   $H_0:$ Teaching evaluation score is not correlated with beauty score\n",
    "-   $H_1:$ Teaching evaluation score is correlated with beauty score\n"
   ]
  },
  {
   "cell_type": "code",
   "execution_count": 25,
   "metadata": {},
   "outputs": [],
   "source": [
    "#scipy.stats.pearsonr(ratings_df['beauty'], ratings_df['eval'])"
   ]
  },
  {
   "cell_type": "markdown",
   "metadata": {},
   "source": [
    "## Regression Analysis"
   ]
  },
  {
   "cell_type": "code",
   "execution_count": 26,
   "metadata": {},
   "outputs": [
    {
     "data": {
      "text/plain": [
       "Index(['incomeperperson', 'demoscorecat'], dtype='object')"
      ]
     },
     "execution_count": 26,
     "metadata": {},
     "output_type": "execute_result"
    }
   ],
   "source": [
    "df.columns"
   ]
  },
  {
   "cell_type": "code",
   "execution_count": 27,
   "metadata": {},
   "outputs": [],
   "source": [
    "y = df['incomeperperson']\n",
    "X = df['demoscorecat']"
   ]
  },
  {
   "cell_type": "code",
   "execution_count": 28,
   "metadata": {},
   "outputs": [],
   "source": [
    "X = sm.add_constant(X)"
   ]
  },
  {
   "cell_type": "code",
   "execution_count": 29,
   "metadata": {},
   "outputs": [],
   "source": [
    "model = sm.OLS(y,X).fit()"
   ]
  },
  {
   "cell_type": "code",
   "execution_count": 30,
   "metadata": {},
   "outputs": [
    {
     "data": {
      "text/html": [
       "<table class=\"simpletable\">\n",
       "<caption>OLS Regression Results</caption>\n",
       "<tr>\n",
       "  <th>Dep. Variable:</th>     <td>incomeperperson</td> <th>  R-squared:         </th> <td>   0.012</td>\n",
       "</tr>\n",
       "<tr>\n",
       "  <th>Model:</th>                   <td>OLS</td>       <th>  Adj. R-squared:    </th> <td>   0.007</td>\n",
       "</tr>\n",
       "<tr>\n",
       "  <th>Method:</th>             <td>Least Squares</td>  <th>  F-statistic:       </th> <td>   2.588</td>\n",
       "</tr>\n",
       "<tr>\n",
       "  <th>Date:</th>             <td>Mon, 22 Mar 2021</td> <th>  Prob (F-statistic):</th>  <td> 0.109</td> \n",
       "</tr>\n",
       "<tr>\n",
       "  <th>Time:</th>                 <td>18:53:12</td>     <th>  Log-Likelihood:    </th> <td> -2325.6</td>\n",
       "</tr>\n",
       "<tr>\n",
       "  <th>No. Observations:</th>      <td>   213</td>      <th>  AIC:               </th> <td>   4655.</td>\n",
       "</tr>\n",
       "<tr>\n",
       "  <th>Df Residuals:</th>          <td>   211</td>      <th>  BIC:               </th> <td>   4662.</td>\n",
       "</tr>\n",
       "<tr>\n",
       "  <th>Df Model:</th>              <td>     1</td>      <th>                     </th>     <td> </td>   \n",
       "</tr>\n",
       "<tr>\n",
       "  <th>Covariance Type:</th>      <td>nonrobust</td>    <th>                     </th>     <td> </td>   \n",
       "</tr>\n",
       "</table>\n",
       "<table class=\"simpletable\">\n",
       "<tr>\n",
       "        <td></td>          <th>coef</th>     <th>std err</th>      <th>t</th>      <th>P>|t|</th>  <th>[0.025</th>    <th>0.975]</th>  \n",
       "</tr>\n",
       "<tr>\n",
       "  <th>const</th>        <td> 5715.7502</td> <td> 2093.276</td> <td>    2.731</td> <td> 0.007</td> <td> 1589.338</td> <td> 9842.163</td>\n",
       "</tr>\n",
       "<tr>\n",
       "  <th>demoscorecat</th> <td> 1467.8156</td> <td>  912.459</td> <td>    1.609</td> <td> 0.109</td> <td> -330.888</td> <td> 3266.519</td>\n",
       "</tr>\n",
       "</table>\n",
       "<table class=\"simpletable\">\n",
       "<tr>\n",
       "  <th>Omnibus:</th>       <td>187.676</td> <th>  Durbin-Watson:     </th> <td>   1.981</td>\n",
       "</tr>\n",
       "<tr>\n",
       "  <th>Prob(Omnibus):</th> <td> 0.000</td>  <th>  Jarque-Bera (JB):  </th> <td>2932.661</td>\n",
       "</tr>\n",
       "<tr>\n",
       "  <th>Skew:</th>          <td> 3.446</td>  <th>  Prob(JB):          </th> <td>    0.00</td>\n",
       "</tr>\n",
       "<tr>\n",
       "  <th>Kurtosis:</th>      <td>19.821</td>  <th>  Cond. No.          </th> <td>    6.05</td>\n",
       "</tr>\n",
       "</table><br/><br/>Notes:<br/>[1] Standard Errors assume that the covariance matrix of the errors is correctly specified."
      ],
      "text/plain": [
       "<class 'statsmodels.iolib.summary.Summary'>\n",
       "\"\"\"\n",
       "                            OLS Regression Results                            \n",
       "==============================================================================\n",
       "Dep. Variable:        incomeperperson   R-squared:                       0.012\n",
       "Model:                            OLS   Adj. R-squared:                  0.007\n",
       "Method:                 Least Squares   F-statistic:                     2.588\n",
       "Date:                Mon, 22 Mar 2021   Prob (F-statistic):              0.109\n",
       "Time:                        18:53:12   Log-Likelihood:                -2325.6\n",
       "No. Observations:                 213   AIC:                             4655.\n",
       "Df Residuals:                     211   BIC:                             4662.\n",
       "Df Model:                           1                                         \n",
       "Covariance Type:            nonrobust                                         \n",
       "================================================================================\n",
       "                   coef    std err          t      P>|t|      [0.025      0.975]\n",
       "--------------------------------------------------------------------------------\n",
       "const         5715.7502   2093.276      2.731      0.007    1589.338    9842.163\n",
       "demoscorecat  1467.8156    912.459      1.609      0.109    -330.888    3266.519\n",
       "==============================================================================\n",
       "Omnibus:                      187.676   Durbin-Watson:                   1.981\n",
       "Prob(Omnibus):                  0.000   Jarque-Bera (JB):             2932.661\n",
       "Skew:                           3.446   Prob(JB):                         0.00\n",
       "Kurtosis:                      19.821   Cond. No.                         6.05\n",
       "==============================================================================\n",
       "\n",
       "Notes:\n",
       "[1] Standard Errors assume that the covariance matrix of the errors is correctly specified.\n",
       "\"\"\""
      ]
     },
     "execution_count": 30,
     "metadata": {},
     "output_type": "execute_result"
    }
   ],
   "source": [
    "model.summary()"
   ]
  },
  {
   "cell_type": "markdown",
   "metadata": {},
   "source": [
    "#### Python code done by Dennis Lam"
   ]
  },
  {
   "cell_type": "code",
   "execution_count": null,
   "metadata": {},
   "outputs": [],
   "source": []
  }
 ],
 "metadata": {
  "kernelspec": {
   "display_name": "Python 3",
   "language": "python",
   "name": "python3"
  },
  "language_info": {
   "codemirror_mode": {
    "name": "ipython",
    "version": 3
   },
   "file_extension": ".py",
   "mimetype": "text/x-python",
   "name": "python",
   "nbconvert_exporter": "python",
   "pygments_lexer": "ipython3",
   "version": "3.8.8"
  }
 },
 "nbformat": 4,
 "nbformat_minor": 4
}
